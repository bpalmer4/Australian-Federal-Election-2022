{
 "cells": [
  {
   "cell_type": "markdown",
   "id": "7b00fd31",
   "metadata": {},
   "source": [
    "# Betting markets - chart election winner at sportsbet"
   ]
  },
  {
   "cell_type": "markdown",
   "id": "ca468a34",
   "metadata": {
    "toc": true
   },
   "source": [
    "<h1>Table of Contents<span class=\"tocSkip\"></span></h1>\n",
    "<div class=\"toc\"><ul class=\"toc-item\"><li><span><a href=\"#Python-set-up\" data-toc-modified-id=\"Python-set-up-1\"><span class=\"toc-item-num\">1&nbsp;&nbsp;</span>Python set-up</a></span></li><li><span><a href=\"#Get-data\" data-toc-modified-id=\"Get-data-2\"><span class=\"toc-item-num\">2&nbsp;&nbsp;</span>Get data</a></span></li><li><span><a href=\"#Convert-odds-to-probabilities\" data-toc-modified-id=\"Convert-odds-to-probabilities-3\"><span class=\"toc-item-num\">3&nbsp;&nbsp;</span>Convert odds to probabilities</a></span></li><li><span><a href=\"#Plot-probabilities\" data-toc-modified-id=\"Plot-probabilities-4\"><span class=\"toc-item-num\">4&nbsp;&nbsp;</span>Plot probabilities</a></span><ul class=\"toc-item\"><li><span><a href=\"#Type-of-Parliament\" data-toc-modified-id=\"Type-of-Parliament-4.1\"><span class=\"toc-item-num\">4.1&nbsp;&nbsp;</span>Type of Parliament</a></span></li><li><span><a href=\"#Election-winner\" data-toc-modified-id=\"Election-winner-4.2\"><span class=\"toc-item-num\">4.2&nbsp;&nbsp;</span>Election winner</a></span></li></ul></li></ul></div>"
   ]
  },
  {
   "cell_type": "markdown",
   "id": "ca41c267",
   "metadata": {},
   "source": [
    "## Python set-up"
   ]
  },
  {
   "cell_type": "code",
   "execution_count": 1,
   "id": "7d3bc55b",
   "metadata": {
    "ExecuteTime": {
     "end_time": "2022-02-15T02:21:55.200358Z",
     "start_time": "2022-02-15T02:21:37.390318Z"
    }
   },
   "outputs": [],
   "source": [
    "import datetime\n",
    "\n",
    "import numpy as np\n",
    "import pandas as pd\n",
    "import matplotlib.pyplot as plt\n",
    "\n",
    "import matplotlib.dates as mdates\n",
    "import matplotlib.units as munits\n",
    "import matplotlib.ticker as ticker\n",
    "from matplotlib.ticker import MaxNLocator\n",
    "\n",
    "import common\n",
    "\n",
    "# matplotlib stuff for date formatting xticklabels\n",
    "converter = mdates.ConciseDateConverter()\n",
    "munits.registry[np.datetime64] = converter\n",
    "munits.registry[datetime.date] = converter\n",
    "munits.registry[datetime.datetime] = converter\n",
    "munits.registry[pd.Timestamp] = converter\n",
    "munits.registry[pd.Period] = converter\n",
    "plt.style.use('./markgraph.mplstyle')"
   ]
  },
  {
   "cell_type": "markdown",
   "id": "b6ec3056",
   "metadata": {},
   "source": [
    "## Get data"
   ]
  },
  {
   "cell_type": "code",
   "execution_count": 2,
   "id": "3747b16d",
   "metadata": {
    "ExecuteTime": {
     "end_time": "2022-02-15T02:21:55.259047Z",
     "start_time": "2022-02-15T02:21:55.208605Z"
    }
   },
   "outputs": [],
   "source": [
    "# type of parliament\n",
    "FILE = '../historical-data/sportsbet-2022-type-of-parliament.csv'\n",
    "top = pd.read_csv(FILE, na_values = '-', parse_dates=['datetime'])\n",
    "top = top.pivot(index='datetime', columns='variable', values='value').sort_index(ascending=True)\n",
    "del top['Any Other'] # ignore longshot bias"
   ]
  },
  {
   "cell_type": "code",
   "execution_count": 3,
   "id": "802b2d88",
   "metadata": {
    "ExecuteTime": {
     "end_time": "2022-02-15T02:21:55.291967Z",
     "start_time": "2022-02-15T02:21:55.260390Z"
    }
   },
   "outputs": [
    {
     "data": {
      "text/html": [
       "<div>\n",
       "<style scoped>\n",
       "    .dataframe tbody tr th:only-of-type {\n",
       "        vertical-align: middle;\n",
       "    }\n",
       "\n",
       "    .dataframe tbody tr th {\n",
       "        vertical-align: top;\n",
       "    }\n",
       "\n",
       "    .dataframe thead th {\n",
       "        text-align: right;\n",
       "    }\n",
       "</style>\n",
       "<table border=\"1\" class=\"dataframe\">\n",
       "  <thead>\n",
       "    <tr style=\"text-align: right;\">\n",
       "      <th>variable</th>\n",
       "      <th>Labor Majority</th>\n",
       "      <th>Labor Minority</th>\n",
       "      <th>Coalition Minority</th>\n",
       "      <th>Coalition Majority</th>\n",
       "    </tr>\n",
       "    <tr>\n",
       "      <th>datetime</th>\n",
       "      <th></th>\n",
       "      <th></th>\n",
       "      <th></th>\n",
       "      <th></th>\n",
       "    </tr>\n",
       "  </thead>\n",
       "  <tbody>\n",
       "    <tr>\n",
       "      <th>2022-02-11 11:45:40.115584</th>\n",
       "      <td>1.7</td>\n",
       "      <td>5.00</td>\n",
       "      <td>4.0</td>\n",
       "      <td>4.50</td>\n",
       "    </tr>\n",
       "    <tr>\n",
       "      <th>2022-02-12 11:45:45.147934</th>\n",
       "      <td>1.7</td>\n",
       "      <td>5.00</td>\n",
       "      <td>4.0</td>\n",
       "      <td>4.50</td>\n",
       "    </tr>\n",
       "    <tr>\n",
       "      <th>2022-02-13 11:45:45.020371</th>\n",
       "      <td>1.7</td>\n",
       "      <td>5.00</td>\n",
       "      <td>4.0</td>\n",
       "      <td>4.50</td>\n",
       "    </tr>\n",
       "    <tr>\n",
       "      <th>2022-02-14 11:45:45.649090</th>\n",
       "      <td>1.6</td>\n",
       "      <td>4.75</td>\n",
       "      <td>4.2</td>\n",
       "      <td>4.75</td>\n",
       "    </tr>\n",
       "    <tr>\n",
       "      <th>2022-02-15 11:45:50.770582</th>\n",
       "      <td>1.6</td>\n",
       "      <td>4.75</td>\n",
       "      <td>4.2</td>\n",
       "      <td>4.75</td>\n",
       "    </tr>\n",
       "  </tbody>\n",
       "</table>\n",
       "</div>"
      ],
      "text/plain": [
       "variable                    Labor Majority  Labor Minority  \\\n",
       "datetime                                                     \n",
       "2022-02-11 11:45:40.115584             1.7            5.00   \n",
       "2022-02-12 11:45:45.147934             1.7            5.00   \n",
       "2022-02-13 11:45:45.020371             1.7            5.00   \n",
       "2022-02-14 11:45:45.649090             1.6            4.75   \n",
       "2022-02-15 11:45:50.770582             1.6            4.75   \n",
       "\n",
       "variable                    Coalition Minority  Coalition Majority  \n",
       "datetime                                                            \n",
       "2022-02-11 11:45:40.115584                 4.0                4.50  \n",
       "2022-02-12 11:45:45.147934                 4.0                4.50  \n",
       "2022-02-13 11:45:45.020371                 4.0                4.50  \n",
       "2022-02-14 11:45:45.649090                 4.2                4.75  \n",
       "2022-02-15 11:45:50.770582                 4.2                4.75  "
      ]
     },
     "execution_count": 3,
     "metadata": {},
     "output_type": "execute_result"
    }
   ],
   "source": [
    "# Fix up column names\n",
    "names = {\n",
    "    'Liberal/National Coalition Majority': 'Coalition Majority',\n",
    "    'Liberal/National Coalition Minority': 'Coalition Minority',\n",
    "}\n",
    "order = ['Labor Majority', 'Labor Minority', 'Coalition Minority', 'Coalition Majority',]\n",
    "top = top.rename(columns=names)[order]\n",
    "top.tail()"
   ]
  },
  {
   "cell_type": "code",
   "execution_count": 4,
   "id": "17b2892a",
   "metadata": {
    "ExecuteTime": {
     "end_time": "2022-02-15T02:21:55.311909Z",
     "start_time": "2022-02-15T02:21:55.295081Z"
    }
   },
   "outputs": [
    {
     "data": {
      "text/html": [
       "<div>\n",
       "<style scoped>\n",
       "    .dataframe tbody tr th:only-of-type {\n",
       "        vertical-align: middle;\n",
       "    }\n",
       "\n",
       "    .dataframe tbody tr th {\n",
       "        vertical-align: top;\n",
       "    }\n",
       "\n",
       "    .dataframe thead th {\n",
       "        text-align: right;\n",
       "    }\n",
       "</style>\n",
       "<table border=\"1\" class=\"dataframe\">\n",
       "  <thead>\n",
       "    <tr style=\"text-align: right;\">\n",
       "      <th>variable</th>\n",
       "      <th>Coalition</th>\n",
       "      <th>Labor</th>\n",
       "    </tr>\n",
       "    <tr>\n",
       "      <th>datetime</th>\n",
       "      <th></th>\n",
       "      <th></th>\n",
       "    </tr>\n",
       "  </thead>\n",
       "  <tbody>\n",
       "    <tr>\n",
       "      <th>2022-02-11 12:15:32.009856</th>\n",
       "      <td>3.00</td>\n",
       "      <td>1.37</td>\n",
       "    </tr>\n",
       "    <tr>\n",
       "      <th>2022-02-12 12:15:46.609415</th>\n",
       "      <td>3.00</td>\n",
       "      <td>1.37</td>\n",
       "    </tr>\n",
       "    <tr>\n",
       "      <th>2022-02-13 12:15:46.326157</th>\n",
       "      <td>3.00</td>\n",
       "      <td>1.37</td>\n",
       "    </tr>\n",
       "    <tr>\n",
       "      <th>2022-02-14 12:15:45.479883</th>\n",
       "      <td>3.10</td>\n",
       "      <td>1.35</td>\n",
       "    </tr>\n",
       "    <tr>\n",
       "      <th>2022-02-15 12:15:45.230344</th>\n",
       "      <td>3.15</td>\n",
       "      <td>1.32</td>\n",
       "    </tr>\n",
       "  </tbody>\n",
       "</table>\n",
       "</div>"
      ],
      "text/plain": [
       "variable                    Coalition  Labor\n",
       "datetime                                    \n",
       "2022-02-11 12:15:32.009856       3.00   1.37\n",
       "2022-02-12 12:15:46.609415       3.00   1.37\n",
       "2022-02-13 12:15:46.326157       3.00   1.37\n",
       "2022-02-14 12:15:45.479883       3.10   1.35\n",
       "2022-02-15 12:15:45.230344       3.15   1.32"
      ]
     },
     "execution_count": 4,
     "metadata": {},
     "output_type": "execute_result"
    }
   ],
   "source": [
    "# election winner\n",
    "FILE = '../historical-data/sportsbet-2022-election-winner.csv'\n",
    "ew = pd.read_csv(FILE, na_values = '-', parse_dates=['datetime'])\n",
    "ew = ew.pivot(index='datetime', columns='variable', values='value').sort_index(ascending=True)\n",
    "del ew['Any Other'] # ignore longshot bias\n",
    "ew.tail()"
   ]
  },
  {
   "cell_type": "markdown",
   "id": "790b780e",
   "metadata": {},
   "source": [
    "## Convert odds to probabilities"
   ]
  },
  {
   "cell_type": "code",
   "execution_count": 5,
   "id": "d0a8949a",
   "metadata": {
    "ExecuteTime": {
     "end_time": "2022-02-15T02:21:55.317451Z",
     "start_time": "2022-02-15T02:21:55.313590Z"
    }
   },
   "outputs": [],
   "source": [
    "def convert(odds: pd.DataFrame) -> pd.DataFrame:\n",
    "    \n",
    "    # get raw probabilities\n",
    "    raw_probs = 1 / odds\n",
    "    \n",
    "    # remove the bookmakers overround\n",
    "    total = raw_probs.sum(axis=1)\n",
    "    adj_probs = raw_probs.div(total, axis=0)\n",
    "    \n",
    "    return adj_probs"
   ]
  },
  {
   "cell_type": "code",
   "execution_count": 6,
   "id": "809962d9",
   "metadata": {
    "ExecuteTime": {
     "end_time": "2022-02-15T02:21:55.326214Z",
     "start_time": "2022-02-15T02:21:55.319152Z"
    }
   },
   "outputs": [
    {
     "data": {
      "text/html": [
       "<div>\n",
       "<style scoped>\n",
       "    .dataframe tbody tr th:only-of-type {\n",
       "        vertical-align: middle;\n",
       "    }\n",
       "\n",
       "    .dataframe tbody tr th {\n",
       "        vertical-align: top;\n",
       "    }\n",
       "\n",
       "    .dataframe thead th {\n",
       "        text-align: right;\n",
       "    }\n",
       "</style>\n",
       "<table border=\"1\" class=\"dataframe\">\n",
       "  <thead>\n",
       "    <tr style=\"text-align: right;\">\n",
       "      <th>variable</th>\n",
       "      <th>Labor Majority</th>\n",
       "      <th>Labor Minority</th>\n",
       "      <th>Coalition Minority</th>\n",
       "      <th>Coalition Majority</th>\n",
       "    </tr>\n",
       "    <tr>\n",
       "      <th>datetime</th>\n",
       "      <th></th>\n",
       "      <th></th>\n",
       "      <th></th>\n",
       "      <th></th>\n",
       "    </tr>\n",
       "  </thead>\n",
       "  <tbody>\n",
       "    <tr>\n",
       "      <th>2022-02-11 11:45:40.115584</th>\n",
       "      <td>0.466684</td>\n",
       "      <td>0.158673</td>\n",
       "      <td>0.198341</td>\n",
       "      <td>0.176303</td>\n",
       "    </tr>\n",
       "    <tr>\n",
       "      <th>2022-02-12 11:45:45.147934</th>\n",
       "      <td>0.466684</td>\n",
       "      <td>0.158673</td>\n",
       "      <td>0.198341</td>\n",
       "      <td>0.176303</td>\n",
       "    </tr>\n",
       "    <tr>\n",
       "      <th>2022-02-13 11:45:45.020371</th>\n",
       "      <td>0.466684</td>\n",
       "      <td>0.158673</td>\n",
       "      <td>0.198341</td>\n",
       "      <td>0.176303</td>\n",
       "    </tr>\n",
       "    <tr>\n",
       "      <th>2022-02-14 11:45:45.649090</th>\n",
       "      <td>0.486704</td>\n",
       "      <td>0.163942</td>\n",
       "      <td>0.185411</td>\n",
       "      <td>0.163942</td>\n",
       "    </tr>\n",
       "    <tr>\n",
       "      <th>2022-02-15 11:45:50.770582</th>\n",
       "      <td>0.486704</td>\n",
       "      <td>0.163942</td>\n",
       "      <td>0.185411</td>\n",
       "      <td>0.163942</td>\n",
       "    </tr>\n",
       "  </tbody>\n",
       "</table>\n",
       "</div>"
      ],
      "text/plain": [
       "variable                    Labor Majority  Labor Minority  \\\n",
       "datetime                                                     \n",
       "2022-02-11 11:45:40.115584        0.466684        0.158673   \n",
       "2022-02-12 11:45:45.147934        0.466684        0.158673   \n",
       "2022-02-13 11:45:45.020371        0.466684        0.158673   \n",
       "2022-02-14 11:45:45.649090        0.486704        0.163942   \n",
       "2022-02-15 11:45:50.770582        0.486704        0.163942   \n",
       "\n",
       "variable                    Coalition Minority  Coalition Majority  \n",
       "datetime                                                            \n",
       "2022-02-11 11:45:40.115584            0.198341            0.176303  \n",
       "2022-02-12 11:45:45.147934            0.198341            0.176303  \n",
       "2022-02-13 11:45:45.020371            0.198341            0.176303  \n",
       "2022-02-14 11:45:45.649090            0.185411            0.163942  \n",
       "2022-02-15 11:45:50.770582            0.185411            0.163942  "
      ]
     },
     "execution_count": 6,
     "metadata": {},
     "output_type": "execute_result"
    }
   ],
   "source": [
    "probs_top = convert(top)\n",
    "probs_top.tail()"
   ]
  },
  {
   "cell_type": "code",
   "execution_count": 7,
   "id": "a1361ad8",
   "metadata": {
    "ExecuteTime": {
     "end_time": "2022-02-15T02:21:55.334077Z",
     "start_time": "2022-02-15T02:21:55.327668Z"
    }
   },
   "outputs": [
    {
     "data": {
      "text/html": [
       "<div>\n",
       "<style scoped>\n",
       "    .dataframe tbody tr th:only-of-type {\n",
       "        vertical-align: middle;\n",
       "    }\n",
       "\n",
       "    .dataframe tbody tr th {\n",
       "        vertical-align: top;\n",
       "    }\n",
       "\n",
       "    .dataframe thead th {\n",
       "        text-align: right;\n",
       "    }\n",
       "</style>\n",
       "<table border=\"1\" class=\"dataframe\">\n",
       "  <thead>\n",
       "    <tr style=\"text-align: right;\">\n",
       "      <th>variable</th>\n",
       "      <th>Coalition</th>\n",
       "      <th>Labor</th>\n",
       "    </tr>\n",
       "    <tr>\n",
       "      <th>datetime</th>\n",
       "      <th></th>\n",
       "      <th></th>\n",
       "    </tr>\n",
       "  </thead>\n",
       "  <tbody>\n",
       "    <tr>\n",
       "      <th>2022-02-11 12:15:32.009856</th>\n",
       "      <td>0.313501</td>\n",
       "      <td>0.686499</td>\n",
       "    </tr>\n",
       "    <tr>\n",
       "      <th>2022-02-12 12:15:46.609415</th>\n",
       "      <td>0.313501</td>\n",
       "      <td>0.686499</td>\n",
       "    </tr>\n",
       "    <tr>\n",
       "      <th>2022-02-13 12:15:46.326157</th>\n",
       "      <td>0.313501</td>\n",
       "      <td>0.686499</td>\n",
       "    </tr>\n",
       "    <tr>\n",
       "      <th>2022-02-14 12:15:45.479883</th>\n",
       "      <td>0.303371</td>\n",
       "      <td>0.696629</td>\n",
       "    </tr>\n",
       "    <tr>\n",
       "      <th>2022-02-15 12:15:45.230344</th>\n",
       "      <td>0.295302</td>\n",
       "      <td>0.704698</td>\n",
       "    </tr>\n",
       "  </tbody>\n",
       "</table>\n",
       "</div>"
      ],
      "text/plain": [
       "variable                    Coalition     Labor\n",
       "datetime                                       \n",
       "2022-02-11 12:15:32.009856   0.313501  0.686499\n",
       "2022-02-12 12:15:46.609415   0.313501  0.686499\n",
       "2022-02-13 12:15:46.326157   0.313501  0.686499\n",
       "2022-02-14 12:15:45.479883   0.303371  0.696629\n",
       "2022-02-15 12:15:45.230344   0.295302  0.704698"
      ]
     },
     "execution_count": 7,
     "metadata": {},
     "output_type": "execute_result"
    }
   ],
   "source": [
    "probs_ew = convert(ew)\n",
    "probs_ew.tail()"
   ]
  },
  {
   "cell_type": "markdown",
   "id": "a398ff06",
   "metadata": {},
   "source": [
    "## Plot probabilities"
   ]
  },
  {
   "cell_type": "markdown",
   "id": "857ec70b",
   "metadata": {},
   "source": [
    "### Type of Parliament"
   ]
  },
  {
   "cell_type": "code",
   "execution_count": 8,
   "id": "27c9642e",
   "metadata": {
    "ExecuteTime": {
     "end_time": "2022-02-15T02:21:55.728758Z",
     "start_time": "2022-02-15T02:21:55.335397Z"
    }
   },
   "outputs": [
    {
     "data": {
      "image/png": "[encoded data removed]",
      "text/plain": [
       "<Figure size 648x324 with 1 Axes>"
      ]
     },
     "metadata": {},
     "output_type": "display_data"
    }
   ],
   "source": [
    "probs_top_pc = probs_top * 100\n",
    "fig, ax = common.initiate_plot()\n",
    "\n",
    "colors = ['darkred', 'tomato', 'dodgerblue', 'mediumblue']\n",
    "\n",
    "from_ = np.repeat(0, len(probs_top_pc))\n",
    "for i, column in enumerate(probs_top_pc.columns):\n",
    "    to_ = from_ + probs_top_pc[column]\n",
    "    ax.fill_between(probs_top_pc.index, from_, to_, label=column, color=colors[i])\n",
    "    from_ = to_\n",
    "ax.legend(loc='lower left', framealpha=0.9, prop={'size':11})\n",
    "ax.axhline(50, lw=1, c='#555555')\n",
    "ax.yaxis.set_major_locator(MaxNLocator(11)) \n",
    "title = f'Sportsbet Type of Parliament After the 2022 Australian Federal Election'\n",
    "common.plot_finalise(ax, title=title, ylabel='Implied Outcome Probability (%)')"
   ]
  },
  {
   "cell_type": "code",
   "execution_count": 9,
   "id": "9458180b",
   "metadata": {
    "ExecuteTime": {
     "end_time": "2022-02-15T02:21:55.733084Z",
     "start_time": "2022-02-15T02:21:55.729735Z"
    }
   },
   "outputs": [],
   "source": [
    "win_prob = pd.DataFrame([probs_top['Labor Majority'] + probs_top['Labor Minority'], \n",
    "                         probs_top['Coalition Minority'] + probs_top['Coalition Majority']],\n",
    "                        index=['Labor', 'Coalition']).T\n",
    "\n"
   ]
  },
  {
   "cell_type": "code",
   "execution_count": 10,
   "id": "572af340",
   "metadata": {
    "ExecuteTime": {
     "end_time": "2022-02-15T02:21:55.738574Z",
     "start_time": "2022-02-15T02:21:55.736280Z"
    }
   },
   "outputs": [],
   "source": [
    "def chart_labor(probs, **kwargs):\n",
    "    fig, ax = common.initiate_plot()\n",
    "    ax.plot(probs.index, probs['Labor'] * 100, lw=2.5, color='darkred')\n",
    "    common.plot_finalise(ax, ylabel='Implied Probability (%)', **kwargs)"
   ]
  },
  {
   "cell_type": "code",
   "execution_count": 11,
   "id": "9ccc5ef5",
   "metadata": {
    "ExecuteTime": {
     "end_time": "2022-02-15T02:21:56.334324Z",
     "start_time": "2022-02-15T02:21:55.740028Z"
    }
   },
   "outputs": [
    {
     "data": {
      "image/png": "[encoded data removed]",
      "text/plain": [
       "<Figure size 648x324 with 1 Axes>"
      ]
     },
     "metadata": {},
     "output_type": "display_data"
    }
   ],
   "source": [
    "chart_labor(win_prob, title='Sportsbet Type of Parliament - Probability of a Labor Government')"
   ]
  },
  {
   "cell_type": "markdown",
   "id": "3033fe09",
   "metadata": {},
   "source": [
    "### Election winner"
   ]
  },
  {
   "cell_type": "code",
   "execution_count": 12,
   "id": "1dd2c4f7",
   "metadata": {
    "ExecuteTime": {
     "end_time": "2022-02-15T02:21:56.626321Z",
     "start_time": "2022-02-15T02:21:56.335538Z"
    }
   },
   "outputs": [
    {
     "data": {
      "image/png": "[encoded data removed]",
      "text/plain": [
       "<Figure size 648x324 with 1 Axes>"
      ]
     },
     "metadata": {},
     "output_type": "display_data"
    }
   ],
   "source": [
    "chart_labor(probs_ew, title='Sportsbet Election Winner - Probability of a Labor Government')"
   ]
  }
 ],
 "metadata": {
  "kernelspec": {
   "display_name": "Python 3 (ipykernel)",
   "language": "python",
   "name": "python3"
  },
  "language_info": {
   "codemirror_mode": {
    "name": "ipython",
    "version": 3
   },
   "file_extension": ".py",
   "mimetype": "text/x-python",
   "name": "python",
   "nbconvert_exporter": "python",
   "pygments_lexer": "ipython3",
   "version": "3.9.10"
  },
  "toc": {
   "base_numbering": 1,
   "nav_menu": {},
   "number_sections": true,
   "sideBar": true,
   "skip_h1_title": true,
   "title_cell": "Table of Contents",
   "title_sidebar": "Contents",
   "toc_cell": true,
   "toc_position": {},
   "toc_section_display": true,
   "toc_window_display": true
  }
 },
 "nbformat": 4,
 "nbformat_minor": 5
}
