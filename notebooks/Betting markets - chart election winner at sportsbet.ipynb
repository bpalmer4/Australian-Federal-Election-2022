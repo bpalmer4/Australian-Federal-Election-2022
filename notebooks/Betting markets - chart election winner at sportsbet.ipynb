{
 "cells": [
  {
   "cell_type": "markdown",
   "id": "7b00fd31",
   "metadata": {},
   "source": [
    "# Betting markets - chart election winner at sportsbet"
   ]
  },
  {
   "cell_type": "markdown",
   "id": "ca468a34",
   "metadata": {
    "toc": true
   },
   "source": [
    "<h1>Table of Contents<span class=\"tocSkip\"></span></h1>\n",
    "<div class=\"toc\"><ul class=\"toc-item\"><li><span><a href=\"#Python-set-up\" data-toc-modified-id=\"Python-set-up-1\"><span class=\"toc-item-num\">1&nbsp;&nbsp;</span>Python set-up</a></span></li><li><span><a href=\"#Get-data\" data-toc-modified-id=\"Get-data-2\"><span class=\"toc-item-num\">2&nbsp;&nbsp;</span>Get data</a></span></li><li><span><a href=\"#Convert-odds-to-probabilities\" data-toc-modified-id=\"Convert-odds-to-probabilities-3\"><span class=\"toc-item-num\">3&nbsp;&nbsp;</span>Convert odds to probabilities</a></span></li><li><span><a href=\"#Plot-probabilities\" data-toc-modified-id=\"Plot-probabilities-4\"><span class=\"toc-item-num\">4&nbsp;&nbsp;</span>Plot probabilities</a></span></li></ul></div>"
   ]
  },
  {
   "cell_type": "markdown",
   "id": "ca41c267",
   "metadata": {},
   "source": [
    "## Python set-up"
   ]
  },
  {
   "cell_type": "code",
   "execution_count": 1,
   "id": "7d3bc55b",
   "metadata": {
    "ExecuteTime": {
     "end_time": "2022-01-18T02:46:05.156481Z",
     "start_time": "2022-01-18T02:46:03.806392Z"
    }
   },
   "outputs": [],
   "source": [
    "import datetime\n",
    "\n",
    "import numpy as np\n",
    "import pandas as pd\n",
    "import matplotlib.pyplot as plt\n",
    "\n",
    "import matplotlib.dates as mdates\n",
    "import matplotlib.units as munits\n",
    "import matplotlib.ticker as ticker\n",
    "from matplotlib.ticker import MaxNLocator\n",
    "\n",
    "import common\n",
    "\n",
    "# matplotlib stuff for date formatting xticklabels\n",
    "converter = mdates.ConciseDateConverter()\n",
    "munits.registry[np.datetime64] = converter\n",
    "munits.registry[datetime.date] = converter\n",
    "munits.registry[datetime.datetime] = converter\n",
    "munits.registry[pd.Timestamp] = converter\n",
    "munits.registry[pd.Period] = converter\n",
    "plt.style.use('./markgraph.mplstyle')"
   ]
  },
  {
   "cell_type": "markdown",
   "id": "b6ec3056",
   "metadata": {},
   "source": [
    "## Get data"
   ]
  },
  {
   "cell_type": "code",
   "execution_count": 2,
   "id": "3747b16d",
   "metadata": {
    "ExecuteTime": {
     "end_time": "2022-01-18T02:46:05.164836Z",
     "start_time": "2022-01-18T02:46:05.157713Z"
    }
   },
   "outputs": [],
   "source": [
    "FILE = '../historical-data/sportsbet-2022-outcome.csv'\n",
    "df = pd.read_csv(FILE, na_values = '-', parse_dates=['datetime'])\n",
    "df = df.pivot(index='datetime', columns='variable', values='value').sort_index(ascending=True)\n",
    "del df['Any Other']"
   ]
  },
  {
   "cell_type": "code",
   "execution_count": 3,
   "id": "5ebcca93",
   "metadata": {
    "ExecuteTime": {
     "end_time": "2022-01-18T02:46:05.169851Z",
     "start_time": "2022-01-18T02:46:05.165847Z"
    }
   },
   "outputs": [
    {
     "data": {
      "text/plain": [
       "dtype('<M8[ns]')"
      ]
     },
     "execution_count": 3,
     "metadata": {},
     "output_type": "execute_result"
    }
   ],
   "source": [
    "df.index.dtype"
   ]
  },
  {
   "cell_type": "code",
   "execution_count": 4,
   "id": "802b2d88",
   "metadata": {
    "ExecuteTime": {
     "end_time": "2022-01-18T02:46:05.180608Z",
     "start_time": "2022-01-18T02:46:05.171594Z"
    }
   },
   "outputs": [
    {
     "data": {
      "text/html": [
       "<div>\n",
       "<style scoped>\n",
       "    .dataframe tbody tr th:only-of-type {\n",
       "        vertical-align: middle;\n",
       "    }\n",
       "\n",
       "    .dataframe tbody tr th {\n",
       "        vertical-align: top;\n",
       "    }\n",
       "\n",
       "    .dataframe thead th {\n",
       "        text-align: right;\n",
       "    }\n",
       "</style>\n",
       "<table border=\"1\" class=\"dataframe\">\n",
       "  <thead>\n",
       "    <tr style=\"text-align: right;\">\n",
       "      <th>variable</th>\n",
       "      <th>Labor Majority</th>\n",
       "      <th>Labor Minority</th>\n",
       "      <th>Coalition Minority</th>\n",
       "      <th>Coalition Majority</th>\n",
       "    </tr>\n",
       "    <tr>\n",
       "      <th>datetime</th>\n",
       "      <th></th>\n",
       "      <th></th>\n",
       "      <th></th>\n",
       "      <th></th>\n",
       "    </tr>\n",
       "  </thead>\n",
       "  <tbody>\n",
       "    <tr>\n",
       "      <th>2022-01-15 11:45:46.184773</th>\n",
       "      <td>2.00</td>\n",
       "      <td>4.0</td>\n",
       "      <td>5.0</td>\n",
       "      <td>3.75</td>\n",
       "    </tr>\n",
       "    <tr>\n",
       "      <th>2022-01-16 11:45:44.876088</th>\n",
       "      <td>2.00</td>\n",
       "      <td>4.0</td>\n",
       "      <td>5.0</td>\n",
       "      <td>3.75</td>\n",
       "    </tr>\n",
       "    <tr>\n",
       "      <th>2022-01-17 11:45:47.095072</th>\n",
       "      <td>2.00</td>\n",
       "      <td>4.0</td>\n",
       "      <td>5.0</td>\n",
       "      <td>3.75</td>\n",
       "    </tr>\n",
       "    <tr>\n",
       "      <th>2022-01-18 11:45:41.870074</th>\n",
       "      <td>1.75</td>\n",
       "      <td>4.3</td>\n",
       "      <td>5.5</td>\n",
       "      <td>4.00</td>\n",
       "    </tr>\n",
       "    <tr>\n",
       "      <th>2022-01-18 12:28:56.826430</th>\n",
       "      <td>1.75</td>\n",
       "      <td>4.3</td>\n",
       "      <td>5.5</td>\n",
       "      <td>4.00</td>\n",
       "    </tr>\n",
       "  </tbody>\n",
       "</table>\n",
       "</div>"
      ],
      "text/plain": [
       "variable                    Labor Majority  Labor Minority  \\\n",
       "datetime                                                     \n",
       "2022-01-15 11:45:46.184773            2.00             4.0   \n",
       "2022-01-16 11:45:44.876088            2.00             4.0   \n",
       "2022-01-17 11:45:47.095072            2.00             4.0   \n",
       "2022-01-18 11:45:41.870074            1.75             4.3   \n",
       "2022-01-18 12:28:56.826430            1.75             4.3   \n",
       "\n",
       "variable                    Coalition Minority  Coalition Majority  \n",
       "datetime                                                            \n",
       "2022-01-15 11:45:46.184773                 5.0                3.75  \n",
       "2022-01-16 11:45:44.876088                 5.0                3.75  \n",
       "2022-01-17 11:45:47.095072                 5.0                3.75  \n",
       "2022-01-18 11:45:41.870074                 5.5                4.00  \n",
       "2022-01-18 12:28:56.826430                 5.5                4.00  "
      ]
     },
     "execution_count": 4,
     "metadata": {},
     "output_type": "execute_result"
    }
   ],
   "source": [
    "# Fix up column names\n",
    "names = {\n",
    "    'Liberal/National Coalition Majority': 'Coalition Majority',\n",
    "    'Liberal/National Coalition Minority': 'Coalition Minority',\n",
    "}\n",
    "order = ['Labor Majority', 'Labor Minority', 'Coalition Minority', 'Coalition Majority',]\n",
    "df = df.rename(columns=names)[order]\n",
    "df.tail()"
   ]
  },
  {
   "cell_type": "markdown",
   "id": "790b780e",
   "metadata": {},
   "source": [
    "## Convert odds to probabilities"
   ]
  },
  {
   "cell_type": "code",
   "execution_count": 5,
   "id": "a1361ad8",
   "metadata": {
    "ExecuteTime": {
     "end_time": "2022-01-18T02:46:05.188578Z",
     "start_time": "2022-01-18T02:46:05.181807Z"
    }
   },
   "outputs": [
    {
     "data": {
      "text/html": [
       "<div>\n",
       "<style scoped>\n",
       "    .dataframe tbody tr th:only-of-type {\n",
       "        vertical-align: middle;\n",
       "    }\n",
       "\n",
       "    .dataframe tbody tr th {\n",
       "        vertical-align: top;\n",
       "    }\n",
       "\n",
       "    .dataframe thead th {\n",
       "        text-align: right;\n",
       "    }\n",
       "</style>\n",
       "<table border=\"1\" class=\"dataframe\">\n",
       "  <thead>\n",
       "    <tr style=\"text-align: right;\">\n",
       "      <th>variable</th>\n",
       "      <th>Labor Majority</th>\n",
       "      <th>Labor Minority</th>\n",
       "      <th>Coalition Minority</th>\n",
       "      <th>Coalition Majority</th>\n",
       "    </tr>\n",
       "    <tr>\n",
       "      <th>datetime</th>\n",
       "      <th></th>\n",
       "      <th></th>\n",
       "      <th></th>\n",
       "      <th></th>\n",
       "    </tr>\n",
       "  </thead>\n",
       "  <tbody>\n",
       "    <tr>\n",
       "      <th>2022-01-15 11:45:46.184773</th>\n",
       "      <td>0.410959</td>\n",
       "      <td>0.205479</td>\n",
       "      <td>0.164384</td>\n",
       "      <td>0.219178</td>\n",
       "    </tr>\n",
       "    <tr>\n",
       "      <th>2022-01-16 11:45:44.876088</th>\n",
       "      <td>0.410959</td>\n",
       "      <td>0.205479</td>\n",
       "      <td>0.164384</td>\n",
       "      <td>0.219178</td>\n",
       "    </tr>\n",
       "    <tr>\n",
       "      <th>2022-01-17 11:45:47.095072</th>\n",
       "      <td>0.410959</td>\n",
       "      <td>0.205479</td>\n",
       "      <td>0.164384</td>\n",
       "      <td>0.219178</td>\n",
       "    </tr>\n",
       "    <tr>\n",
       "      <th>2022-01-18 11:45:41.870074</th>\n",
       "      <td>0.462394</td>\n",
       "      <td>0.188184</td>\n",
       "      <td>0.147125</td>\n",
       "      <td>0.202297</td>\n",
       "    </tr>\n",
       "    <tr>\n",
       "      <th>2022-01-18 12:28:56.826430</th>\n",
       "      <td>0.462394</td>\n",
       "      <td>0.188184</td>\n",
       "      <td>0.147125</td>\n",
       "      <td>0.202297</td>\n",
       "    </tr>\n",
       "  </tbody>\n",
       "</table>\n",
       "</div>"
      ],
      "text/plain": [
       "variable                    Labor Majority  Labor Minority  \\\n",
       "datetime                                                     \n",
       "2022-01-15 11:45:46.184773        0.410959        0.205479   \n",
       "2022-01-16 11:45:44.876088        0.410959        0.205479   \n",
       "2022-01-17 11:45:47.095072        0.410959        0.205479   \n",
       "2022-01-18 11:45:41.870074        0.462394        0.188184   \n",
       "2022-01-18 12:28:56.826430        0.462394        0.188184   \n",
       "\n",
       "variable                    Coalition Minority  Coalition Majority  \n",
       "datetime                                                            \n",
       "2022-01-15 11:45:46.184773            0.164384            0.219178  \n",
       "2022-01-16 11:45:44.876088            0.164384            0.219178  \n",
       "2022-01-17 11:45:47.095072            0.164384            0.219178  \n",
       "2022-01-18 11:45:41.870074            0.147125            0.202297  \n",
       "2022-01-18 12:28:56.826430            0.147125            0.202297  "
      ]
     },
     "execution_count": 5,
     "metadata": {},
     "output_type": "execute_result"
    }
   ],
   "source": [
    "odds = 1 / df\n",
    "total = odds.sum(axis=1)\n",
    "probs = odds.div(total, axis=0)\n",
    "\n",
    "probs.tail()"
   ]
  },
  {
   "cell_type": "markdown",
   "id": "a398ff06",
   "metadata": {},
   "source": [
    "## Plot probabilities"
   ]
  },
  {
   "cell_type": "code",
   "execution_count": 6,
   "id": "27c9642e",
   "metadata": {
    "ExecuteTime": {
     "end_time": "2022-01-18T02:46:05.490309Z",
     "start_time": "2022-01-18T02:46:05.189654Z"
    }
   },
   "outputs": [
    {
     "data": {
      "image/png": "[encoded data removed]",
      "text/plain": [
       "<Figure size 648x324 with 1 Axes>"
      ]
     },
     "metadata": {},
     "output_type": "display_data"
    }
   ],
   "source": [
    "fig, ax = common.initiate_plot()\n",
    "\n",
    "colors = ['darkred', 'tomato', 'dodgerblue', 'mediumblue']\n",
    "\n",
    "from_ = np.repeat(0, len(probs))\n",
    "for i, column in enumerate(probs.columns):\n",
    "    to_ = from_ + probs[column]\n",
    "    ax.fill_between(probs.index, from_, to_, label=column, color=colors[i])\n",
    "    from_ = to_\n",
    "ax.legend(loc='lower left', framealpha=0.9, prop={'size':11})\n",
    "ax.axhline(0.5, lw=1, c='#555555')\n",
    "ax.yaxis.set_major_locator(MaxNLocator(11)) \n",
    "title = f'Sportsbet Odds for the 2022 Australian Federal Election'\n",
    "common.plot_finalise(ax, title=title, ylabel='Probability')"
   ]
  },
  {
   "cell_type": "code",
   "execution_count": 10,
   "id": "9458180b",
   "metadata": {
    "ExecuteTime": {
     "end_time": "2022-01-18T02:53:50.031242Z",
     "start_time": "2022-01-18T02:53:50.021133Z"
    }
   },
   "outputs": [],
   "source": [
    "win_prob = pd.DataFrame([probs['Labor Majority'] + probs['Labor Minority'], \n",
    "                         probs['Coalition Minority'] + probs['Coalition Majority']],\n",
    "                        index=['Labor', 'Coalition']).T\n",
    "\n"
   ]
  },
  {
   "cell_type": "code",
   "execution_count": 12,
   "id": "572af340",
   "metadata": {
    "ExecuteTime": {
     "end_time": "2022-01-18T02:54:02.286227Z",
     "start_time": "2022-01-18T02:54:02.007743Z"
    }
   },
   "outputs": [
    {
     "data": {
      "image/png": "[encoded data removed]",
      "text/plain": [
       "<Figure size 648x324 with 1 Axes>"
      ]
     },
     "metadata": {},
     "output_type": "display_data"
    }
   ],
   "source": [
    "fig, ax = common.initiate_plot()\n",
    "ax.plot(win_prob.index, win_prob['Labor'], lw=2.5, color='darkred')\n",
    "title = 'Sportsbet Odds - Probability of a Labor Win'\n",
    "common.plot_finalise(ax, title=title, ylabel='Probability')"
   ]
  },
  {
   "cell_type": "code",
   "execution_count": null,
   "id": "a8a3b165",
   "metadata": {},
   "outputs": [],
   "source": []
  }
 ],
 "metadata": {
  "kernelspec": {
   "display_name": "Python 3 (ipykernel)",
   "language": "python",
   "name": "python3"
  },
  "language_info": {
   "codemirror_mode": {
    "name": "ipython",
    "version": 3
   },
   "file_extension": ".py",
   "mimetype": "text/x-python",
   "name": "python",
   "nbconvert_exporter": "python",
   "pygments_lexer": "ipython3",
   "version": "3.9.9"
  },
  "toc": {
   "base_numbering": 1,
   "nav_menu": {},
   "number_sections": true,
   "sideBar": true,
   "skip_h1_title": true,
   "title_cell": "Table of Contents",
   "title_sidebar": "Contents",
   "toc_cell": true,
   "toc_position": {},
   "toc_section_display": true,
   "toc_window_display": true
  }
 },
 "nbformat": 4,
 "nbformat_minor": 5
}
