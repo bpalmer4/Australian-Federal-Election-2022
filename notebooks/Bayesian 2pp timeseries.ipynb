{
 "cells": [
  {
   "cell_type": "markdown",
   "id": "2bb64488",
   "metadata": {},
   "source": [
    "# Simple state space model for 2pp voting intention"
   ]
  },
  {
   "cell_type": "markdown",
   "id": "90b76ffb",
   "metadata": {
    "toc": true
   },
   "source": [
    "<h1>Table of Contents<span class=\"tocSkip\"></span></h1>\n",
    "<div class=\"toc\"><ul class=\"toc-item\"><li><span><a href=\"#Python-setup\" data-toc-modified-id=\"Python-setup-1\"><span class=\"toc-item-num\">1&nbsp;&nbsp;</span>Python setup</a></span><ul class=\"toc-item\"><li><span><a href=\"#Set-up-Analysis-constants\" data-toc-modified-id=\"Set-up-Analysis-constants-1.1\"><span class=\"toc-item-num\">1.1&nbsp;&nbsp;</span>Set up Analysis constants</a></span></li></ul></li><li><span><a href=\"#Load-2pp-data-and-prepare-for-analysis\" data-toc-modified-id=\"Load-2pp-data-and-prepare-for-analysis-2\"><span class=\"toc-item-num\">2&nbsp;&nbsp;</span>Load 2pp data and prepare for analysis</a></span></li><li><span><a href=\"#The-model\" data-toc-modified-id=\"The-model-3\"><span class=\"toc-item-num\">3&nbsp;&nbsp;</span>The model</a></span><ul class=\"toc-item\"><li><span><a href=\"#Fit-data-to-model\" data-toc-modified-id=\"Fit-data-to-model-3.1\"><span class=\"toc-item-num\">3.1&nbsp;&nbsp;</span>Fit data to model</a></span></li><li><span><a href=\"#Diagnostics\" data-toc-modified-id=\"Diagnostics-3.2\"><span class=\"toc-item-num\">3.2&nbsp;&nbsp;</span>Diagnostics</a></span></li><li><span><a href=\"#Plot-results\" data-toc-modified-id=\"Plot-results-3.3\"><span class=\"toc-item-num\">3.3&nbsp;&nbsp;</span>Plot results</a></span></li></ul></li><li><span><a href=\"#Warnings\" data-toc-modified-id=\"Warnings-4\"><span class=\"toc-item-num\">4&nbsp;&nbsp;</span>Warnings</a></span></li></ul></div>"
   ]
  },
  {
   "cell_type": "markdown",
   "id": "1c6f7a2c",
   "metadata": {},
   "source": [
    "## Python setup"
   ]
  },
  {
   "cell_type": "code",
   "execution_count": 1,
   "id": "4b90d24a",
   "metadata": {
    "ExecuteTime": {
     "end_time": "2022-01-03T02:58:00.871070Z",
     "start_time": "2022-01-03T02:57:59.268383Z"
    }
   },
   "outputs": [],
   "source": [
    "# Data science imports\n",
    "import numpy as np\n",
    "import pandas as pd\n",
    "import matplotlib as mpl\n",
    "import matplotlib.pyplot as plt\n",
    "import matplotlib.patheffects as pe\n",
    "import arviz as az\n",
    "import stan # install with pip - conda is problematic on the M1\n",
    "\n",
    "# local imports\n",
    "import common\n",
    "from common import COLOR_COALITION, P_COLOR_COALITION"
   ]
  },
  {
   "cell_type": "code",
   "execution_count": 2,
   "id": "c2ddbdf0",
   "metadata": {
    "ExecuteTime": {
     "end_time": "2022-01-03T02:58:00.874743Z",
     "start_time": "2022-01-03T02:58:00.872190Z"
    }
   },
   "outputs": [
    {
     "name": "stdout",
     "output_type": "stream",
     "text": [
      "numpy: 1.21.5\n",
      "pandas: 1.3.5\n",
      "matplotlib: 3.5.1\n",
      "stan: 3.3.0\n",
      "arviz: 0.11.4\n"
     ]
    }
   ],
   "source": [
    "# report versions\n",
    "print(f'numpy: {np.__version__}')\n",
    "print(f'pandas: {pd.__version__}')\n",
    "print(f'matplotlib: {mpl.__version__}')\n",
    "print(f'stan: {stan.__version__}')\n",
    "print(f'arviz: {az.__version__}')"
   ]
  },
  {
   "cell_type": "code",
   "execution_count": 3,
   "id": "6e3b2fc2",
   "metadata": {
    "ExecuteTime": {
     "end_time": "2022-01-03T02:58:00.878027Z",
     "start_time": "2022-01-03T02:58:00.875448Z"
    }
   },
   "outputs": [],
   "source": [
    "# enable stan on jupyter notebook\n",
    "import nest_asyncio\n",
    "nest_asyncio.apply()"
   ]
  },
  {
   "cell_type": "code",
   "execution_count": 4,
   "id": "624eed41",
   "metadata": {
    "ExecuteTime": {
     "end_time": "2022-01-03T02:58:00.880611Z",
     "start_time": "2022-01-03T02:58:00.879241Z"
    }
   },
   "outputs": [],
   "source": [
    "# path to the model data - assume it exists\n",
    "DATA_DIR = '../data/'"
   ]
  },
  {
   "cell_type": "code",
   "execution_count": 5,
   "id": "bac55c6c",
   "metadata": {
    "ExecuteTime": {
     "end_time": "2022-01-03T02:58:00.883976Z",
     "start_time": "2022-01-03T02:58:00.881284Z"
    }
   },
   "outputs": [],
   "source": [
    "# plotting stuff\n",
    "plt.style.use('./markgraph.mplstyle')"
   ]
  },
  {
   "cell_type": "markdown",
   "id": "a978cd23",
   "metadata": {},
   "source": [
    "### Set up Analysis constants"
   ]
  },
  {
   "cell_type": "code",
   "execution_count": 6,
   "id": "87b93474",
   "metadata": {
    "ExecuteTime": {
     "end_time": "2022-01-03T02:58:00.887383Z",
     "start_time": "2022-01-03T02:58:00.884997Z"
    }
   },
   "outputs": [],
   "source": [
    "# Analysis based on this data ...\n",
    "data_file = f'{DATA_DIR}primary_vote.csv' # f'{DATA_DIR}two_party_preferred.csv'\n",
    "POLL_COLUMN = 'Calculated 2pp L/NP' #'2pp vote L/NP'\n",
    "\n",
    "# Minimum polls requirement for a pollster\n",
    "MIMIMUM_POLLS_FROM_POLLSTER = 2\n",
    "# The one ANU poll since 2019 look like a rogue outlier, so let's exclude\n",
    "\n",
    "# Plot left-side footnotes\n",
    "LFOOTER = (\n",
    "    'Polling data from Wikipedia; '\n",
    "    '2pp calculated from primary votes and 2019 preference flows; '\n",
    "    f'Pollsters ignored with < {MIMIMUM_POLLS_FROM_POLLSTER} polls.'\n",
    ")"
   ]
  },
  {
   "cell_type": "markdown",
   "id": "a8d32fc6",
   "metadata": {},
   "source": [
    "## Load 2pp data and prepare for analysis"
   ]
  },
  {
   "cell_type": "code",
   "execution_count": 7,
   "id": "64d0c6bf",
   "metadata": {
    "ExecuteTime": {
     "end_time": "2022-01-03T02:58:00.890833Z",
     "start_time": "2022-01-03T02:58:00.888976Z"
    }
   },
   "outputs": [],
   "source": [
    "# Check the data file has been updated today\n",
    "common.check_file_current(data_file, \n",
    "    'Make sure you run the data capture notebook first')"
   ]
  },
  {
   "cell_type": "code",
   "execution_count": 8,
   "id": "cc38cc2e",
   "metadata": {
    "ExecuteTime": {
     "end_time": "2022-01-03T02:58:00.900012Z",
     "start_time": "2022-01-03T02:58:00.891882Z"
    }
   },
   "outputs": [
    {
     "data": {
      "text/plain": [
       "Index(['Primary vote L/NP', 'Primary vote ALP', 'Primary vote GRN',\n",
       "       'Primary vote ONP', 'Primary vote OTH', 'Date', 'Mean Date', 'Brand',\n",
       "       'Interview mode', 'Sample size', 'Calculated 2pp L/NP',\n",
       "       'Calculated 2pp ALP'],\n",
       "      dtype='object')"
      ]
     },
     "execution_count": 8,
     "metadata": {},
     "output_type": "execute_result"
    }
   ],
   "source": [
    "# read in 2pp data; remind me, what are the column names ...\n",
    "tpp = pd.read_csv(data_file, parse_dates=['Mean Date'], index_col=0)\n",
    "tpp.columns"
   ]
  },
  {
   "cell_type": "code",
   "execution_count": 9,
   "id": "7602afb1",
   "metadata": {
    "ExecuteTime": {
     "end_time": "2022-01-03T02:58:00.903889Z",
     "start_time": "2022-01-03T02:58:00.900988Z"
    }
   },
   "outputs": [
    {
     "data": {
      "text/plain": [
       "109"
      ]
     },
     "execution_count": 9,
     "metadata": {},
     "output_type": "execute_result"
    }
   ],
   "source": [
    "# Number of polls\n",
    "len(tpp)"
   ]
  },
  {
   "cell_type": "code",
   "execution_count": 10,
   "id": "44fad8b5",
   "metadata": {
    "ExecuteTime": {
     "end_time": "2022-01-03T02:58:00.909707Z",
     "start_time": "2022-01-03T02:58:00.906156Z"
    }
   },
   "outputs": [
    {
     "data": {
      "text/plain": [
       "Newspoll-YouGov                   40\n",
       "Essential                         40\n",
       "Roy Morgan                        20\n",
       "Resolve Strategic                  8\n",
       "Australian National University     1\n",
       "Name: Brand, dtype: int64"
      ]
     },
     "execution_count": 10,
     "metadata": {},
     "output_type": "execute_result"
    }
   ],
   "source": [
    "# Number of polls from each pollster\n",
    "brand_counts = tpp['Brand'].value_counts()\n",
    "brand_counts"
   ]
  },
  {
   "cell_type": "code",
   "execution_count": 11,
   "id": "6714626e",
   "metadata": {
    "ExecuteTime": {
     "end_time": "2022-01-03T02:58:00.916780Z",
     "start_time": "2022-01-03T02:58:00.910963Z"
    }
   },
   "outputs": [
    {
     "data": {
      "text/plain": [
       "Newspoll-YouGov      40\n",
       "Essential            40\n",
       "Roy Morgan           20\n",
       "Resolve Strategic     8\n",
       "Name: Brand, dtype: int64"
      ]
     },
     "execution_count": 11,
     "metadata": {},
     "output_type": "execute_result"
    }
   ],
   "source": [
    "# Remove pollsters with minimal polling history\n",
    "keep = brand_counts[brand_counts >= MIMIMUM_POLLS_FROM_POLLSTER].index\n",
    "tpp = tpp[tpp['Brand'].isin(keep)]\n",
    "tpp['Brand'].value_counts()"
   ]
  },
  {
   "cell_type": "code",
   "execution_count": 12,
   "id": "66a87c75",
   "metadata": {
    "ExecuteTime": {
     "end_time": "2022-01-03T02:58:00.920676Z",
     "start_time": "2022-01-03T02:58:00.918023Z"
    }
   },
   "outputs": [
    {
     "data": {
      "text/plain": [
       "108"
      ]
     },
     "execution_count": 12,
     "metadata": {},
     "output_type": "execute_result"
    }
   ],
   "source": [
    "len(tpp)"
   ]
  },
  {
   "cell_type": "markdown",
   "id": "809d832a",
   "metadata": {},
   "source": [
    "## The model"
   ]
  },
  {
   "cell_type": "markdown",
   "id": "748d69df",
   "metadata": {},
   "source": [
    "### Fit data to model"
   ]
  },
  {
   "cell_type": "code",
   "execution_count": 13,
   "id": "5cf66cf7",
   "metadata": {
    "ExecuteTime": {
     "end_time": "2022-01-03T02:58:04.803207Z",
     "start_time": "2022-01-03T02:58:00.921415Z"
    },
    "scrolled": false
   },
   "outputs": [
    {
     "name": "stdout",
     "output_type": "stream",
     "text": [
      "Stan version: 3.3.0\n",
      "\u001b[36mBuilding:\u001b[0m 0.2s\n",
      "\u001b[1A\u001b[0J\u001b[36mBuilding:\u001b[0m 0.3s\n",
      "\u001b[1A\u001b[0J\u001b[36mBuilding:\u001b[0m 0.4s\n",
      "\u001b[1A\u001b[0J\u001b[36mBuilding:\u001b[0m 0.5s\n"
     ]
    },
    {
     "name": "stderr",
     "output_type": "stream",
     "text": [
      "In file included from /Users/bryanpalmer/Library/Caches/httpstan/4.6.1/models/7jptub3f/model_7jptub3f.cpp:2:\n",
      "In file included from /Users/bryanpalmer/miniforge3/lib/python3.9/site-packages/httpstan/include/stan/model/model_header.hpp:4:\n",
      "In file included from /Users/bryanpalmer/miniforge3/lib/python3.9/site-packages/httpstan/include/stan/math.hpp:19:\n",
      "In file included from /Users/bryanpalmer/miniforge3/lib/python3.9/site-packages/httpstan/include/stan/math/rev.hpp:4:\n",
      "In file included from /Users/bryanpalmer/miniforge3/lib/python3.9/site-packages/httpstan/include/stan/math/prim/fun/Eigen.hpp:22:\n",
      "In file included from /Users/bryanpalmer/miniforge3/lib/python3.9/site-packages/httpstan/include/Eigen/Dense:1:\n",
      "In file included from /Users/bryanpalmer/miniforge3/lib/python3.9/site-packages/httpstan/include/Eigen/Core:96:\n",
      "In file included from /Users/bryanpalmer/miniforge3/bin/../include/c++/v1/complex:237:\n",
      "/Users/bryanpalmer/miniforge3/bin/../include/c++/v1/cmath:321:9: error: no member named 'signbit' in the global namespace\n",
      "using ::signbit;\n",
      "      ~~^\n",
      "/Users/bryanpalmer/miniforge3/bin/../include/c++/v1/cmath:322:9: error: no member named 'fpclassify' in the global namespace\n",
      "using ::fpclassify;\n",
      "      ~~^\n",
      "/Users/bryanpalmer/miniforge3/bin/../include/c++/v1/cmath:323:9: error: no member named 'isfinite' in the global namespace; did you mean 'finite'?\n",
      "using ::isfinite;\n",
      "      ~~^\n",
      "/Applications/Xcode.app/Contents/Developer/Platforms/MacOSX.platform/Developer/SDKs/MacOSX.sdk/usr/include/math.h:752:12: note: 'finite' declared here\n",
      "extern int finite(double)\n",
      "           ^\n",
      "In file included from /Users/bryanpalmer/Library/Caches/httpstan/4.6.1/models/7jptub3f/model_7jptub3f.cpp:2:\n",
      "In file included from /Users/bryanpalmer/miniforge3/lib/python3.9/site-packages/httpstan/include/stan/model/model_header.hpp:4:\n",
      "In file included from /Users/bryanpalmer/miniforge3/lib/python3.9/site-packages/httpstan/include/stan/math.hpp:19:\n",
      "In file included from /Users/bryanpalmer/miniforge3/lib/python3.9/site-packages/httpstan/include/stan/math/rev.hpp:4:\n",
      "In file included from /Users/bryanpalmer/miniforge3/lib/python3.9/site-packages/httpstan/include/stan/math/prim/fun/Eigen.hpp:22:\n",
      "In file included from /Users/bryanpalmer/miniforge3/lib/python3.9/site-packages/httpstan/include/Eigen/Dense:1:\n",
      "In file included from /Users/bryanpalmer/miniforge3/lib/python3.9/site-packages/httpstan/include/Eigen/Core:96:\n",
      "In file included from /Users/bryanpalmer/miniforge3/bin/../include/c++/v1/complex:237:\n",
      "/Users/bryanpalmer/miniforge3/bin/../include/c++/v1/cmath:324:9: error: no member named 'isinf' in the global namespace\n",
      "using ::isinf;\n",
      "      ~~^\n",
      "/Users/bryanpalmer/miniforge3/bin/../include/c++/v1/cmath:325:9: error: no member named 'isnan' in the global namespace\n",
      "using ::isnan;\n",
      "      ~~^\n",
      "/Users/bryanpalmer/miniforge3/bin/../include/c++/v1/cmath:326:9: error: no member named 'isnormal' in the global namespace\n",
      "using ::isnormal;\n",
      "      ~~^\n",
      "/Users/bryanpalmer/miniforge3/bin/../include/c++/v1/cmath:327:9: error: no member named 'isgreater' in the global namespace\n",
      "using ::isgreater;\n",
      "      ~~^\n",
      "/Users/bryanpalmer/miniforge3/bin/../include/c++/v1/cmath:328:9: error: no member named 'isgreaterequal' in the global namespace\n",
      "using ::isgreaterequal;\n",
      "      ~~^\n",
      "/Users/bryanpalmer/miniforge3/bin/../include/c++/v1/cmath:329:9: error: no member named 'isless' in the global namespace\n",
      "using ::isless;\n",
      "      ~~^\n",
      "/Users/bryanpalmer/miniforge3/bin/../include/c++/v1/cmath:330:9: error: no member named 'islessequal' in the global namespace\n",
      "using ::islessequal;\n",
      "      ~~^\n",
      "/Users/bryanpalmer/miniforge3/bin/../include/c++/v1/cmath:331:9: error: no member named 'islessgreater' in the global namespace\n",
      "using ::islessgreater;\n",
      "      ~~^\n",
      "/Users/bryanpalmer/miniforge3/bin/../include/c++/v1/cmath:332:9: error: no member named 'isunordered' in the global namespace\n",
      "using ::isunordered;\n",
      "      ~~^\n",
      "/Users/bryanpalmer/miniforge3/bin/../include/c++/v1/cmath:333:9: error: no member named 'isunordered' in the global namespace\n",
      "using ::isunordered;\n",
      "      ~~^\n",
      "/Users/bryanpalmer/miniforge3/bin/../include/c++/v1/cmath:644:26: error: no template named 'numeric_limits'\n",
      "    bool _FloatBigger = (numeric_limits<_FloatT>::digits > numeric_limits<_IntT>::digits),\n",
      "                         ^\n",
      "/Users/bryanpalmer/miniforge3/bin/../include/c++/v1/cmath:644:60: error: no template named 'numeric_limits'\n",
      "    bool _FloatBigger = (numeric_limits<_FloatT>::digits > numeric_limits<_IntT>::digits),\n",
      "                                                           ^\n",
      "/Users/bryanpalmer/miniforge3/bin/../include/c++/v1/cmath:645:18: error: no template named 'numeric_limits'\n",
      "    int _Bits = (numeric_limits<_IntT>::digits - numeric_limits<_FloatT>::digits)>\n",
      "                 ^\n",
      "/Users/bryanpalmer/miniforge3/bin/../include/c++/v1/cmath:645:50: error: no template named 'numeric_limits'\n",
      "    int _Bits = (numeric_limits<_IntT>::digits - numeric_limits<_FloatT>::digits)>\n",
      "                                                 ^\n",
      "/Users/bryanpalmer/miniforge3/bin/../include/c++/v1/cmath:650:17: error: no template named 'numeric_limits'\n",
      "  static_assert(numeric_limits<_FloatT>::radix == 2, \"FloatT has incorrect radix\");\n",
      "                ^\n",
      "/Users/bryanpalmer/miniforge3/bin/../include/c++/v1/cmath:653:25: error: no template named 'numeric_limits'\n",
      "  return _FloatBigger ? numeric_limits<_IntT>::max() :  (numeric_limits<_IntT>::max() >> _Bits << _Bits);\n",
      "                        ^\n",
      "fatal error: too many errors emitted, stopping now [-ferror-limit=]\n"
     ]
    },
    {
     "name": "stdout",
     "output_type": "stream",
     "text": [
      "\u001b[1A\u001b[0J\u001b[36mBuilding:\u001b[0m 0.6s\n",
      "\u001b[1A\u001b[0J\u001b[36mBuilding:\u001b[0m 0.7s\n",
      "\u001b[1A\u001b[0J\u001b[36mBuilding:\u001b[0m 0.8s\n",
      "\u001b[1A\u001b[0J\u001b[36mBuilding:\u001b[0m 0.9s\n",
      "\u001b[1A\u001b[0J\u001b[36mBuilding:\u001b[0m 1.0s\n",
      "\u001b[1A\u001b[0J\u001b[36mBuilding:\u001b[0m 1.1s\n",
      "\u001b[1A\u001b[0J\u001b[36mBuilding:\u001b[0m 1.2s\n",
      "\u001b[1A\u001b[0J\u001b[36mBuilding:\u001b[0m 1.3s\n",
      "\u001b[1A\u001b[0J\u001b[36mBuilding:\u001b[0m 1.4s\n",
      "\u001b[1A\u001b[0J\u001b[36mBuilding:\u001b[0m 1.5s\n",
      "\u001b[1A\u001b[0J\u001b[36mBuilding:\u001b[0m 1.6s\n",
      "\u001b[1A\u001b[0J\u001b[36mBuilding:\u001b[0m 1.7s\n",
      "\u001b[1A\u001b[0J\u001b[36mBuilding:\u001b[0m 1.8s\n",
      "\u001b[1A\u001b[0J\u001b[36mBuilding:\u001b[0m 1.9s\n",
      "\u001b[1A\u001b[0J\u001b[36mBuilding:\u001b[0m 2.0s\n",
      "\u001b[1A\u001b[0J\u001b[36mBuilding:\u001b[0m 2.1s\n",
      "\u001b[1A\u001b[0J\u001b[36mBuilding:\u001b[0m 2.2s\n",
      "\u001b[1A\u001b[0J\u001b[36mBuilding:\u001b[0m 2.3s\n",
      "\u001b[1A\u001b[0J\u001b[36mBuilding:\u001b[0m 2.4s\n",
      "\u001b[1A\u001b[0J\u001b[36mBuilding:\u001b[0m 2.5s\n",
      "\u001b[1A\u001b[0J\u001b[36mBuilding:\u001b[0m 2.6s\n",
      "\u001b[1A\u001b[0J\u001b[36mBuilding:\u001b[0m 2.7s\n",
      "\u001b[1A\u001b[0J\u001b[36mBuilding:\u001b[0m 2.8s\n",
      "\u001b[1A\u001b[0J\u001b[36mBuilding:\u001b[0m 2.9s\n",
      "\u001b[1A\u001b[0J\u001b[36mBuilding:\u001b[0m 3.0s\n",
      "\u001b[1A\u001b[0J\u001b[36mBuilding:\u001b[0m 3.1s\n",
      "\u001b[1A\u001b[0J\u001b[36mBuilding:\u001b[0m 3.2s\n",
      "\u001b[1A\u001b[0J\u001b[36mBuilding:\u001b[0m 3.3s\n",
      "\u001b[1A\u001b[0J\u001b[36mBuilding:\u001b[0m 3.4s\n",
      "\u001b[1A\u001b[0J\u001b[36mBuilding:\u001b[0m 3.5s\n",
      "\u001b[1A\u001b[0J\u001b[36mBuilding:\u001b[0m 3.6s\n",
      "\u001b[1A\u001b[0J"
     ]
    },
    {
     "name": "stderr",
     "output_type": "stream",
     "text": [
      "20 errors generated.\n"
     ]
    },
    {
     "ename": "RuntimeError",
     "evalue": "Exception while building model extension module: `CompileError(DistutilsExecError(\"command '/Users/bryanpalmer/miniforge3/bin/x86_64-apple-darwin13.4.0-clang' failed with exit code 1\"))`, traceback: `['  File \"/Users/bryanpalmer/miniforge3/lib/python3.9/site-packages/httpstan/views.py\", line 114, in handle_create_model\\n    compiler_output = await httpstan.models.build_services_extension_module(program_code)\\n', '  File \"/Users/bryanpalmer/miniforge3/lib/python3.9/site-packages/httpstan/models.py\", line 168, in build_services_extension_module\\n    compiler_output = await asyncio.get_running_loop().run_in_executor(\\n', '  File \"/Users/bryanpalmer/miniforge3/lib/python3.9/asyncio/futures.py\", line 284, in __await__\\n    yield self  # This tells Task to wait for completion.\\n', '  File \"/Users/bryanpalmer/miniforge3/lib/python3.9/asyncio/tasks.py\", line 328, in __wakeup\\n    future.result()\\n', '  File \"/Users/bryanpalmer/miniforge3/lib/python3.9/asyncio/futures.py\", line 201, in result\\n    raise self._exception\\n', '  File \"/Users/bryanpalmer/miniforge3/lib/python3.9/concurrent/futures/thread.py\", line 58, in run\\n    result = self.fn(*self.args, **self.kwargs)\\n', '  File \"/Users/bryanpalmer/miniforge3/lib/python3.9/site-packages/httpstan/build_ext.py\", line 80, in run_build_ext\\n    build_extension.run()\\n', '  File \"/Users/bryanpalmer/miniforge3/lib/python3.9/site-packages/setuptools/_distutils/command/build_ext.py\", line 339, in run\\n    self.build_extensions()\\n', '  File \"/Users/bryanpalmer/miniforge3/lib/python3.9/site-packages/setuptools/_distutils/command/build_ext.py\", line 448, in build_extensions\\n    self._build_extensions_serial()\\n', '  File \"/Users/bryanpalmer/miniforge3/lib/python3.9/site-packages/setuptools/_distutils/command/build_ext.py\", line 473, in _build_extensions_serial\\n    self.build_extension(ext)\\n', '  File \"/Users/bryanpalmer/miniforge3/lib/python3.9/site-packages/setuptools/_distutils/command/build_ext.py\", line 528, in build_extension\\n    objects = self.compiler.compile(sources,\\n', '  File \"/Users/bryanpalmer/miniforge3/lib/python3.9/site-packages/setuptools/_distutils/ccompiler.py\", line 574, in compile\\n    self._compile(obj, src, ext, cc_args, extra_postargs, pp_opts)\\n', '  File \"/Users/bryanpalmer/miniforge3/lib/python3.9/site-packages/setuptools/_distutils/unixccompiler.py\", line 120, in _compile\\n    raise CompileError(msg)\\n']`",
     "output_type": "error",
     "traceback": [
      "\u001b[0;31m---------------------------------------------------------------------------\u001b[0m",
      "\u001b[0;31mRuntimeError\u001b[0m                              Traceback (most recent call last)",
      "\u001b[0;32m/var/folders/yp/w0p94kjs6n38mrs_sjkm51pc0000gn/T/ipykernel_83326/3345664242.py\u001b[0m in \u001b[0;36m<module>\u001b[0;34m\u001b[0m\n\u001b[1;32m      1\u001b[0m \u001b[0;31m# this step typically takes around 3 minutes\u001b[0m\u001b[0;34m\u001b[0m\u001b[0;34m\u001b[0m\u001b[0m\n\u001b[0;32m----> 2\u001b[0;31m fit, first_day, brand_map = common.bayes_poll_aggregation(tpp, \n\u001b[0m\u001b[1;32m      3\u001b[0m                               \u001b[0mpoll_column\u001b[0m\u001b[0;34m=\u001b[0m\u001b[0mPOLL_COLUMN\u001b[0m\u001b[0;34m,\u001b[0m\u001b[0;34m\u001b[0m\u001b[0;34m\u001b[0m\u001b[0m\n\u001b[1;32m      4\u001b[0m                               \u001b[0mdate_column\u001b[0m\u001b[0;34m=\u001b[0m\u001b[0;34m'Mean Date'\u001b[0m\u001b[0;34m,\u001b[0m\u001b[0;34m\u001b[0m\u001b[0;34m\u001b[0m\u001b[0m\n\u001b[1;32m      5\u001b[0m                               \u001b[0mfirm_column\u001b[0m\u001b[0;34m=\u001b[0m\u001b[0;34m'Brand'\u001b[0m\u001b[0;34m,\u001b[0m\u001b[0;34m\u001b[0m\u001b[0;34m\u001b[0m\u001b[0m\n",
      "\u001b[0;32m~/Australian-Federal-Election-2022/notebooks/common.py\u001b[0m in \u001b[0;36mbayes_poll_aggregation\u001b[0;34m(df, poll_column, date_column, firm_column, assumed_sample_size, num_chains, num_samples)\u001b[0m\n\u001b[1;32m    331\u001b[0m \u001b[0;34m\u001b[0m\u001b[0m\n\u001b[1;32m    332\u001b[0m     \u001b[0;31m# run model\u001b[0m\u001b[0;34m\u001b[0m\u001b[0;34m\u001b[0m\u001b[0m\n\u001b[0;32m--> 333\u001b[0;31m     \u001b[0mposterior\u001b[0m \u001b[0;34m=\u001b[0m \u001b[0mstan\u001b[0m\u001b[0;34m.\u001b[0m\u001b[0mbuild\u001b[0m\u001b[0;34m(\u001b[0m\u001b[0mmodel_code\u001b[0m\u001b[0;34m,\u001b[0m \u001b[0mdata\u001b[0m\u001b[0;34m=\u001b[0m\u001b[0mmodel_data\u001b[0m\u001b[0;34m)\u001b[0m\u001b[0;34m\u001b[0m\u001b[0;34m\u001b[0m\u001b[0m\n\u001b[0m\u001b[1;32m    334\u001b[0m     \u001b[0mfit\u001b[0m \u001b[0;34m=\u001b[0m \u001b[0mposterior\u001b[0m\u001b[0;34m.\u001b[0m\u001b[0msample\u001b[0m\u001b[0;34m(\u001b[0m\u001b[0mnum_chains\u001b[0m\u001b[0;34m=\u001b[0m\u001b[0mnum_chains\u001b[0m\u001b[0;34m,\u001b[0m \u001b[0mnum_samples\u001b[0m\u001b[0;34m=\u001b[0m\u001b[0mnum_samples\u001b[0m\u001b[0;34m)\u001b[0m\u001b[0;34m\u001b[0m\u001b[0;34m\u001b[0m\u001b[0m\n\u001b[1;32m    335\u001b[0m \u001b[0;34m\u001b[0m\u001b[0m\n",
      "\u001b[0;32m~/miniforge3/lib/python3.9/site-packages/stan/model.py\u001b[0m in \u001b[0;36mbuild\u001b[0;34m(program_code, data, random_seed)\u001b[0m\n\u001b[1;32m    515\u001b[0m \u001b[0;34m\u001b[0m\u001b[0m\n\u001b[1;32m    516\u001b[0m     \u001b[0;32mtry\u001b[0m\u001b[0;34m:\u001b[0m\u001b[0;34m\u001b[0m\u001b[0;34m\u001b[0m\u001b[0m\n\u001b[0;32m--> 517\u001b[0;31m         \u001b[0;32mreturn\u001b[0m \u001b[0masyncio\u001b[0m\u001b[0;34m.\u001b[0m\u001b[0mrun\u001b[0m\u001b[0;34m(\u001b[0m\u001b[0mgo\u001b[0m\u001b[0;34m(\u001b[0m\u001b[0;34m)\u001b[0m\u001b[0;34m)\u001b[0m\u001b[0;34m\u001b[0m\u001b[0;34m\u001b[0m\u001b[0m\n\u001b[0m\u001b[1;32m    518\u001b[0m     \u001b[0;32mexcept\u001b[0m \u001b[0mKeyboardInterrupt\u001b[0m\u001b[0;34m:\u001b[0m\u001b[0;34m\u001b[0m\u001b[0;34m\u001b[0m\u001b[0m\n\u001b[1;32m    519\u001b[0m         \u001b[0;32mreturn\u001b[0m  \u001b[0;31m# type: ignore\u001b[0m\u001b[0;34m\u001b[0m\u001b[0;34m\u001b[0m\u001b[0m\n",
      "\u001b[0;32m~/miniforge3/lib/python3.9/site-packages/nest_asyncio.py\u001b[0m in \u001b[0;36mrun\u001b[0;34m(main, debug)\u001b[0m\n\u001b[1;32m     36\u001b[0m         \u001b[0mtask\u001b[0m \u001b[0;34m=\u001b[0m \u001b[0masyncio\u001b[0m\u001b[0;34m.\u001b[0m\u001b[0mensure_future\u001b[0m\u001b[0;34m(\u001b[0m\u001b[0mmain\u001b[0m\u001b[0;34m)\u001b[0m\u001b[0;34m\u001b[0m\u001b[0;34m\u001b[0m\u001b[0m\n\u001b[1;32m     37\u001b[0m         \u001b[0;32mtry\u001b[0m\u001b[0;34m:\u001b[0m\u001b[0;34m\u001b[0m\u001b[0;34m\u001b[0m\u001b[0m\n\u001b[0;32m---> 38\u001b[0;31m             \u001b[0;32mreturn\u001b[0m \u001b[0mloop\u001b[0m\u001b[0;34m.\u001b[0m\u001b[0mrun_until_complete\u001b[0m\u001b[0;34m(\u001b[0m\u001b[0mtask\u001b[0m\u001b[0;34m)\u001b[0m\u001b[0;34m\u001b[0m\u001b[0;34m\u001b[0m\u001b[0m\n\u001b[0m\u001b[1;32m     39\u001b[0m         \u001b[0;32mfinally\u001b[0m\u001b[0;34m:\u001b[0m\u001b[0;34m\u001b[0m\u001b[0;34m\u001b[0m\u001b[0m\n\u001b[1;32m     40\u001b[0m             \u001b[0;32mif\u001b[0m \u001b[0;32mnot\u001b[0m \u001b[0mtask\u001b[0m\u001b[0;34m.\u001b[0m\u001b[0mdone\u001b[0m\u001b[0;34m(\u001b[0m\u001b[0;34m)\u001b[0m\u001b[0;34m:\u001b[0m\u001b[0;34m\u001b[0m\u001b[0;34m\u001b[0m\u001b[0m\n",
      "\u001b[0;32m~/miniforge3/lib/python3.9/site-packages/nest_asyncio.py\u001b[0m in \u001b[0;36mrun_until_complete\u001b[0;34m(self, future)\u001b[0m\n\u001b[1;32m     79\u001b[0m                 raise RuntimeError(\n\u001b[1;32m     80\u001b[0m                     'Event loop stopped before Future completed.')\n\u001b[0;32m---> 81\u001b[0;31m             \u001b[0;32mreturn\u001b[0m \u001b[0mf\u001b[0m\u001b[0;34m.\u001b[0m\u001b[0mresult\u001b[0m\u001b[0;34m(\u001b[0m\u001b[0;34m)\u001b[0m\u001b[0;34m\u001b[0m\u001b[0;34m\u001b[0m\u001b[0m\n\u001b[0m\u001b[1;32m     82\u001b[0m \u001b[0;34m\u001b[0m\u001b[0m\n\u001b[1;32m     83\u001b[0m     \u001b[0;32mdef\u001b[0m \u001b[0m_run_once\u001b[0m\u001b[0;34m(\u001b[0m\u001b[0mself\u001b[0m\u001b[0;34m)\u001b[0m\u001b[0;34m:\u001b[0m\u001b[0;34m\u001b[0m\u001b[0;34m\u001b[0m\u001b[0m\n",
      "\u001b[0;32m~/miniforge3/lib/python3.9/asyncio/futures.py\u001b[0m in \u001b[0;36mresult\u001b[0;34m(self)\u001b[0m\n\u001b[1;32m    199\u001b[0m         \u001b[0mself\u001b[0m\u001b[0;34m.\u001b[0m\u001b[0m__log_traceback\u001b[0m \u001b[0;34m=\u001b[0m \u001b[0;32mFalse\u001b[0m\u001b[0;34m\u001b[0m\u001b[0;34m\u001b[0m\u001b[0m\n\u001b[1;32m    200\u001b[0m         \u001b[0;32mif\u001b[0m \u001b[0mself\u001b[0m\u001b[0;34m.\u001b[0m\u001b[0m_exception\u001b[0m \u001b[0;32mis\u001b[0m \u001b[0;32mnot\u001b[0m \u001b[0;32mNone\u001b[0m\u001b[0;34m:\u001b[0m\u001b[0;34m\u001b[0m\u001b[0;34m\u001b[0m\u001b[0m\n\u001b[0;32m--> 201\u001b[0;31m             \u001b[0;32mraise\u001b[0m \u001b[0mself\u001b[0m\u001b[0;34m.\u001b[0m\u001b[0m_exception\u001b[0m\u001b[0;34m\u001b[0m\u001b[0;34m\u001b[0m\u001b[0m\n\u001b[0m\u001b[1;32m    202\u001b[0m         \u001b[0;32mreturn\u001b[0m \u001b[0mself\u001b[0m\u001b[0;34m.\u001b[0m\u001b[0m_result\u001b[0m\u001b[0;34m\u001b[0m\u001b[0;34m\u001b[0m\u001b[0m\n\u001b[1;32m    203\u001b[0m \u001b[0;34m\u001b[0m\u001b[0m\n",
      "\u001b[0;32m~/miniforge3/lib/python3.9/asyncio/tasks.py\u001b[0m in \u001b[0;36m__step\u001b[0;34m(***failed resolving arguments***)\u001b[0m\n\u001b[1;32m    254\u001b[0m                 \u001b[0;31m# We use the `send` method directly, because coroutines\u001b[0m\u001b[0;34m\u001b[0m\u001b[0;34m\u001b[0m\u001b[0m\n\u001b[1;32m    255\u001b[0m                 \u001b[0;31m# don't have `__iter__` and `__next__` methods.\u001b[0m\u001b[0;34m\u001b[0m\u001b[0;34m\u001b[0m\u001b[0m\n\u001b[0;32m--> 256\u001b[0;31m                 \u001b[0mresult\u001b[0m \u001b[0;34m=\u001b[0m \u001b[0mcoro\u001b[0m\u001b[0;34m.\u001b[0m\u001b[0msend\u001b[0m\u001b[0;34m(\u001b[0m\u001b[0;32mNone\u001b[0m\u001b[0;34m)\u001b[0m\u001b[0;34m\u001b[0m\u001b[0;34m\u001b[0m\u001b[0m\n\u001b[0m\u001b[1;32m    257\u001b[0m             \u001b[0;32melse\u001b[0m\u001b[0;34m:\u001b[0m\u001b[0;34m\u001b[0m\u001b[0;34m\u001b[0m\u001b[0m\n\u001b[1;32m    258\u001b[0m                 \u001b[0mresult\u001b[0m \u001b[0;34m=\u001b[0m \u001b[0mcoro\u001b[0m\u001b[0;34m.\u001b[0m\u001b[0mthrow\u001b[0m\u001b[0;34m(\u001b[0m\u001b[0mexc\u001b[0m\u001b[0;34m)\u001b[0m\u001b[0;34m\u001b[0m\u001b[0;34m\u001b[0m\u001b[0m\n",
      "\u001b[0;32m~/miniforge3/lib/python3.9/site-packages/stan/model.py\u001b[0m in \u001b[0;36mgo\u001b[0;34m()\u001b[0m\n\u001b[1;32m    484\u001b[0m                 \u001b[0mmatch\u001b[0m \u001b[0;34m=\u001b[0m \u001b[0mre\u001b[0m\u001b[0;34m.\u001b[0m\u001b[0msearch\u001b[0m\u001b[0;34m(\u001b[0m\u001b[0;34mr\"\"\"ValueError\\(['\"](.*)['\"]\\)\"\"\"\u001b[0m\u001b[0;34m,\u001b[0m \u001b[0mresp\u001b[0m\u001b[0;34m.\u001b[0m\u001b[0mjson\u001b[0m\u001b[0;34m(\u001b[0m\u001b[0;34m)\u001b[0m\u001b[0;34m[\u001b[0m\u001b[0;34m\"message\"\u001b[0m\u001b[0;34m]\u001b[0m\u001b[0;34m)\u001b[0m\u001b[0;34m\u001b[0m\u001b[0;34m\u001b[0m\u001b[0m\n\u001b[1;32m    485\u001b[0m                 \u001b[0;32mif\u001b[0m \u001b[0;32mnot\u001b[0m \u001b[0mmatch\u001b[0m\u001b[0;34m:\u001b[0m  \u001b[0;31m# unknown error, should not happen\u001b[0m\u001b[0;34m\u001b[0m\u001b[0;34m\u001b[0m\u001b[0m\n\u001b[0;32m--> 486\u001b[0;31m                     \u001b[0;32mraise\u001b[0m \u001b[0mRuntimeError\u001b[0m\u001b[0;34m(\u001b[0m\u001b[0mresp\u001b[0m\u001b[0;34m.\u001b[0m\u001b[0mjson\u001b[0m\u001b[0;34m(\u001b[0m\u001b[0;34m)\u001b[0m\u001b[0;34m[\u001b[0m\u001b[0;34m\"message\"\u001b[0m\u001b[0;34m]\u001b[0m\u001b[0;34m)\u001b[0m\u001b[0;34m\u001b[0m\u001b[0;34m\u001b[0m\u001b[0m\n\u001b[0m\u001b[1;32m    487\u001b[0m                 \u001b[0mexception_body\u001b[0m \u001b[0;34m=\u001b[0m \u001b[0mmatch\u001b[0m\u001b[0;34m.\u001b[0m\u001b[0mgroup\u001b[0m\u001b[0;34m(\u001b[0m\u001b[0;36m1\u001b[0m\u001b[0;34m)\u001b[0m\u001b[0;34m.\u001b[0m\u001b[0mencode\u001b[0m\u001b[0;34m(\u001b[0m\u001b[0;34m)\u001b[0m\u001b[0;34m.\u001b[0m\u001b[0mdecode\u001b[0m\u001b[0;34m(\u001b[0m\u001b[0;34m\"unicode_escape\"\u001b[0m\u001b[0;34m)\u001b[0m\u001b[0;34m\u001b[0m\u001b[0;34m\u001b[0m\u001b[0m\n\u001b[1;32m    488\u001b[0m                 \u001b[0merror_type_match\u001b[0m \u001b[0;34m=\u001b[0m \u001b[0mre\u001b[0m\u001b[0;34m.\u001b[0m\u001b[0mmatch\u001b[0m\u001b[0;34m(\u001b[0m\u001b[0;34mr\"(Semantic|Syntax) error\"\u001b[0m\u001b[0;34m,\u001b[0m \u001b[0mexception_body\u001b[0m\u001b[0;34m)\u001b[0m\u001b[0;34m\u001b[0m\u001b[0;34m\u001b[0m\u001b[0m\n",
      "\u001b[0;31mRuntimeError\u001b[0m: Exception while building model extension module: `CompileError(DistutilsExecError(\"command '/Users/bryanpalmer/miniforge3/bin/x86_64-apple-darwin13.4.0-clang' failed with exit code 1\"))`, traceback: `['  File \"/Users/bryanpalmer/miniforge3/lib/python3.9/site-packages/httpstan/views.py\", line 114, in handle_create_model\\n    compiler_output = await httpstan.models.build_services_extension_module(program_code)\\n', '  File \"/Users/bryanpalmer/miniforge3/lib/python3.9/site-packages/httpstan/models.py\", line 168, in build_services_extension_module\\n    compiler_output = await asyncio.get_running_loop().run_in_executor(\\n', '  File \"/Users/bryanpalmer/miniforge3/lib/python3.9/asyncio/futures.py\", line 284, in __await__\\n    yield self  # This tells Task to wait for completion.\\n', '  File \"/Users/bryanpalmer/miniforge3/lib/python3.9/asyncio/tasks.py\", line 328, in __wakeup\\n    future.result()\\n', '  File \"/Users/bryanpalmer/miniforge3/lib/python3.9/asyncio/futures.py\", line 201, in result\\n    raise self._exception\\n', '  File \"/Users/bryanpalmer/miniforge3/lib/python3.9/concurrent/futures/thread.py\", line 58, in run\\n    result = self.fn(*self.args, **self.kwargs)\\n', '  File \"/Users/bryanpalmer/miniforge3/lib/python3.9/site-packages/httpstan/build_ext.py\", line 80, in run_build_ext\\n    build_extension.run()\\n', '  File \"/Users/bryanpalmer/miniforge3/lib/python3.9/site-packages/setuptools/_distutils/command/build_ext.py\", line 339, in run\\n    self.build_extensions()\\n', '  File \"/Users/bryanpalmer/miniforge3/lib/python3.9/site-packages/setuptools/_distutils/command/build_ext.py\", line 448, in build_extensions\\n    self._build_extensions_serial()\\n', '  File \"/Users/bryanpalmer/miniforge3/lib/python3.9/site-packages/setuptools/_distutils/command/build_ext.py\", line 473, in _build_extensions_serial\\n    self.build_extension(ext)\\n', '  File \"/Users/bryanpalmer/miniforge3/lib/python3.9/site-packages/setuptools/_distutils/command/build_ext.py\", line 528, in build_extension\\n    objects = self.compiler.compile(sources,\\n', '  File \"/Users/bryanpalmer/miniforge3/lib/python3.9/site-packages/setuptools/_distutils/ccompiler.py\", line 574, in compile\\n    self._compile(obj, src, ext, cc_args, extra_postargs, pp_opts)\\n', '  File \"/Users/bryanpalmer/miniforge3/lib/python3.9/site-packages/setuptools/_distutils/unixccompiler.py\", line 120, in _compile\\n    raise CompileError(msg)\\n']`"
     ]
    }
   ],
   "source": [
    "# this step typically takes around 3 minutes\n",
    "fit, first_day, brand_map = common.bayes_poll_aggregation(tpp, \n",
    "                              poll_column=POLL_COLUMN,\n",
    "                              date_column='Mean Date',\n",
    "                              firm_column='Brand',\n",
    "                              assumed_sample_size=1000,\n",
    "                              num_chains=4,\n",
    "                              num_samples=2_500) "
   ]
  },
  {
   "cell_type": "markdown",
   "id": "c89705a7",
   "metadata": {},
   "source": [
    "### Diagnostics"
   ]
  },
  {
   "cell_type": "code",
   "execution_count": null,
   "id": "142f58dc",
   "metadata": {
    "ExecuteTime": {
     "end_time": "2022-01-03T02:58:04.804231Z",
     "start_time": "2022-01-03T02:58:04.804224Z"
    }
   },
   "outputs": [],
   "source": [
    "az.summary(fit)"
   ]
  },
  {
   "cell_type": "code",
   "execution_count": null,
   "id": "1301c867",
   "metadata": {
    "ExecuteTime": {
     "end_time": "2022-01-03T02:58:04.804969Z",
     "start_time": "2022-01-03T02:58:04.804958Z"
    }
   },
   "outputs": [],
   "source": [
    "# Estimated Bayesian Fraction of Missing Information ...\n",
    "# Good if close to one; bad if close to zero ...\n",
    "bfmi = az.bfmi(fit)\n",
    "if (bfmi <= 0.4).any():\n",
    "    common.warn(f'Note: the BFMI could be problematic ({bfmi})')"
   ]
  },
  {
   "cell_type": "code",
   "execution_count": null,
   "id": "8b818326",
   "metadata": {
    "ExecuteTime": {
     "end_time": "2022-01-03T02:58:04.805457Z",
     "start_time": "2022-01-03T02:58:04.805449Z"
    }
   },
   "outputs": [],
   "source": [
    "# R-hat chain convergence diagnostic\n",
    "# ESS - effective sample size (used to be n_eff)\n",
    "RHAT_THRESHOLD = 1.05\n",
    "ESS_THRESHOLD = 1000\n",
    "rhat = az.rhat(fit)\n",
    "ess = az.ess(fit)\n",
    "for var in ['houseEffect', 'hidden_vote_share']:\n",
    "    if (rhat[var] > RHAT_THRESHOLD).any():\n",
    "        common.warn(f'Check {var} - chain convergence')\n",
    "    if (ess[var] < ESS_THRESHOLD).any():\n",
    "        common.warn(f'Check {var} - effective sample size')"
   ]
  },
  {
   "cell_type": "code",
   "execution_count": null,
   "id": "272485cf",
   "metadata": {
    "ExecuteTime": {
     "end_time": "2022-01-03T02:58:04.806149Z",
     "start_time": "2022-01-03T02:58:04.806142Z"
    }
   },
   "outputs": [],
   "source": [
    "az.plot_trace(fit, var_names=['houseEffect'])"
   ]
  },
  {
   "cell_type": "markdown",
   "id": "fafddfee",
   "metadata": {},
   "source": [
    "### Plot results"
   ]
  },
  {
   "cell_type": "code",
   "execution_count": null,
   "id": "6e2df4ef",
   "metadata": {
    "ExecuteTime": {
     "end_time": "2022-01-03T02:58:04.806678Z",
     "start_time": "2022-01-03T02:58:04.806672Z"
    }
   },
   "outputs": [],
   "source": [
    "common.bayes_poll_aggregation_plots(df=tpp, \n",
    "                                    fit=fit, \n",
    "                                    first_day=first_day, \n",
    "                                    brand_map=brand_map,\n",
    "                                    poll_column=POLL_COLUMN,\n",
    "                                    date_column='Mean Date',\n",
    "                                    firm_column='Brand',\n",
    "                                    party='Coalition',\n",
    "                                    title='2pp Vote Share (state Space Model)',\n",
    "                                    line_color=COLOR_COALITION,\n",
    "                                    point_color=P_COLOR_COALITION,\n",
    "                                    lfooter=LFOOTER)\n"
   ]
  },
  {
   "cell_type": "markdown",
   "id": "6a35d508",
   "metadata": {},
   "source": [
    "## Warnings"
   ]
  },
  {
   "cell_type": "code",
   "execution_count": null,
   "id": "a7269d1f",
   "metadata": {
    "ExecuteTime": {
     "end_time": "2022-01-03T02:58:04.807418Z",
     "start_time": "2022-01-03T02:58:04.807412Z"
    }
   },
   "outputs": [],
   "source": [
    "common.print_warnings()"
   ]
  }
 ],
 "metadata": {
  "kernelspec": {
   "display_name": "Python 3 (ipykernel)",
   "language": "python",
   "name": "python3"
  },
  "language_info": {
   "codemirror_mode": {
    "name": "ipython",
    "version": 3
   },
   "file_extension": ".py",
   "mimetype": "text/x-python",
   "name": "python",
   "nbconvert_exporter": "python",
   "pygments_lexer": "ipython3",
   "version": "3.9.9"
  },
  "latex_envs": {
   "LaTeX_envs_menu_present": true,
   "autoclose": false,
   "autocomplete": true,
   "bibliofile": "biblio.bib",
   "cite_by": "apalike",
   "current_citInitial": 1,
   "eqLabelWithNumbers": true,
   "eqNumInitial": 1,
   "hotkeys": {
    "equation": "Ctrl-E",
    "itemize": "Ctrl-I"
   },
   "labels_anchors": false,
   "latex_user_defs": false,
   "report_style_numbering": false,
   "user_envs_cfg": false
  },
  "toc": {
   "base_numbering": 1,
   "nav_menu": {},
   "number_sections": true,
   "sideBar": true,
   "skip_h1_title": true,
   "title_cell": "Table of Contents",
   "title_sidebar": "Contents",
   "toc_cell": true,
   "toc_position": {
    "height": "calc(100% - 180px)",
    "left": "10px",
    "top": "150px",
    "width": "236.10714721679688px"
   },
   "toc_section_display": true,
   "toc_window_display": true
  },
  "varInspector": {
   "cols": {
    "lenName": 16,
    "lenType": 16,
    "lenVar": 40
   },
   "kernels_config": {
    "python": {
     "delete_cmd_postfix": "",
     "delete_cmd_prefix": "del ",
     "library": "var_list.py",
     "varRefreshCmd": "print(var_dic_list())"
    },
    "r": {
     "delete_cmd_postfix": ") ",
     "delete_cmd_prefix": "rm(",
     "library": "var_list.r",
     "varRefreshCmd": "cat(var_dic_list()) "
    }
   },
   "types_to_exclude": [
    "module",
    "function",
    "builtin_function_or_method",
    "instance",
    "_Feature"
   ],
   "window_display": false
  }
 },
 "nbformat": 4,
 "nbformat_minor": 5
}
