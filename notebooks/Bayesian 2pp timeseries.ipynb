{
 "cells": [
  {
   "cell_type": "markdown",
   "id": "2bb64488",
   "metadata": {},
   "source": [
    "# Simple state/space model for 2pp voting intention"
   ]
  },
  {
   "cell_type": "markdown",
   "id": "90b76ffb",
   "metadata": {
    "toc": true
   },
   "source": [
    "<h1>Table of Contents<span class=\"tocSkip\"></span></h1>\n",
    "<div class=\"toc\"><ul class=\"toc-item\"><li><span><a href=\"#Python-setup\" data-toc-modified-id=\"Python-setup-1\"><span class=\"toc-item-num\">1&nbsp;&nbsp;</span>Python setup</a></span></li><li><span><a href=\"#Load-2pp-data-and-prepare-for-analysis\" data-toc-modified-id=\"Load-2pp-data-and-prepare-for-analysis-2\"><span class=\"toc-item-num\">2&nbsp;&nbsp;</span>Load 2pp data and prepare for analysis</a></span></li><li><span><a href=\"#The-model\" data-toc-modified-id=\"The-model-3\"><span class=\"toc-item-num\">3&nbsp;&nbsp;</span>The model</a></span></li><li><span><a href=\"#Diagnostics\" data-toc-modified-id=\"Diagnostics-4\"><span class=\"toc-item-num\">4&nbsp;&nbsp;</span>Diagnostics</a></span></li><li><span><a href=\"#Results\" data-toc-modified-id=\"Results-5\"><span class=\"toc-item-num\">5&nbsp;&nbsp;</span>Results</a></span><ul class=\"toc-item\"><li><span><a href=\"#House-effects\" data-toc-modified-id=\"House-effects-5.1\"><span class=\"toc-item-num\">5.1&nbsp;&nbsp;</span>House effects</a></span></li><li><span><a href=\"#2pp-Voting-Intention\" data-toc-modified-id=\"2pp-Voting-Intention-5.2\"><span class=\"toc-item-num\">5.2&nbsp;&nbsp;</span>2pp Voting Intention</a></span></li></ul></li></ul></div>"
   ]
  },
  {
   "cell_type": "markdown",
   "id": "1c6f7a2c",
   "metadata": {},
   "source": [
    "## Python setup"
   ]
  },
  {
   "cell_type": "code",
   "execution_count": 1,
   "id": "4b90d24a",
   "metadata": {
    "ExecuteTime": {
     "end_time": "2021-11-12T09:12:51.205482Z",
     "start_time": "2021-11-12T09:12:50.195801Z"
    }
   },
   "outputs": [
    {
     "name": "stdout",
     "output_type": "stream",
     "text": [
      "Stan version: 3.3.0\n",
      "ArviZ version: 0.11.4\n"
     ]
    }
   ],
   "source": [
    "# Data science imports\n",
    "import numpy as np\n",
    "import pandas as pd\n",
    "import matplotlib.pyplot as plt\n",
    "import matplotlib.patheffects as pe\n",
    "import arviz as az\n",
    "import stan # install with pip - conda is problematic on the M1 MBP\n",
    "print(f'Stan version: {stan.__version__}')\n",
    "print(f'ArviZ version: {az.__version__}')\n",
    "\n",
    "# system imports\n",
    "import pathlib\n",
    "#import json"
   ]
  },
  {
   "cell_type": "code",
   "execution_count": 2,
   "id": "6e3b2fc2",
   "metadata": {
    "ExecuteTime": {
     "end_time": "2021-11-12T09:12:51.208807Z",
     "start_time": "2021-11-12T09:12:51.206596Z"
    }
   },
   "outputs": [],
   "source": [
    "# enable pystan on jupyter notebook\n",
    "import nest_asyncio\n",
    "nest_asyncio.apply()"
   ]
  },
  {
   "cell_type": "code",
   "execution_count": 3,
   "id": "624eed41",
   "metadata": {
    "ExecuteTime": {
     "end_time": "2021-11-12T09:12:51.211328Z",
     "start_time": "2021-11-12T09:12:51.209557Z"
    }
   },
   "outputs": [],
   "source": [
    "# path to the model data\n",
    "DATA_DIR = '../data'\n",
    "pathlib.Path(DATA_DIR).mkdir(parents=True, exist_ok=True)\n",
    "DATA_DIR += '/'"
   ]
  },
  {
   "cell_type": "code",
   "execution_count": 4,
   "id": "bac55c6c",
   "metadata": {
    "ExecuteTime": {
     "end_time": "2021-11-12T09:12:51.215567Z",
     "start_time": "2021-11-12T09:12:51.212718Z"
    }
   },
   "outputs": [],
   "source": [
    "# plotting stuff\n",
    "plt.style.use('./markgraph.mplstyle')\n",
    "\n",
    "SOURCE = 'Polling data from Wikipedia'\n",
    "\n",
    "CHART_DIR = '../charts'\n",
    "pathlib.Path(CHART_DIR).mkdir(parents=True, exist_ok=True)\n",
    "CHART_DIR += '/'"
   ]
  },
  {
   "cell_type": "markdown",
   "id": "a8d32fc6",
   "metadata": {},
   "source": [
    "## Load 2pp data and prepare for analysis"
   ]
  },
  {
   "cell_type": "code",
   "execution_count": 5,
   "id": "cc38cc2e",
   "metadata": {
    "ExecuteTime": {
     "end_time": "2021-11-12T09:12:51.224202Z",
     "start_time": "2021-11-12T09:12:51.216287Z"
    }
   },
   "outputs": [
    {
     "data": {
      "text/plain": [
       "Index(['2pp vote L/NP', '2pp vote ALP', 'Date', 'Mean Date', 'Brand',\n",
       "       'Interview mode', 'Sample size', '2pp Vote L/NP LOWESS'],\n",
       "      dtype='object')"
      ]
     },
     "execution_count": 5,
     "metadata": {},
     "output_type": "execute_result"
    }
   ],
   "source": [
    "# read in 2pp data; remind me, what are the column names ...\n",
    "tpp = pd.read_csv(f'{DATA_DIR}two_party_preferred.csv', parse_dates=['Mean Date'], index_col=0)\n",
    "tpp.columns"
   ]
  },
  {
   "cell_type": "code",
   "execution_count": 6,
   "id": "09d3b184",
   "metadata": {
    "ExecuteTime": {
     "end_time": "2021-11-12T09:12:51.228805Z",
     "start_time": "2021-11-12T09:12:51.225240Z"
    }
   },
   "outputs": [
    {
     "data": {
      "text/plain": [
       "Newspoll-YouGov    38\n",
       "Essential          31\n",
       "Roy Morgan         18\n",
       "Name: Brand, dtype: int64"
      ]
     },
     "execution_count": 6,
     "metadata": {},
     "output_type": "execute_result"
    }
   ],
   "source": [
    "# What polling firms are we working with ...\n",
    "# and how many polls has each collected\n",
    "tpp['Brand'].value_counts()"
   ]
  },
  {
   "cell_type": "code",
   "execution_count": 7,
   "id": "bcea52ed",
   "metadata": {
    "ExecuteTime": {
     "end_time": "2021-11-12T09:12:51.234943Z",
     "start_time": "2021-11-12T09:12:51.229998Z"
    }
   },
   "outputs": [
    {
     "data": {
      "text/plain": [
       "2    38\n",
       "1    31\n",
       "3    18\n",
       "Name: House, dtype: int64"
      ]
     },
     "execution_count": 7,
     "metadata": {},
     "output_type": "execute_result"
    }
   ],
   "source": [
    "# Encode polling firms to an integer starting from 1\n",
    "tpp['Brand'] = tpp['Brand'].astype('category')\n",
    "tpp['House'] = tpp['Brand'].cat.codes + 1\n",
    "tpp['House'].value_counts()"
   ]
  },
  {
   "cell_type": "code",
   "execution_count": 8,
   "id": "33561a57",
   "metadata": {
    "ExecuteTime": {
     "end_time": "2021-11-12T09:12:51.238959Z",
     "start_time": "2021-11-12T09:12:51.235904Z"
    }
   },
   "outputs": [
    {
     "data": {
      "text/plain": [
       "{2: 'Newspoll-YouGov', 3: 'Roy Morgan', 1: 'Essential'}"
      ]
     },
     "execution_count": 8,
     "metadata": {},
     "output_type": "execute_result"
    }
   ],
   "source": [
    "# Create a map of firm number back to firm name\n",
    "# Not the most efficient way to do this ...\n",
    "brand_map = {x+1: y for x, y in zip(tpp['Brand'].cat.codes, tpp['Brand'])}\n",
    "brand_map"
   ]
  },
  {
   "cell_type": "code",
   "execution_count": 9,
   "id": "c9a60dd1",
   "metadata": {
    "ExecuteTime": {
     "end_time": "2021-11-12T09:12:51.245059Z",
     "start_time": "2021-11-12T09:12:51.239846Z"
    }
   },
   "outputs": [
    {
     "data": {
      "text/plain": [
       "832"
      ]
     },
     "execution_count": 9,
     "metadata": {},
     "output_type": "execute_result"
    }
   ],
   "source": [
    "# Change dates to days from the start ...\n",
    "# The first day is 1\n",
    "first_day = tpp['Mean Date'].min()\n",
    "tpp['Day'] = (\n",
    "    ((tpp['Mean Date'] - first_day) \n",
    "     / pd.Timedelta(days=1)).astype(int) \n",
    "    + 1\n",
    ")\n",
    "\n",
    "# Total number of days to model ...\n",
    "tpp['Day'].max()"
   ]
  },
  {
   "cell_type": "code",
   "execution_count": 10,
   "id": "7602afb1",
   "metadata": {
    "ExecuteTime": {
     "end_time": "2021-11-12T09:12:51.250459Z",
     "start_time": "2021-11-12T09:12:51.248051Z"
    }
   },
   "outputs": [
    {
     "data": {
      "text/plain": [
       "87"
      ]
     },
     "execution_count": 10,
     "metadata": {},
     "output_type": "execute_result"
    }
   ],
   "source": [
    "# Number of polls\n",
    "len(tpp)"
   ]
  },
  {
   "cell_type": "markdown",
   "id": "809d832a",
   "metadata": {},
   "source": [
    "## The model"
   ]
  },
  {
   "cell_type": "code",
   "execution_count": 11,
   "id": "8f918a69",
   "metadata": {
    "ExecuteTime": {
     "end_time": "2021-11-12T09:12:51.255777Z",
     "start_time": "2021-11-12T09:12:51.251901Z"
    }
   },
   "outputs": [],
   "source": [
    "sampleSize = 1000 # treat all polls as being of this size\n",
    "pseudoSampleSigma = np.sqrt((50 * 50) / sampleSize) \n",
    "\n",
    "tpp_model_data = {\n",
    "    # Note: parameterised to have the 2pp in the unit scale around zero.\n",
    "    #       i.e. whole 2pp percentage points - 50.\n",
    "\n",
    "    # Reminder: Stan numbers arrays from 1 to N\n",
    "    # Note: JSON cannot serialise pandas or numpy datatypes\n",
    "    \n",
    "    'n_polls': len(tpp),\n",
    "    'n_days': int(tpp['Day'].max()),\n",
    "    'n_houses': int(tpp['House'].max()),\n",
    "\n",
    "    'pseudoSampleSigma': pseudoSampleSigma,\n",
    "    \n",
    "    'y': (tpp['2pp vote L/NP'] - 50).to_list(),\n",
    "    'house': tpp['House'].to_list(),\n",
    "    'day': tpp['Day'].to_list(),\n",
    "}\n"
   ]
  },
  {
   "cell_type": "code",
   "execution_count": 12,
   "id": "81833b15",
   "metadata": {
    "ExecuteTime": {
     "end_time": "2021-11-12T09:12:51.259344Z",
     "start_time": "2021-11-12T09:12:51.256819Z"
    }
   },
   "outputs": [],
   "source": [
    "tpp_model_code = \"\"\"\n",
    "\n",
    "// STAN: Two-Party Preferred (TPP) Vote Intention Model \n",
    "\n",
    "data {\n",
    "    // data size\n",
    "    int<lower=1> n_polls;\n",
    "    int<lower=1> n_days;\n",
    "    int<lower=1> n_houses;\n",
    "    \n",
    "    // assumed standard deviation for all polls\n",
    "    real<lower=0> pseudoSampleSigma;\n",
    "    \n",
    "    // poll data\n",
    "    vector<lower=-50,upper=50>[n_polls] y; // TPP vote share\n",
    "    int<lower=1> house[n_polls];\n",
    "    int<lower=1> day[n_polls];\n",
    "}\n",
    "\n",
    "transformed data {\n",
    "    real sigma = 0.15; // day-to-day std deviation in percentage points \n",
    "}\n",
    "\n",
    "parameters {\n",
    "    vector[n_days] hidden_vote_share; \n",
    "    vector[n_houses] pHouseEffects;\n",
    "}\n",
    "\n",
    "transformed parameters {\n",
    "    // -- sum to zero constraint on house effects\n",
    "    vector[n_houses] houseEffect;\n",
    "    houseEffect[1:n_houses] = pHouseEffects[1:n_houses] - mean(pHouseEffects[1:n_houses]);\n",
    "}\n",
    "\n",
    "model {\n",
    "    // -- temporal model [this is the hidden state-space model]\n",
    "    hidden_vote_share[1] ~ cauchy(0, 10); // PRIOR (reasonably uninformative)\n",
    "    hidden_vote_share[2:n_days] ~ normal(hidden_vote_share[1:(n_days-1)], sigma);\n",
    "    \n",
    "    // -- house effects model\n",
    "    pHouseEffects ~ normal(0, 8); // PRIOR (reasonably uninformative)\n",
    "\n",
    "    // -- observed data / measurement model\n",
    "    y ~ normal(houseEffect[house] + hidden_vote_share[day], pseudoSampleSigma);\n",
    "}\n",
    "\n",
    "\"\"\""
   ]
  },
  {
   "cell_type": "code",
   "execution_count": 13,
   "id": "fb2d686a",
   "metadata": {
    "ExecuteTime": {
     "end_time": "2021-11-12T09:12:51.321801Z",
     "start_time": "2021-11-12T09:12:51.260334Z"
    }
   },
   "outputs": [
    {
     "name": "stderr",
     "output_type": "stream",
     "text": [
      "\u001b[32mBuilding:\u001b[0m found in cache, done.\n",
      "\u001b[36mMessages from \u001b[0m\u001b[36;1mstanc\u001b[0m\u001b[36m:\u001b[0m\n",
      "Warning: The parameter hidden_vote_share has 2 priors.\n"
     ]
    }
   ],
   "source": [
    "posterior = stan.build(tpp_model_code, data=tpp_model_data)"
   ]
  },
  {
   "cell_type": "code",
   "execution_count": 14,
   "id": "5cf66cf7",
   "metadata": {
    "ExecuteTime": {
     "end_time": "2021-11-12T09:15:51.364734Z",
     "start_time": "2021-11-12T09:12:51.322921Z"
    },
    "scrolled": false
   },
   "outputs": [
    {
     "name": "stderr",
     "output_type": "stream",
     "text": [
      "\u001b[36mSampling:\u001b[0m   0%\n",
      "\u001b[1A\u001b[0J\u001b[36mSampling:\u001b[0m   0% (1/14000)\n",
      "\u001b[1A\u001b[0J\u001b[36mSampling:\u001b[0m   0% (2/14000)\n",
      "\u001b[1A\u001b[0J\u001b[36mSampling:\u001b[0m   0% (3/14000)\n",
      "\u001b[1A\u001b[0J\u001b[36mSampling:\u001b[0m   0% (4/14000)\n",
      "\u001b[1A\u001b[0J\u001b[36mSampling:\u001b[0m   1% (103/14000)\n",
      "\u001b[1A\u001b[0J\u001b[36mSampling:\u001b[0m   1% (202/14000)\n",
      "\u001b[1A\u001b[0J\u001b[36mSampling:\u001b[0m   2% (301/14000)\n",
      "\u001b[1A\u001b[0J\u001b[36mSampling:\u001b[0m   3% (400/14000)\n",
      "\u001b[1A\u001b[0J\u001b[36mSampling:\u001b[0m   4% (500/14000)\n",
      "\u001b[1A\u001b[0J\u001b[36mSampling:\u001b[0m   4% (600/14000)\n",
      "\u001b[1A\u001b[0J\u001b[36mSampling:\u001b[0m   5% (700/14000)\n",
      "\u001b[1A\u001b[0J\u001b[36mSampling:\u001b[0m   6% (800/14000)\n",
      "\u001b[1A\u001b[0J\u001b[36mSampling:\u001b[0m   6% (900/14000)\n",
      "\u001b[1A\u001b[0J\u001b[36mSampling:\u001b[0m   7% (1000/14000)\n",
      "\u001b[1A\u001b[0J\u001b[36mSampling:\u001b[0m   8% (1100/14000)\n",
      "\u001b[1A\u001b[0J\u001b[36mSampling:\u001b[0m   9% (1200/14000)\n",
      "\u001b[1A\u001b[0J\u001b[36mSampling:\u001b[0m   9% (1300/14000)\n",
      "\u001b[1A\u001b[0J\u001b[36mSampling:\u001b[0m  10% (1400/14000)\n",
      "\u001b[1A\u001b[0J\u001b[36mSampling:\u001b[0m  11% (1500/14000)\n",
      "\u001b[1A\u001b[0J\u001b[36mSampling:\u001b[0m  11% (1600/14000)\n",
      "\u001b[1A\u001b[0J\u001b[36mSampling:\u001b[0m  12% (1700/14000)\n",
      "\u001b[1A\u001b[0J\u001b[36mSampling:\u001b[0m  13% (1800/14000)\n",
      "\u001b[1A\u001b[0J\u001b[36mSampling:\u001b[0m  14% (1900/14000)\n",
      "\u001b[1A\u001b[0J\u001b[36mSampling:\u001b[0m  14% (2000/14000)\n",
      "\u001b[1A\u001b[0J\u001b[36mSampling:\u001b[0m  15% (2100/14000)\n",
      "\u001b[1A\u001b[0J\u001b[36mSampling:\u001b[0m  16% (2200/14000)\n",
      "\u001b[1A\u001b[0J\u001b[36mSampling:\u001b[0m  16% (2300/14000)\n",
      "\u001b[1A\u001b[0J\u001b[36mSampling:\u001b[0m  17% (2400/14000)\n",
      "\u001b[1A\u001b[0J\u001b[36mSampling:\u001b[0m  18% (2500/14000)\n",
      "\u001b[1A\u001b[0J\u001b[36mSampling:\u001b[0m  19% (2600/14000)\n",
      "\u001b[1A\u001b[0J\u001b[36mSampling:\u001b[0m  19% (2700/14000)\n",
      "\u001b[1A\u001b[0J\u001b[36mSampling:\u001b[0m  20% (2800/14000)\n",
      "\u001b[1A\u001b[0J\u001b[36mSampling:\u001b[0m  21% (2900/14000)\n",
      "\u001b[1A\u001b[0J\u001b[36mSampling:\u001b[0m  21% (3000/14000)\n",
      "\u001b[1A\u001b[0J\u001b[36mSampling:\u001b[0m  22% (3100/14000)\n",
      "\u001b[1A\u001b[0J\u001b[36mSampling:\u001b[0m  23% (3200/14000)\n",
      "\u001b[1A\u001b[0J\u001b[36mSampling:\u001b[0m  24% (3300/14000)\n",
      "\u001b[1A\u001b[0J\u001b[36mSampling:\u001b[0m  24% (3400/14000)\n",
      "\u001b[1A\u001b[0J\u001b[36mSampling:\u001b[0m  25% (3500/14000)\n",
      "\u001b[1A\u001b[0J\u001b[36mSampling:\u001b[0m  26% (3600/14000)\n",
      "\u001b[1A\u001b[0J\u001b[36mSampling:\u001b[0m  26% (3701/14000)\n",
      "\u001b[1A\u001b[0J\u001b[36mSampling:\u001b[0m  27% (3802/14000)\n",
      "\u001b[1A\u001b[0J\u001b[36mSampling:\u001b[0m  28% (3903/14000)\n",
      "\u001b[1A\u001b[0J\u001b[36mSampling:\u001b[0m  29% (4004/14000)\n",
      "\u001b[1A\u001b[0J\u001b[36mSampling:\u001b[0m  29% (4103/14000)\n",
      "\u001b[1A\u001b[0J\u001b[36mSampling:\u001b[0m  30% (4202/14000)\n",
      "\u001b[1A\u001b[0J\u001b[36mSampling:\u001b[0m  31% (4301/14000)\n",
      "\u001b[1A\u001b[0J\u001b[36mSampling:\u001b[0m  31% (4400/14000)\n",
      "\u001b[1A\u001b[0J\u001b[36mSampling:\u001b[0m  32% (4500/14000)\n",
      "\u001b[1A\u001b[0J\u001b[36mSampling:\u001b[0m  33% (4600/14000)\n",
      "\u001b[1A\u001b[0J\u001b[36mSampling:\u001b[0m  34% (4700/14000)\n",
      "\u001b[1A\u001b[0J\u001b[36mSampling:\u001b[0m  34% (4800/14000)\n",
      "\u001b[1A\u001b[0J\u001b[36mSampling:\u001b[0m  35% (4900/14000)\n",
      "\u001b[1A\u001b[0J\u001b[36mSampling:\u001b[0m  36% (5000/14000)\n",
      "\u001b[1A\u001b[0J\u001b[36mSampling:\u001b[0m  36% (5100/14000)\n",
      "\u001b[1A\u001b[0J\u001b[36mSampling:\u001b[0m  37% (5200/14000)\n",
      "\u001b[1A\u001b[0J\u001b[36mSampling:\u001b[0m  38% (5300/14000)\n",
      "\u001b[1A\u001b[0J\u001b[36mSampling:\u001b[0m  39% (5400/14000)\n",
      "\u001b[1A\u001b[0J\u001b[36mSampling:\u001b[0m  39% (5500/14000)\n",
      "\u001b[1A\u001b[0J\u001b[36mSampling:\u001b[0m  40% (5600/14000)\n",
      "\u001b[1A\u001b[0J\u001b[36mSampling:\u001b[0m  41% (5700/14000)\n",
      "\u001b[1A\u001b[0J\u001b[36mSampling:\u001b[0m  41% (5800/14000)\n",
      "\u001b[1A\u001b[0J\u001b[36mSampling:\u001b[0m  42% (5900/14000)\n",
      "\u001b[1A\u001b[0J\u001b[36mSampling:\u001b[0m  43% (6000/14000)\n",
      "\u001b[1A\u001b[0J\u001b[36mSampling:\u001b[0m  44% (6100/14000)\n",
      "\u001b[1A\u001b[0J\u001b[36mSampling:\u001b[0m  44% (6200/14000)\n",
      "\u001b[1A\u001b[0J\u001b[36mSampling:\u001b[0m  45% (6300/14000)\n",
      "\u001b[1A\u001b[0J\u001b[36mSampling:\u001b[0m  46% (6400/14000)\n",
      "\u001b[1A\u001b[0J\u001b[36mSampling:\u001b[0m  46% (6500/14000)\n",
      "\u001b[1A\u001b[0J\u001b[36mSampling:\u001b[0m  47% (6600/14000)\n",
      "\u001b[1A\u001b[0J\u001b[36mSampling:\u001b[0m  48% (6700/14000)\n",
      "\u001b[1A\u001b[0J\u001b[36mSampling:\u001b[0m  49% (6800/14000)\n",
      "\u001b[1A\u001b[0J\u001b[36mSampling:\u001b[0m  49% (6900/14000)\n",
      "\u001b[1A\u001b[0J\u001b[36mSampling:\u001b[0m  50% (7000/14000)\n",
      "\u001b[1A\u001b[0J\u001b[36mSampling:\u001b[0m  51% (7100/14000)\n",
      "\u001b[1A\u001b[0J\u001b[36mSampling:\u001b[0m  51% (7200/14000)\n",
      "\u001b[1A\u001b[0J\u001b[36mSampling:\u001b[0m  52% (7300/14000)\n",
      "\u001b[1A\u001b[0J\u001b[36mSampling:\u001b[0m  53% (7400/14000)\n",
      "\u001b[1A\u001b[0J\u001b[36mSampling:\u001b[0m  54% (7500/14000)\n",
      "\u001b[1A\u001b[0J\u001b[36mSampling:\u001b[0m  54% (7600/14000)\n",
      "\u001b[1A\u001b[0J\u001b[36mSampling:\u001b[0m  55% (7700/14000)\n",
      "\u001b[1A\u001b[0J\u001b[36mSampling:\u001b[0m  56% (7800/14000)\n",
      "\u001b[1A\u001b[0J\u001b[36mSampling:\u001b[0m  56% (7900/14000)\n",
      "\u001b[1A\u001b[0J\u001b[36mSampling:\u001b[0m  57% (8000/14000)\n",
      "\u001b[1A\u001b[0J\u001b[36mSampling:\u001b[0m  58% (8100/14000)\n",
      "\u001b[1A\u001b[0J\u001b[36mSampling:\u001b[0m  59% (8200/14000)\n",
      "\u001b[1A\u001b[0J\u001b[36mSampling:\u001b[0m  59% (8300/14000)\n",
      "\u001b[1A\u001b[0J\u001b[36mSampling:\u001b[0m  60% (8400/14000)\n",
      "\u001b[1A\u001b[0J\u001b[36mSampling:\u001b[0m  61% (8500/14000)\n",
      "\u001b[1A\u001b[0J\u001b[36mSampling:\u001b[0m  61% (8600/14000)\n",
      "\u001b[1A\u001b[0J\u001b[36mSampling:\u001b[0m  62% (8700/14000)\n",
      "\u001b[1A\u001b[0J\u001b[36mSampling:\u001b[0m  63% (8800/14000)\n",
      "\u001b[1A\u001b[0J\u001b[36mSampling:\u001b[0m  64% (8900/14000)\n",
      "\u001b[1A\u001b[0J\u001b[36mSampling:\u001b[0m  64% (9000/14000)\n",
      "\u001b[1A\u001b[0J\u001b[36mSampling:\u001b[0m  65% (9100/14000)\n",
      "\u001b[1A\u001b[0J\u001b[36mSampling:\u001b[0m  66% (9200/14000)\n",
      "\u001b[1A\u001b[0J\u001b[36mSampling:\u001b[0m  66% (9300/14000)\n",
      "\u001b[1A\u001b[0J\u001b[36mSampling:\u001b[0m  67% (9400/14000)\n",
      "\u001b[1A\u001b[0J\u001b[36mSampling:\u001b[0m  68% (9500/14000)\n",
      "\u001b[1A\u001b[0J\u001b[36mSampling:\u001b[0m  69% (9600/14000)\n",
      "\u001b[1A\u001b[0J\u001b[36mSampling:\u001b[0m  69% (9700/14000)\n",
      "\u001b[1A\u001b[0J\u001b[36mSampling:\u001b[0m  70% (9800/14000)\n",
      "\u001b[1A\u001b[0J\u001b[36mSampling:\u001b[0m  71% (9900/14000)\n",
      "\u001b[1A\u001b[0J\u001b[36mSampling:\u001b[0m  71% (10000/14000)\n",
      "\u001b[1A\u001b[0J\u001b[36mSampling:\u001b[0m  72% (10100/14000)\n",
      "\u001b[1A\u001b[0J\u001b[36mSampling:\u001b[0m  73% (10200/14000)\n",
      "\u001b[1A\u001b[0J\u001b[36mSampling:\u001b[0m  74% (10300/14000)\n",
      "\u001b[1A\u001b[0J\u001b[36mSampling:\u001b[0m  74% (10400/14000)\n",
      "\u001b[1A\u001b[0J\u001b[36mSampling:\u001b[0m  75% (10500/14000)\n",
      "\u001b[1A\u001b[0J\u001b[36mSampling:\u001b[0m  76% (10600/14000)\n",
      "\u001b[1A\u001b[0J\u001b[36mSampling:\u001b[0m  76% (10700/14000)\n",
      "\u001b[1A\u001b[0J\u001b[36mSampling:\u001b[0m  77% (10800/14000)\n",
      "\u001b[1A\u001b[0J\u001b[36mSampling:\u001b[0m  78% (10900/14000)\n",
      "\u001b[1A\u001b[0J\u001b[36mSampling:\u001b[0m  79% (11000/14000)\n",
      "\u001b[1A\u001b[0J\u001b[36mSampling:\u001b[0m  79% (11100/14000)\n",
      "\u001b[1A\u001b[0J\u001b[36mSampling:\u001b[0m  80% (11200/14000)\n",
      "\u001b[1A\u001b[0J\u001b[36mSampling:\u001b[0m  81% (11300/14000)\n",
      "\u001b[1A\u001b[0J\u001b[36mSampling:\u001b[0m  81% (11400/14000)\n",
      "\u001b[1A\u001b[0J\u001b[36mSampling:\u001b[0m  82% (11500/14000)\n",
      "\u001b[1A\u001b[0J\u001b[36mSampling:\u001b[0m  83% (11600/14000)\n",
      "\u001b[1A\u001b[0J\u001b[36mSampling:\u001b[0m  84% (11700/14000)\n",
      "\u001b[1A\u001b[0J\u001b[36mSampling:\u001b[0m  84% (11800/14000)\n",
      "\u001b[1A\u001b[0J\u001b[36mSampling:\u001b[0m  85% (11900/14000)\n",
      "\u001b[1A\u001b[0J\u001b[36mSampling:\u001b[0m  86% (12000/14000)\n",
      "\u001b[1A\u001b[0J\u001b[36mSampling:\u001b[0m  86% (12100/14000)\n",
      "\u001b[1A\u001b[0J\u001b[36mSampling:\u001b[0m  87% (12200/14000)\n",
      "\u001b[1A\u001b[0J\u001b[36mSampling:\u001b[0m  88% (12300/14000)\n",
      "\u001b[1A\u001b[0J\u001b[36mSampling:\u001b[0m  89% (12400/14000)\n",
      "\u001b[1A\u001b[0J\u001b[36mSampling:\u001b[0m  89% (12500/14000)\n",
      "\u001b[1A\u001b[0J\u001b[36mSampling:\u001b[0m  90% (12600/14000)\n",
      "\u001b[1A\u001b[0J\u001b[36mSampling:\u001b[0m  91% (12700/14000)\n",
      "\u001b[1A\u001b[0J\u001b[36mSampling:\u001b[0m  91% (12800/14000)\n",
      "\u001b[1A\u001b[0J\u001b[36mSampling:\u001b[0m  92% (12900/14000)\n",
      "\u001b[1A\u001b[0J\u001b[36mSampling:\u001b[0m  93% (13000/14000)\n",
      "\u001b[1A\u001b[0J\u001b[36mSampling:\u001b[0m  94% (13100/14000)\n",
      "\u001b[1A\u001b[0J\u001b[36mSampling:\u001b[0m  94% (13200/14000)\n",
      "\u001b[1A\u001b[0J\u001b[36mSampling:\u001b[0m  95% (13300/14000)\n",
      "\u001b[1A\u001b[0J\u001b[36mSampling:\u001b[0m  96% (13400/14000)\n",
      "\u001b[1A\u001b[0J\u001b[36mSampling:\u001b[0m  96% (13500/14000)\n",
      "\u001b[1A\u001b[0J\u001b[36mSampling:\u001b[0m  97% (13600/14000)\n",
      "\u001b[1A\u001b[0J\u001b[36mSampling:\u001b[0m  98% (13700/14000)\n",
      "\u001b[1A\u001b[0J\u001b[36mSampling:\u001b[0m  99% (13800/14000)\n",
      "\u001b[1A\u001b[0J\u001b[36mSampling:\u001b[0m  99% (13900/14000)\n",
      "\u001b[1A\u001b[0J\u001b[36mSampling:\u001b[0m 100% (14000/14000)\n",
      "\u001b[1A\u001b[0J\u001b[32mSampling:\u001b[0m 100% (14000/14000), done.\n",
      "\u001b[36mMessages received during sampling:\u001b[0m\n",
      "  Gradient evaluation took 0.000268 seconds\n",
      "  1000 transitions using 10 leapfrog steps per transition would take 2.68 seconds.\n",
      "  Adjust your expectations accordingly!\n",
      "  Gradient evaluation took 8e-05 seconds\n",
      "  1000 transitions using 10 leapfrog steps per transition would take 0.8 seconds.\n",
      "  Adjust your expectations accordingly!\n",
      "  Gradient evaluation took 8e-05 seconds\n",
      "  1000 transitions using 10 leapfrog steps per transition would take 0.8 seconds.\n",
      "  Adjust your expectations accordingly!\n",
      "  Gradient evaluation took 8.3e-05 seconds\n",
      "  1000 transitions using 10 leapfrog steps per transition would take 0.83 seconds.\n",
      "  Adjust your expectations accordingly!\n"
     ]
    }
   ],
   "source": [
    "fit = posterior.sample(num_chains=4, num_samples=2500)"
   ]
  },
  {
   "cell_type": "markdown",
   "id": "c89705a7",
   "metadata": {},
   "source": [
    "## Diagnostics"
   ]
  },
  {
   "cell_type": "code",
   "execution_count": 15,
   "id": "142f58dc",
   "metadata": {
    "ExecuteTime": {
     "end_time": "2021-11-12T09:15:56.585660Z",
     "start_time": "2021-11-12T09:15:51.365975Z"
    }
   },
   "outputs": [
    {
     "data": {
      "text/html": [
       "<div>\n",
       "<style scoped>\n",
       "    .dataframe tbody tr th:only-of-type {\n",
       "        vertical-align: middle;\n",
       "    }\n",
       "\n",
       "    .dataframe tbody tr th {\n",
       "        vertical-align: top;\n",
       "    }\n",
       "\n",
       "    .dataframe thead th {\n",
       "        text-align: right;\n",
       "    }\n",
       "</style>\n",
       "<table border=\"1\" class=\"dataframe\">\n",
       "  <thead>\n",
       "    <tr style=\"text-align: right;\">\n",
       "      <th></th>\n",
       "      <th>mean</th>\n",
       "      <th>sd</th>\n",
       "      <th>hdi_3%</th>\n",
       "      <th>hdi_97%</th>\n",
       "      <th>mcse_mean</th>\n",
       "      <th>mcse_sd</th>\n",
       "      <th>ess_bulk</th>\n",
       "      <th>ess_tail</th>\n",
       "      <th>r_hat</th>\n",
       "    </tr>\n",
       "  </thead>\n",
       "  <tbody>\n",
       "    <tr>\n",
       "      <th>hidden_vote_share[0]</th>\n",
       "      <td>1.556</td>\n",
       "      <td>0.958</td>\n",
       "      <td>-0.191</td>\n",
       "      <td>3.396</td>\n",
       "      <td>0.011</td>\n",
       "      <td>0.008</td>\n",
       "      <td>8021.0</td>\n",
       "      <td>8942.0</td>\n",
       "      <td>1.0</td>\n",
       "    </tr>\n",
       "    <tr>\n",
       "      <th>hidden_vote_share[1]</th>\n",
       "      <td>1.545</td>\n",
       "      <td>0.954</td>\n",
       "      <td>-0.272</td>\n",
       "      <td>3.306</td>\n",
       "      <td>0.011</td>\n",
       "      <td>0.008</td>\n",
       "      <td>7927.0</td>\n",
       "      <td>8870.0</td>\n",
       "      <td>1.0</td>\n",
       "    </tr>\n",
       "    <tr>\n",
       "      <th>hidden_vote_share[2]</th>\n",
       "      <td>1.534</td>\n",
       "      <td>0.948</td>\n",
       "      <td>-0.200</td>\n",
       "      <td>3.356</td>\n",
       "      <td>0.011</td>\n",
       "      <td>0.008</td>\n",
       "      <td>7841.0</td>\n",
       "      <td>8631.0</td>\n",
       "      <td>1.0</td>\n",
       "    </tr>\n",
       "    <tr>\n",
       "      <th>hidden_vote_share[3]</th>\n",
       "      <td>1.525</td>\n",
       "      <td>0.944</td>\n",
       "      <td>-0.274</td>\n",
       "      <td>3.268</td>\n",
       "      <td>0.011</td>\n",
       "      <td>0.008</td>\n",
       "      <td>7715.0</td>\n",
       "      <td>8765.0</td>\n",
       "      <td>1.0</td>\n",
       "    </tr>\n",
       "    <tr>\n",
       "      <th>hidden_vote_share[4]</th>\n",
       "      <td>1.515</td>\n",
       "      <td>0.938</td>\n",
       "      <td>-0.234</td>\n",
       "      <td>3.280</td>\n",
       "      <td>0.011</td>\n",
       "      <td>0.008</td>\n",
       "      <td>7515.0</td>\n",
       "      <td>8672.0</td>\n",
       "      <td>1.0</td>\n",
       "    </tr>\n",
       "    <tr>\n",
       "      <th>...</th>\n",
       "      <td>...</td>\n",
       "      <td>...</td>\n",
       "      <td>...</td>\n",
       "      <td>...</td>\n",
       "      <td>...</td>\n",
       "      <td>...</td>\n",
       "      <td>...</td>\n",
       "      <td>...</td>\n",
       "      <td>...</td>\n",
       "    </tr>\n",
       "    <tr>\n",
       "      <th>pHouseEffects[1]</th>\n",
       "      <td>-0.011</td>\n",
       "      <td>4.533</td>\n",
       "      <td>-8.413</td>\n",
       "      <td>8.548</td>\n",
       "      <td>0.044</td>\n",
       "      <td>0.054</td>\n",
       "      <td>10688.0</td>\n",
       "      <td>5857.0</td>\n",
       "      <td>1.0</td>\n",
       "    </tr>\n",
       "    <tr>\n",
       "      <th>pHouseEffects[2]</th>\n",
       "      <td>0.087</td>\n",
       "      <td>4.539</td>\n",
       "      <td>-8.438</td>\n",
       "      <td>8.514</td>\n",
       "      <td>0.044</td>\n",
       "      <td>0.054</td>\n",
       "      <td>10722.0</td>\n",
       "      <td>5934.0</td>\n",
       "      <td>1.0</td>\n",
       "    </tr>\n",
       "    <tr>\n",
       "      <th>houseEffect[0]</th>\n",
       "      <td>-0.182</td>\n",
       "      <td>0.275</td>\n",
       "      <td>-0.667</td>\n",
       "      <td>0.356</td>\n",
       "      <td>0.003</td>\n",
       "      <td>0.002</td>\n",
       "      <td>8243.0</td>\n",
       "      <td>8281.0</td>\n",
       "      <td>1.0</td>\n",
       "    </tr>\n",
       "    <tr>\n",
       "      <th>houseEffect[1]</th>\n",
       "      <td>0.042</td>\n",
       "      <td>0.261</td>\n",
       "      <td>-0.461</td>\n",
       "      <td>0.518</td>\n",
       "      <td>0.003</td>\n",
       "      <td>0.002</td>\n",
       "      <td>6847.0</td>\n",
       "      <td>6858.0</td>\n",
       "      <td>1.0</td>\n",
       "    </tr>\n",
       "    <tr>\n",
       "      <th>houseEffect[2]</th>\n",
       "      <td>0.140</td>\n",
       "      <td>0.311</td>\n",
       "      <td>-0.456</td>\n",
       "      <td>0.708</td>\n",
       "      <td>0.003</td>\n",
       "      <td>0.003</td>\n",
       "      <td>8355.0</td>\n",
       "      <td>7244.0</td>\n",
       "      <td>1.0</td>\n",
       "    </tr>\n",
       "  </tbody>\n",
       "</table>\n",
       "<p>838 rows × 9 columns</p>\n",
       "</div>"
      ],
      "text/plain": [
       "                       mean     sd  hdi_3%  hdi_97%  mcse_mean  mcse_sd  \\\n",
       "hidden_vote_share[0]  1.556  0.958  -0.191    3.396      0.011    0.008   \n",
       "hidden_vote_share[1]  1.545  0.954  -0.272    3.306      0.011    0.008   \n",
       "hidden_vote_share[2]  1.534  0.948  -0.200    3.356      0.011    0.008   \n",
       "hidden_vote_share[3]  1.525  0.944  -0.274    3.268      0.011    0.008   \n",
       "hidden_vote_share[4]  1.515  0.938  -0.234    3.280      0.011    0.008   \n",
       "...                     ...    ...     ...      ...        ...      ...   \n",
       "pHouseEffects[1]     -0.011  4.533  -8.413    8.548      0.044    0.054   \n",
       "pHouseEffects[2]      0.087  4.539  -8.438    8.514      0.044    0.054   \n",
       "houseEffect[0]       -0.182  0.275  -0.667    0.356      0.003    0.002   \n",
       "houseEffect[1]        0.042  0.261  -0.461    0.518      0.003    0.002   \n",
       "houseEffect[2]        0.140  0.311  -0.456    0.708      0.003    0.003   \n",
       "\n",
       "                      ess_bulk  ess_tail  r_hat  \n",
       "hidden_vote_share[0]    8021.0    8942.0    1.0  \n",
       "hidden_vote_share[1]    7927.0    8870.0    1.0  \n",
       "hidden_vote_share[2]    7841.0    8631.0    1.0  \n",
       "hidden_vote_share[3]    7715.0    8765.0    1.0  \n",
       "hidden_vote_share[4]    7515.0    8672.0    1.0  \n",
       "...                        ...       ...    ...  \n",
       "pHouseEffects[1]       10688.0    5857.0    1.0  \n",
       "pHouseEffects[2]       10722.0    5934.0    1.0  \n",
       "houseEffect[0]          8243.0    8281.0    1.0  \n",
       "houseEffect[1]          6847.0    6858.0    1.0  \n",
       "houseEffect[2]          8355.0    7244.0    1.0  \n",
       "\n",
       "[838 rows x 9 columns]"
      ]
     },
     "execution_count": 15,
     "metadata": {},
     "output_type": "execute_result"
    }
   ],
   "source": [
    "az.summary(fit)"
   ]
  },
  {
   "cell_type": "code",
   "execution_count": 16,
   "id": "1301c867",
   "metadata": {
    "ExecuteTime": {
     "end_time": "2021-11-12T09:15:56.704325Z",
     "start_time": "2021-11-12T09:15:56.586585Z"
    }
   },
   "outputs": [],
   "source": [
    "# Estimated Bayesian Fraction of Missing Information ...\n",
    "# Good if close to one; bad if close to zero ...\n",
    "bfmi = az.bfmi(fit)\n",
    "if (bfmi <= 0.5).any():\n",
    "    print('Note: the BFMI could be problematic')\n",
    "    print(bfmi)"
   ]
  },
  {
   "cell_type": "code",
   "execution_count": 17,
   "id": "8b818326",
   "metadata": {
    "ExecuteTime": {
     "end_time": "2021-11-12T09:16:00.233427Z",
     "start_time": "2021-11-12T09:15:56.705301Z"
    }
   },
   "outputs": [],
   "source": [
    "# R-hat chain convergence diagnostic\n",
    "# ESS - effective sample size (used to be n_eff)\n",
    "RHAT_THRESHOLD = 1.05\n",
    "ESS_THRESHOLD = 1000\n",
    "rhat = az.rhat(fit)\n",
    "ess = az.ess(fit)\n",
    "for var in ['houseEffect', 'hidden_vote_share']:\n",
    "    if (rhat[var] > RHAT_THRESHOLD).any():\n",
    "        print(f'Check {var} - chain convergence')\n",
    "    if (ess[var] < ESS_THRESHOLD).any():\n",
    "        print(f'Check {var} - effective sample size')"
   ]
  },
  {
   "cell_type": "code",
   "execution_count": 18,
   "id": "272485cf",
   "metadata": {
    "ExecuteTime": {
     "end_time": "2021-11-12T09:16:00.704446Z",
     "start_time": "2021-11-12T09:16:00.234373Z"
    }
   },
   "outputs": [
    {
     "data": {
      "text/plain": [
       "array([[<AxesSubplot:title={'center':'houseEffect'}>,\n",
       "        <AxesSubplot:title={'center':'houseEffect'}>]], dtype=object)"
      ]
     },
     "execution_count": 18,
     "metadata": {},
     "output_type": "execute_result"
    },
    {
     "data": {
      "image/png": "[encoded data removed]",
      "text/plain": [
       "<Figure size 864x144 with 2 Axes>"
      ]
     },
     "metadata": {},
     "output_type": "display_data"
    }
   ],
   "source": [
    "az.plot_trace(fit, var_names=['houseEffect'])"
   ]
  },
  {
   "cell_type": "markdown",
   "id": "fafddfee",
   "metadata": {},
   "source": [
    "## Results"
   ]
  },
  {
   "cell_type": "code",
   "execution_count": 19,
   "id": "efb1c9c6",
   "metadata": {
    "ExecuteTime": {
     "end_time": "2021-11-12T09:16:00.756270Z",
     "start_time": "2021-11-12T09:16:00.705569Z"
    }
   },
   "outputs": [],
   "source": [
    "results_df = fit.to_frame()"
   ]
  },
  {
   "cell_type": "code",
   "execution_count": 20,
   "id": "6f70f9fd",
   "metadata": {
    "ExecuteTime": {
     "end_time": "2021-11-12T09:16:00.763725Z",
     "start_time": "2021-11-12T09:16:00.757151Z"
    }
   },
   "outputs": [
    {
     "data": {
      "text/html": [
       "<div>\n",
       "<style scoped>\n",
       "    .dataframe tbody tr th:only-of-type {\n",
       "        vertical-align: middle;\n",
       "    }\n",
       "\n",
       "    .dataframe tbody tr th {\n",
       "        vertical-align: top;\n",
       "    }\n",
       "\n",
       "    .dataframe thead th {\n",
       "        text-align: right;\n",
       "    }\n",
       "</style>\n",
       "<table border=\"1\" class=\"dataframe\">\n",
       "  <thead>\n",
       "    <tr style=\"text-align: right;\">\n",
       "      <th></th>\n",
       "      <th>low</th>\n",
       "      <th>high</th>\n",
       "    </tr>\n",
       "  </thead>\n",
       "  <tbody>\n",
       "    <tr>\n",
       "      <th>99%</th>\n",
       "      <td>0.005</td>\n",
       "      <td>0.995</td>\n",
       "    </tr>\n",
       "    <tr>\n",
       "      <th>95%</th>\n",
       "      <td>0.025</td>\n",
       "      <td>0.975</td>\n",
       "    </tr>\n",
       "    <tr>\n",
       "      <th>80%</th>\n",
       "      <td>0.100</td>\n",
       "      <td>0.900</td>\n",
       "    </tr>\n",
       "    <tr>\n",
       "      <th>50%</th>\n",
       "      <td>0.250</td>\n",
       "      <td>0.750</td>\n",
       "    </tr>\n",
       "  </tbody>\n",
       "</table>\n",
       "</div>"
      ],
      "text/plain": [
       "       low   high\n",
       "99%  0.005  0.995\n",
       "95%  0.025  0.975\n",
       "80%  0.100  0.900\n",
       "50%  0.250  0.750"
      ]
     },
     "execution_count": 20,
     "metadata": {},
     "output_type": "execute_result"
    }
   ],
   "source": [
    "quants = [0.005, 0.025, 0.100, 0.250, 0.500, 0.750, 0.900, 0.975, 0.995]\n",
    "LOW = 'low'\n",
    "HIGH = 'high'\n",
    "ranges = pd.DataFrame({\n",
    "    '99%': (0.005, 0.995),\n",
    "    '95%': (0.025, 0.975),\n",
    "    '80%': (0.100, 0.900),\n",
    "    '50%': (0.250, 0.750),\n",
    "}, index=[LOW, HIGH]).T\n",
    "ranges"
   ]
  },
  {
   "cell_type": "code",
   "execution_count": 21,
   "id": "f997d3fe",
   "metadata": {
    "ExecuteTime": {
     "end_time": "2021-11-12T09:16:00.768637Z",
     "start_time": "2021-11-12T09:16:00.765096Z"
    }
   },
   "outputs": [],
   "source": [
    "def plot_wrap(fig, ax, title):\n",
    "    ax.set_title(title)\n",
    "    fig.tight_layout(pad=1.1)\n",
    "    fig.text(0.005, 0.005, \n",
    "             'Note: house effects sum to zero', \n",
    "             ha='left', va='bottom', \n",
    "             c='#999999', style='italic', fontsize=8)\n",
    "    fig.text(0.995, 0.005, SOURCE, ha='right', va='bottom', \n",
    "             c='#999999', style='italic', fontsize=8)\n",
    "    fig.savefig(CHART_DIR+title+'.png', dpi=300)\n",
    "    plt.show()\n",
    "    plt.close()"
   ]
  },
  {
   "cell_type": "markdown",
   "id": "8bb8fbbf",
   "metadata": {},
   "source": [
    "### House effects"
   ]
  },
  {
   "cell_type": "code",
   "execution_count": 22,
   "id": "e40250c7",
   "metadata": {
    "ExecuteTime": {
     "end_time": "2021-11-12T09:16:00.777974Z",
     "start_time": "2021-11-12T09:16:00.769844Z"
    }
   },
   "outputs": [],
   "source": [
    "# Get the house effects data\n",
    "house_effects = results_df[results_df.columns[results_df.columns.str.contains('houseEffect')]]\n",
    "house_effects = house_effects  # percent\n",
    "house_effects.columns = (\n",
    "    house_effects.columns\n",
    "    .str.extract(r'([\\d]+)$')\n",
    "    .pipe(lambda x: x[x.columns[0]])\n",
    "    .astype(int)\n",
    "    .map(brand_map)\n",
    ")\n",
    "house_effects = house_effects.quantile(quants)"
   ]
  },
  {
   "cell_type": "code",
   "execution_count": 23,
   "id": "5c22321b",
   "metadata": {
    "ExecuteTime": {
     "end_time": "2021-11-12T09:16:01.074132Z",
     "start_time": "2021-11-12T09:16:00.779067Z"
    }
   },
   "outputs": [
    {
     "name": "stdout",
     "output_type": "stream",
     "text": [
      "0\n",
      "Essential         -0.178229\n",
      "Newspoll-YouGov    0.040932\n",
      "Roy Morgan         0.141042\n",
      "Name: 0.5, dtype: float64\n"
     ]
    },
    {
     "data": {
      "image/png": "[encoded data removed]",
      "text/plain": [
       "<Figure size 648x324 with 1 Axes>"
      ]
     },
     "metadata": {},
     "output_type": "display_data"
    }
   ],
   "source": [
    "# Plot the house effects data\n",
    "fig, ax = plt.subplots()\n",
    "ax.margins(0.01)\n",
    "\n",
    "for i, house in enumerate(house_effects.columns):\n",
    "    alpha = 0.1\n",
    "    for x, y in ranges.iterrows():\n",
    "        low = y[0]\n",
    "        high = y[1]\n",
    "        lowpoint = house_effects.loc[low, house]\n",
    "        width = house_effects.loc[high, house] - lowpoint\n",
    "        label = x if i == 0 else None\n",
    "        ax.barh(y=house, left=lowpoint, width=width, \n",
    "                height=0.5, color='darkblue', alpha=alpha,\n",
    "                label=label)\n",
    "        alpha += 0.075\n",
    "\n",
    "ax.scatter(y=range(len(house_effects.columns)), \n",
    "           x=house_effects.loc[0.500],\n",
    "           marker='d', facecolor='white',\n",
    "           edgecolor='darkblue', \n",
    "           linewidth=0.5, zorder=2,\n",
    "           label='Median', s=90)\n",
    "\n",
    "print(house_effects.loc[0.500])\n",
    "\n",
    "ax.legend(loc='best')\n",
    "ax.set_xlabel('Percentage Points (towards the Coalition)')\n",
    "\n",
    "plot_wrap(fig, ax, '2pp House Effects')"
   ]
  },
  {
   "cell_type": "markdown",
   "id": "7a1167d2",
   "metadata": {},
   "source": [
    "### 2pp Voting Intention"
   ]
  },
  {
   "cell_type": "code",
   "execution_count": 24,
   "id": "47e74108",
   "metadata": {
    "ExecuteTime": {
     "end_time": "2021-11-12T09:16:01.366146Z",
     "start_time": "2021-11-12T09:16:01.075127Z"
    }
   },
   "outputs": [],
   "source": [
    "# Get the daily hidden vote share data\n",
    "hvs = (\n",
    "    results_df[\n",
    "        results_df.columns[\n",
    "            results_df.columns.str.contains('hidden_vote_share')\n",
    "        ]\n",
    "    ]\n",
    ")\n",
    "hvs = hvs + 50 # percent\n",
    "hvs.columns = pd.date_range(start=first_day, freq='D', \n",
    "                            periods=len(hvs.columns))\n",
    "hvs = hvs.quantile(quants)"
   ]
  },
  {
   "cell_type": "code",
   "execution_count": 25,
   "id": "1e0785b3",
   "metadata": {
    "ExecuteTime": {
     "end_time": "2021-11-12T09:16:01.782627Z",
     "start_time": "2021-11-12T09:16:01.367171Z"
    }
   },
   "outputs": [
    {
     "data": {
      "image/png": "[encoded data removed]",
      "text/plain": [
       "<Figure size 648x324 with 1 Axes>"
      ]
     },
     "metadata": {},
     "output_type": "display_data"
    }
   ],
   "source": [
    "# Plot the daily hidden vote share data\n",
    "fig, ax = plt.subplots()\n",
    "ax.margins(0.01)\n",
    "alpha = 0.1\n",
    "for x, y in ranges.iterrows():\n",
    "    low = y[0]\n",
    "    high = y[1]\n",
    "    lowpoint = hvs.loc[low]\n",
    "    highpoint = hvs.loc[high]\n",
    "    ax.fill_between(x=lowpoint.index, y1=lowpoint, y2=highpoint,\n",
    "                    color='darkblue', alpha = alpha,label=x,)\n",
    "    alpha += 0.075\n",
    "    \n",
    "ax.plot(hvs.columns, hvs.loc[0.500], \n",
    "        color='darkblue', lw=2, label='Median')\n",
    "\n",
    "# annotate end-point median to one devimal place ...\n",
    "ax.text(hvs.columns[-1] + pd.Timedelta(days=10), \n",
    "        hvs.loc[0.500][-1], \n",
    "        f'{hvs.loc[0.500].round(1)[-1]}',\n",
    "        rotation=90, ha='left', va='center',\n",
    "        fontsize=14)\n",
    "\n",
    "ax.axhline(y=50, c='#555555', lw=1.5)\n",
    "\n",
    "brand_col = 'Brand'\n",
    "markers = ['x', '+', '1', '2', '3', '4']\n",
    "for i, brand in enumerate(sorted(tpp[brand_col].unique())):\n",
    "    subset = tpp.loc[tpp[brand_col] == brand]\n",
    "    if not len(subset):\n",
    "        continue # ignore empty subsets\n",
    "    ax.scatter(subset['Mean Date'], subset['2pp vote L/NP'], \n",
    "               marker=markers[i], label=brand,\n",
    "               color='darkred')\n",
    "\n",
    "ax.set_ylabel('Per cent vote share for the Coalition')\n",
    "ax.legend(loc='best', ncol=2)\n",
    "    \n",
    "plot_wrap(fig, ax, '2pp Coalition Voting Intention')"
   ]
  },
  {
   "cell_type": "code",
   "execution_count": null,
   "id": "c3ccbfa1",
   "metadata": {},
   "outputs": [],
   "source": []
  }
 ],
 "metadata": {
  "kernelspec": {
   "display_name": "Python 3 (ipykernel)",
   "language": "python",
   "name": "python3"
  },
  "language_info": {
   "codemirror_mode": {
    "name": "ipython",
    "version": 3
   },
   "file_extension": ".py",
   "mimetype": "text/x-python",
   "name": "python",
   "nbconvert_exporter": "python",
   "pygments_lexer": "ipython3",
   "version": "3.9.7"
  },
  "latex_envs": {
   "LaTeX_envs_menu_present": true,
   "autoclose": false,
   "autocomplete": true,
   "bibliofile": "biblio.bib",
   "cite_by": "apalike",
   "current_citInitial": 1,
   "eqLabelWithNumbers": true,
   "eqNumInitial": 1,
   "hotkeys": {
    "equation": "Ctrl-E",
    "itemize": "Ctrl-I"
   },
   "labels_anchors": false,
   "latex_user_defs": false,
   "report_style_numbering": false,
   "user_envs_cfg": false
  },
  "toc": {
   "base_numbering": 1,
   "nav_menu": {},
   "number_sections": true,
   "sideBar": true,
   "skip_h1_title": true,
   "title_cell": "Table of Contents",
   "title_sidebar": "Contents",
   "toc_cell": true,
   "toc_position": {
    "height": "calc(100% - 180px)",
    "left": "10px",
    "top": "150px",
    "width": "236.10714721679688px"
   },
   "toc_section_display": true,
   "toc_window_display": true
  },
  "varInspector": {
   "cols": {
    "lenName": 16,
    "lenType": 16,
    "lenVar": 40
   },
   "kernels_config": {
    "python": {
     "delete_cmd_postfix": "",
     "delete_cmd_prefix": "del ",
     "library": "var_list.py",
     "varRefreshCmd": "print(var_dic_list())"
    },
    "r": {
     "delete_cmd_postfix": ") ",
     "delete_cmd_prefix": "rm(",
     "library": "var_list.r",
     "varRefreshCmd": "cat(var_dic_list()) "
    }
   },
   "types_to_exclude": [
    "module",
    "function",
    "builtin_function_or_method",
    "instance",
    "_Feature"
   ],
   "window_display": false
  }
 },
 "nbformat": 4,
 "nbformat_minor": 5
}
