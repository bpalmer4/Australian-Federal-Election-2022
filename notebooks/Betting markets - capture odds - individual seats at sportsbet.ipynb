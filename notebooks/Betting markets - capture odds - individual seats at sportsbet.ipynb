{
 "cells": [
  {
   "cell_type": "markdown",
   "id": "f6e6834d",
   "metadata": {},
   "source": [
    "# Betting markets - capture odds - individual seats at sportsbet\n",
    "\n",
    "Note: this notebook is for ease of testing. Convert to a python file and move to the automated directory.\n",
    "\n",
    "To do this ...\n",
    "```\n",
    "jupyter nbconvert --to python \"Betting markets - capture odds - individual seats at sportsbet.ipynb\"\n",
    "chmod 700 \"Betting markets - capture odds - individual seats at sportsbet.py\"\n",
    "mv \"Betting markets - capture odds - individual seats at sportsbet.py\" ../automated ```"
   ]
  },
  {
   "cell_type": "markdown",
   "id": "99af8137",
   "metadata": {
    "toc": true
   },
   "source": [
    "<h1>Table of Contents<span class=\"tocSkip\"></span></h1>\n",
    "<div class=\"toc\"><ul class=\"toc-item\"><li><span><a href=\"#Python-setup\" data-toc-modified-id=\"Python-setup-1\"><span class=\"toc-item-num\">1&nbsp;&nbsp;</span>Python setup</a></span></li><li><span><a href=\"#Set-up-web-driver-options\" data-toc-modified-id=\"Set-up-web-driver-options-2\"><span class=\"toc-item-num\">2&nbsp;&nbsp;</span>Set-up web-driver options</a></span></li><li><span><a href=\"#Extract-website-text-using-Selenium\" data-toc-modified-id=\"Extract-website-text-using-Selenium-3\"><span class=\"toc-item-num\">3&nbsp;&nbsp;</span>Extract website text using Selenium</a></span></li><li><span><a href=\"#Extract-data-of-interest\" data-toc-modified-id=\"Extract-data-of-interest-4\"><span class=\"toc-item-num\">4&nbsp;&nbsp;</span>Extract data of interest</a></span></li><li><span><a href=\"#Append-this-data-to-a-CSV-file\" data-toc-modified-id=\"Append-this-data-to-a-CSV-file-5\"><span class=\"toc-item-num\">5&nbsp;&nbsp;</span>Append this data to a CSV file</a></span></li></ul></div>"
   ]
  },
  {
   "cell_type": "markdown",
   "id": "e9b68c04",
   "metadata": {},
   "source": [
    "## Python setup"
   ]
  },
  {
   "cell_type": "code",
   "execution_count": 1,
   "id": "564a76be",
   "metadata": {
    "ExecuteTime": {
     "end_time": "2022-01-28T00:14:56.005758Z",
     "start_time": "2022-01-28T00:14:49.402489Z"
    }
   },
   "outputs": [],
   "source": [
    "# data science imports\n",
    "import numpy as np\n",
    "import pandas as pd\n",
    "import matplotlib.pyplot as plt\n",
    "\n",
    "# web scraping imports\n",
    "from selenium import webdriver\n",
    "from selenium.webdriver.common.by import By\n",
    "from selenium.webdriver.common.keys import Keys\n",
    "\n",
    "# System imports\n",
    "import re\n",
    "import datetime\n",
    "from pathlib import Path\n",
    "from time import sleep"
   ]
  },
  {
   "cell_type": "markdown",
   "id": "cef501ea",
   "metadata": {
    "ExecuteTime": {
     "end_time": "2021-12-19T03:37:57.611094Z",
     "start_time": "2021-12-19T03:37:57.608964Z"
    }
   },
   "source": [
    "## Set-up web-driver options"
   ]
  },
  {
   "cell_type": "code",
   "execution_count": 2,
   "id": "14a3e18d",
   "metadata": {
    "ExecuteTime": {
     "end_time": "2022-01-28T00:14:56.018388Z",
     "start_time": "2022-01-28T00:14:56.011669Z"
    }
   },
   "outputs": [],
   "source": [
    "options = webdriver.ChromeOptions()\n",
    "options.add_argument('--ignore-certificate-errors')\n",
    "options.add_argument('--incognito')\n",
    "options.add_argument('--window-size=1920,1080')\n",
    "options.add_argument('--headless')"
   ]
  },
  {
   "cell_type": "markdown",
   "id": "989e2da1",
   "metadata": {},
   "source": [
    "## Extract website text using Selenium"
   ]
  },
  {
   "cell_type": "code",
   "execution_count": 3,
   "id": "c64a9b9a",
   "metadata": {
    "ExecuteTime": {
     "end_time": "2022-01-28T00:14:56.027516Z",
     "start_time": "2022-01-28T00:14:56.021823Z"
    }
   },
   "outputs": [],
   "source": [
    "urls = {\n",
    "    'NSW': 'https://www.sportsbet.com.au/betting/politics/australian-federal-politics/Next-Federal-Election-NSW-Seats-5878289',\n",
    "    'Vic': 'https://www.sportsbet.com.au/betting/politics/australian-federal-politics/Next-Federal-Election-VIC-Seats-6054105',\n",
    "    'Qld': 'https://www.sportsbet.com.au/betting/politics/australian-federal-politics/Next-Federal-Election-QLD-Seats-6227453',\n",
    "    'WA':  'https://www.sportsbet.com.au/betting/politics/australian-federal-politics/Next-Federal-Election-WA-Seats-6240412',\n",
    "    'SA':  'https://www.sportsbet.com.au/betting/politics/australian-federal-politics/Next-Federal-Election-SA-Seats-6240454',\n",
    "    'Tas': 'https://www.sportsbet.com.au/betting/politics/australian-federal-politics/Next-Federal-Election-TAS-Seats-6225404',\n",
    "    'ACT': 'https://www.sportsbet.com.au/betting/politics/australian-federal-politics/next-federal-election-act-seats-5849944',\n",
    "    'NT':  'https://www.sportsbet.com.au/betting/politics/australian-federal-politics/Next-Federal-Election-NT-Seats-6225384',\n",
    "}"
   ]
  },
  {
   "cell_type": "code",
   "execution_count": 4,
   "id": "a6111fd4",
   "metadata": {
    "ExecuteTime": {
     "end_time": "2022-01-28T00:14:56.040995Z",
     "start_time": "2022-01-28T00:14:56.032675Z"
    },
    "scrolled": false
   },
   "outputs": [],
   "source": [
    "def capture(driver, state, url, verbose=False):\n",
    "    SHOW_ALL = 'Show All'\n",
    "    SHOW_LESS = 'Show Less'\n",
    "    \n",
    "    driver.get(url)\n",
    "    if verbose: print(f'Got {state}')\n",
    "\n",
    "    electorates = driver.find_elements(By.XPATH, \"//div[contains(@class, 'accordionItemMobileOrSingleMarketGroup_fukjuk5')]\")\n",
    "    if verbose: print(f'Electorate count: {len(electorates)}')\n",
    "\n",
    "    scraped = {}\n",
    "    for e in electorates:\n",
    "        blob = e.text\n",
    "        if SHOW_ALL in blob:\n",
    "            expandable = e.find_element(By.XPATH, f\"//div/span[contains(., '{SHOW_ALL}')]\")\n",
    "            webdriver.ActionChains(driver).click(expandable).perform()\n",
    "            blob = e.text\n",
    "        ignore_last = SHOW_ALL in blob or SHOW_LESS in blob\n",
    "        findings = blob.split('\\n')\n",
    "        seat_name = findings[0]\n",
    "        odds_pairs = findings[2:-1] if ignore_last else findings[2:]\n",
    "        it = iter(odds_pairs)\n",
    "        scraped[seat_name] = dict(zip(it, it))\n",
    "    \n",
    "    if verbose: print(scraped)\n",
    "    return scraped"
   ]
  },
  {
   "cell_type": "code",
   "execution_count": 5,
   "id": "c6172d7e",
   "metadata": {
    "ExecuteTime": {
     "end_time": "2022-01-28T00:15:00.888039Z",
     "start_time": "2022-01-28T00:14:56.042995Z"
    }
   },
   "outputs": [],
   "source": [
    "# instantiate a web driver\n",
    "driver = webdriver.Chrome(options=options)\n",
    "driver.implicitly_wait(220) "
   ]
  },
  {
   "cell_type": "code",
   "execution_count": 6,
   "id": "86d8fdf7",
   "metadata": {
    "ExecuteTime": {
     "end_time": "2022-01-28T00:17:34.309428Z",
     "start_time": "2022-01-28T00:15:00.889407Z"
    },
    "scrolled": false
   },
   "outputs": [],
   "source": [
    "# capture the data we want\n",
    "all_seats = {}\n",
    "for state, url in urls.items():\n",
    "    found = capture(driver, state, url)\n",
    "    all_seats = {**all_seats, **found}\n",
    "    sleep(5) # be a good citizen"
   ]
  },
  {
   "cell_type": "code",
   "execution_count": 9,
   "id": "65bdadd4",
   "metadata": {
    "ExecuteTime": {
     "end_time": "2022-01-28T00:19:03.984315Z",
     "start_time": "2022-01-28T00:19:03.978186Z"
    }
   },
   "outputs": [
    {
     "data": {
      "text/plain": [
       "151"
      ]
     },
     "execution_count": 9,
     "metadata": {},
     "output_type": "execute_result"
    }
   ],
   "source": [
    "len(all_seats) # should be 151 - one per seat in Parliament"
   ]
  },
  {
   "cell_type": "code",
   "execution_count": null,
   "id": "e1d89b1b",
   "metadata": {
    "ExecuteTime": {
     "end_time": "2022-01-28T00:17:34.698381Z",
     "start_time": "2022-01-28T00:17:34.698373Z"
    }
   },
   "outputs": [],
   "source": [
    "driver.close()"
   ]
  },
  {
   "cell_type": "markdown",
   "id": "23288bdb",
   "metadata": {},
   "source": [
    "## Extract data of interest"
   ]
  },
  {
   "cell_type": "code",
   "execution_count": 11,
   "id": "faee4193",
   "metadata": {
    "ExecuteTime": {
     "end_time": "2022-01-28T00:19:47.734720Z",
     "start_time": "2022-01-28T00:19:47.710611Z"
    }
   },
   "outputs": [
    {
     "data": {
      "text/plain": [
       "151"
      ]
     },
     "execution_count": 11,
     "metadata": {},
     "output_type": "execute_result"
    }
   ],
   "source": [
    "wide_data = pd.DataFrame(all_seats).T\n",
    "len(wide_data)"
   ]
  },
  {
   "cell_type": "code",
   "execution_count": 12,
   "id": "63414d7c",
   "metadata": {
    "ExecuteTime": {
     "end_time": "2022-01-28T00:19:48.824530Z",
     "start_time": "2022-01-28T00:19:48.754671Z"
    }
   },
   "outputs": [
    {
     "data": {
      "text/html": [
       "<div>\n",
       "<style scoped>\n",
       "    .dataframe tbody tr th:only-of-type {\n",
       "        vertical-align: middle;\n",
       "    }\n",
       "\n",
       "    .dataframe tbody tr th {\n",
       "        vertical-align: top;\n",
       "    }\n",
       "\n",
       "    .dataframe thead th {\n",
       "        text-align: right;\n",
       "    }\n",
       "</style>\n",
       "<table border=\"1\" class=\"dataframe\">\n",
       "  <thead>\n",
       "    <tr style=\"text-align: right;\">\n",
       "      <th></th>\n",
       "      <th></th>\n",
       "      <th>variable</th>\n",
       "      <th>value</th>\n",
       "    </tr>\n",
       "    <tr>\n",
       "      <th>datatime</th>\n",
       "      <th>seat</th>\n",
       "      <th></th>\n",
       "      <th></th>\n",
       "    </tr>\n",
       "  </thead>\n",
       "  <tbody>\n",
       "    <tr>\n",
       "      <th rowspan=\"11\" valign=\"top\">2022-01-28 11:19:48.781605</th>\n",
       "      <th>Banks (NSW)</th>\n",
       "      <td>Coalition</td>\n",
       "      <td>1.40</td>\n",
       "    </tr>\n",
       "    <tr>\n",
       "      <th>Barton (NSW)</th>\n",
       "      <td>Coalition</td>\n",
       "      <td>8.00</td>\n",
       "    </tr>\n",
       "    <tr>\n",
       "      <th>Bennelong (NSW)</th>\n",
       "      <td>Coalition</td>\n",
       "      <td>1.20</td>\n",
       "    </tr>\n",
       "    <tr>\n",
       "      <th>Berowra (NSW)</th>\n",
       "      <td>Coalition</td>\n",
       "      <td>1.01</td>\n",
       "    </tr>\n",
       "    <tr>\n",
       "      <th>Blaxland (NSW)</th>\n",
       "      <td>Coalition</td>\n",
       "      <td>12.00</td>\n",
       "    </tr>\n",
       "    <tr>\n",
       "      <th>...</th>\n",
       "      <td>...</td>\n",
       "      <td>...</td>\n",
       "    </tr>\n",
       "    <tr>\n",
       "      <th>Bass (TAS)</th>\n",
       "      <td>Jacqui Lambie Network</td>\n",
       "      <td>18.00</td>\n",
       "    </tr>\n",
       "    <tr>\n",
       "      <th>Clark (TAS)</th>\n",
       "      <td>Jacqui Lambie Network</td>\n",
       "      <td>34.00</td>\n",
       "    </tr>\n",
       "    <tr>\n",
       "      <th>Lyons (TAS)</th>\n",
       "      <td>Jacqui Lambie Network</td>\n",
       "      <td>21.00</td>\n",
       "    </tr>\n",
       "    <tr>\n",
       "      <th>Franklin (TAS)</th>\n",
       "      <td>Jacqui Lambie Network</td>\n",
       "      <td>21.00</td>\n",
       "    </tr>\n",
       "    <tr>\n",
       "      <th>Braddon (TAS)</th>\n",
       "      <td>Jacqui Lambie Network</td>\n",
       "      <td>18.00</td>\n",
       "    </tr>\n",
       "  </tbody>\n",
       "</table>\n",
       "<p>944 rows × 2 columns</p>\n",
       "</div>"
      ],
      "text/plain": [
       "                                                         variable  value\n",
       "datatime                   seat                                         \n",
       "2022-01-28 11:19:48.781605 Banks (NSW)                  Coalition   1.40\n",
       "                           Barton (NSW)                 Coalition   8.00\n",
       "                           Bennelong (NSW)              Coalition   1.20\n",
       "                           Berowra (NSW)                Coalition   1.01\n",
       "                           Blaxland (NSW)               Coalition  12.00\n",
       "...                                                           ...    ...\n",
       "                           Bass (TAS)       Jacqui Lambie Network  18.00\n",
       "                           Clark (TAS)      Jacqui Lambie Network  34.00\n",
       "                           Lyons (TAS)      Jacqui Lambie Network  21.00\n",
       "                           Franklin (TAS)   Jacqui Lambie Network  21.00\n",
       "                           Braddon (TAS)    Jacqui Lambie Network  18.00\n",
       "\n",
       "[944 rows x 2 columns]"
      ]
     },
     "execution_count": 12,
     "metadata": {},
     "output_type": "execute_result"
    }
   ],
   "source": [
    "long_data = wide_data.melt(value_vars=wide_data.columns, ignore_index=False)\n",
    "long_data = long_data[long_data['value'].notna()]\n",
    "new_index = pd.MultiIndex.from_arrays([np.repeat(datetime.datetime.now(), len(long_data)),long_data.index ])\n",
    "long_data.index = new_index\n",
    "long_data.index.names = ['datatime', 'seat']\n",
    "long_data"
   ]
  },
  {
   "cell_type": "markdown",
   "id": "8bc0964d",
   "metadata": {},
   "source": [
    "## Append this data to a CSV file"
   ]
  },
  {
   "cell_type": "code",
   "execution_count": null,
   "id": "79bd1309",
   "metadata": {
    "ExecuteTime": {
     "end_time": "2022-01-28T00:17:34.700618Z",
     "start_time": "2022-01-28T00:17:34.700610Z"
    }
   },
   "outputs": [],
   "source": [
    "# save to file\n",
    "FILE = '../historical-data/sportsbet-2022-individual-seats.csv'\n",
    "long_data.to_csv(FILE, mode='a', index=True, header=False)"
   ]
  },
  {
   "cell_type": "code",
   "execution_count": null,
   "id": "7d93e642",
   "metadata": {},
   "outputs": [],
   "source": []
  }
 ],
 "metadata": {
  "kernelspec": {
   "display_name": "Python 3 (ipykernel)",
   "language": "python",
   "name": "python3"
  },
  "language_info": {
   "codemirror_mode": {
    "name": "ipython",
    "version": 3
   },
   "file_extension": ".py",
   "mimetype": "text/x-python",
   "name": "python",
   "nbconvert_exporter": "python",
   "pygments_lexer": "ipython3",
   "version": "3.9.9"
  },
  "toc": {
   "base_numbering": 1,
   "nav_menu": {},
   "number_sections": true,
   "sideBar": true,
   "skip_h1_title": true,
   "title_cell": "Table of Contents",
   "title_sidebar": "Contents",
   "toc_cell": true,
   "toc_position": {},
   "toc_section_display": true,
   "toc_window_display": true
  },
  "varInspector": {
   "cols": {
    "lenName": 16,
    "lenType": 16,
    "lenVar": 40
   },
   "kernels_config": {
    "python": {
     "delete_cmd_postfix": "",
     "delete_cmd_prefix": "del ",
     "library": "var_list.py",
     "varRefreshCmd": "print(var_dic_list())"
    },
    "r": {
     "delete_cmd_postfix": ") ",
     "delete_cmd_prefix": "rm(",
     "library": "var_list.r",
     "varRefreshCmd": "cat(var_dic_list()) "
    }
   },
   "types_to_exclude": [
    "module",
    "function",
    "builtin_function_or_method",
    "instance",
    "_Feature"
   ],
   "window_display": false
  }
 },
 "nbformat": 4,
 "nbformat_minor": 5
}
