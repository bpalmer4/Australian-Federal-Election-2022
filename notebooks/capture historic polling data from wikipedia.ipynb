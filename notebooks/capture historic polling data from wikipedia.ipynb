{
 "cells": [
  {
   "cell_type": "markdown",
   "id": "12b7cfef",
   "metadata": {},
   "source": [
    "# Capture historic polling data from Wikipedia"
   ]
  },
  {
   "cell_type": "markdown",
   "id": "c181a4b0",
   "metadata": {
    "toc": true
   },
   "source": [
    "<h1>Table of Contents<span class=\"tocSkip\"></span></h1>\n",
    "<div class=\"toc\"><ul class=\"toc-item\"><li><span><a href=\"#Python-set-up\" data-toc-modified-id=\"Python-set-up-1\"><span class=\"toc-item-num\">1&nbsp;&nbsp;</span>Python set-up</a></span></li><li><span><a href=\"#Raw-data-capture\" data-toc-modified-id=\"Raw-data-capture-2\"><span class=\"toc-item-num\">2&nbsp;&nbsp;</span>Raw data capture</a></span></li><li><span><a href=\"#Data-cleaning\" data-toc-modified-id=\"Data-cleaning-3\"><span class=\"toc-item-num\">3&nbsp;&nbsp;</span>Data cleaning</a></span></li><li><span><a href=\"#Compile-a-table-of-polls-immediately-prior-to-an-election\" data-toc-modified-id=\"Compile-a-table-of-polls-immediately-prior-to-an-election-4\"><span class=\"toc-item-num\">4&nbsp;&nbsp;</span>Compile a table of polls immediately prior to an election</a></span></li></ul></div>"
   ]
  },
  {
   "cell_type": "markdown",
   "id": "628de2ef",
   "metadata": {},
   "source": [
    "## Python set-up"
   ]
  },
  {
   "cell_type": "code",
   "execution_count": 1,
   "id": "c9ddfdd3",
   "metadata": {
    "ExecuteTime": {
     "end_time": "2021-11-29T02:04:49.421594Z",
     "start_time": "2021-11-29T02:04:48.393989Z"
    }
   },
   "outputs": [],
   "source": [
    "import numpy as np\n",
    "import pandas as pd\n",
    "import matplotlib.pyplot as plt\n",
    "\n",
    "# local imports\n",
    "import common"
   ]
  },
  {
   "cell_type": "markdown",
   "id": "10e25333",
   "metadata": {},
   "source": [
    "## Raw data capture"
   ]
  },
  {
   "cell_type": "code",
   "execution_count": 2,
   "id": "466d094c",
   "metadata": {
    "ExecuteTime": {
     "end_time": "2021-11-29T02:04:49.426432Z",
     "start_time": "2021-11-29T02:04:49.423687Z"
    }
   },
   "outputs": [],
   "source": [
    "links = {\n",
    "    # election-date: [url, table-number],\n",
    "    '2019-05-18': ['https://en.wikipedia.org/wiki/Opinion_polling_for_the_2019_Australian_federal_election',\n",
    "           1],\n",
    "    '2016-07-02': ['https://en.wikipedia.org/wiki/National_opinion_polling_for_the_2016_Australian_federal_election',\n",
    "          2],\n",
    "    '2013-09-07': ['https://en.wikipedia.org/wiki/Opinion_polling_for_the_2013_Australian_federal_election',\n",
    "          1],\n",
    "    \n",
    "    # This data does not include polling firm ...\n",
    "    #'2010-08-21': ['https://en.wikipedia.org/wiki/Opinion_polling_for_the_2010_Australian_federal_election',\n",
    "    #      0],\n",
    "    \n",
    "    # Earlier polling data does not appear to be available on Wikipedia\n",
    "}"
   ]
  },
  {
   "cell_type": "code",
   "execution_count": 3,
   "id": "2f18d06e",
   "metadata": {
    "ExecuteTime": {
     "end_time": "2021-11-29T02:04:54.337109Z",
     "start_time": "2021-11-29T02:04:49.428775Z"
    }
   },
   "outputs": [],
   "source": [
    "def capture_raw_tables(links):\n",
    "    raw_tables = {}\n",
    "    for elect_date, (url, number) in links.items():\n",
    "        text = common.get_url_text(url)\n",
    "        table = common.get_table_from_text(number, text)\n",
    "        raw_tables[elect_date] = table\n",
    "    return raw_tables\n",
    "\n",
    "raw_tables = capture_raw_tables(links)"
   ]
  },
  {
   "cell_type": "code",
   "execution_count": 4,
   "id": "bcafcbb3",
   "metadata": {
    "ExecuteTime": {
     "end_time": "2021-11-29T02:04:54.342400Z",
     "start_time": "2021-11-29T02:04:54.339448Z"
    }
   },
   "outputs": [],
   "source": [
    "if False: # display tables\n",
    "    for elect_date, table in raw_tables.items():\n",
    "        print(elect_date)\n",
    "        display(table)"
   ]
  },
  {
   "cell_type": "markdown",
   "id": "aaaf73a1",
   "metadata": {},
   "source": [
    "## Data cleaning"
   ]
  },
  {
   "cell_type": "code",
   "execution_count": 5,
   "id": "aa519fc6",
   "metadata": {
    "ExecuteTime": {
     "end_time": "2021-11-29T02:04:54.605179Z",
     "start_time": "2021-11-29T02:04:54.344743Z"
    },
    "scrolled": false
   },
   "outputs": [],
   "source": [
    "clean_tables = {}\n",
    "for election_date, table in raw_tables.items():\n",
    "    clean_tables[election_date] = common.clean(table)\n"
   ]
  },
  {
   "cell_type": "markdown",
   "id": "791afe59",
   "metadata": {},
   "source": [
    "## Compile a table of polls immediately prior to an election"
   ]
  },
  {
   "cell_type": "code",
   "execution_count": null,
   "id": "df481329",
   "metadata": {},
   "outputs": [],
   "source": []
  }
 ],
 "metadata": {
  "kernelspec": {
   "display_name": "Python 3 (ipykernel)",
   "language": "python",
   "name": "python3"
  },
  "language_info": {
   "codemirror_mode": {
    "name": "ipython",
    "version": 3
   },
   "file_extension": ".py",
   "mimetype": "text/x-python",
   "name": "python",
   "nbconvert_exporter": "python",
   "pygments_lexer": "ipython3",
   "version": "3.9.7"
  },
  "toc": {
   "base_numbering": 1,
   "nav_menu": {},
   "number_sections": true,
   "sideBar": true,
   "skip_h1_title": true,
   "title_cell": "Table of Contents",
   "title_sidebar": "Contents",
   "toc_cell": true,
   "toc_position": {},
   "toc_section_display": true,
   "toc_window_display": true
  },
  "varInspector": {
   "cols": {
    "lenName": 16,
    "lenType": 16,
    "lenVar": 40
   },
   "kernels_config": {
    "python": {
     "delete_cmd_postfix": "",
     "delete_cmd_prefix": "del ",
     "library": "var_list.py",
     "varRefreshCmd": "print(var_dic_list())"
    },
    "r": {
     "delete_cmd_postfix": ") ",
     "delete_cmd_prefix": "rm(",
     "library": "var_list.r",
     "varRefreshCmd": "cat(var_dic_list()) "
    }
   },
   "types_to_exclude": [
    "module",
    "function",
    "builtin_function_or_method",
    "instance",
    "_Feature"
   ],
   "window_display": false
  }
 },
 "nbformat": 4,
 "nbformat_minor": 5
}
