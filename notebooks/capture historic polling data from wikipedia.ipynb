{
 "cells": [
  {
   "cell_type": "markdown",
   "id": "0198cdf1",
   "metadata": {},
   "source": [
    "# Capture historic polling data from Wikipedia"
   ]
  },
  {
   "cell_type": "markdown",
   "id": "ffde296d",
   "metadata": {
    "toc": true
   },
   "source": [
    "<h1>Table of Contents<span class=\"tocSkip\"></span></h1>\n",
    "<div class=\"toc\"><ul class=\"toc-item\"><li><span><a href=\"#Python-set-up\" data-toc-modified-id=\"Python-set-up-1\"><span class=\"toc-item-num\">1&nbsp;&nbsp;</span>Python set-up</a></span></li><li><span><a href=\"#Output-location\" data-toc-modified-id=\"Output-location-2\"><span class=\"toc-item-num\">2&nbsp;&nbsp;</span>Output location</a></span></li><li><span><a href=\"#Raw-data-capture\" data-toc-modified-id=\"Raw-data-capture-3\"><span class=\"toc-item-num\">3&nbsp;&nbsp;</span>Raw data capture</a></span></li><li><span><a href=\"#Data-cleaning\" data-toc-modified-id=\"Data-cleaning-4\"><span class=\"toc-item-num\">4&nbsp;&nbsp;</span>Data cleaning</a></span></li><li><span><a href=\"#Compile-a-table-of-opinion-polls\" data-toc-modified-id=\"Compile-a-table-of-opinion-polls-5\"><span class=\"toc-item-num\">5&nbsp;&nbsp;</span>Compile a table of opinion polls</a></span></li><li><span><a href=\"#Save\" data-toc-modified-id=\"Save-6\"><span class=\"toc-item-num\">6&nbsp;&nbsp;</span>Save</a></span></li></ul></div>"
   ]
  },
  {
   "cell_type": "markdown",
   "id": "8baade7d",
   "metadata": {},
   "source": [
    "## Python set-up"
   ]
  },
  {
   "cell_type": "code",
   "execution_count": 1,
   "id": "9e1443ba",
   "metadata": {
    "ExecuteTime": {
     "end_time": "2021-12-01T07:56:32.785766Z",
     "start_time": "2021-12-01T07:56:30.824795Z"
    }
   },
   "outputs": [],
   "source": [
    "# data science imports\n",
    "import pandas as pd\n",
    "\n",
    "# system imports\n",
    "import pathlib\n",
    "\n",
    "# local imports\n",
    "import common"
   ]
  },
  {
   "cell_type": "markdown",
   "id": "fa2486fe",
   "metadata": {},
   "source": [
    "## Output location"
   ]
  },
  {
   "cell_type": "code",
   "execution_count": 2,
   "id": "b59136c4",
   "metadata": {
    "ExecuteTime": {
     "end_time": "2021-12-01T07:56:32.790137Z",
     "start_time": "2021-12-01T07:56:32.787505Z"
    }
   },
   "outputs": [],
   "source": [
    "DATA_DIR = '../historical-data'\n",
    "pathlib.Path(DATA_DIR).mkdir(parents=True, exist_ok=True)\n",
    "DATA_DIR += '/'"
   ]
  },
  {
   "cell_type": "markdown",
   "id": "ef4f96d1",
   "metadata": {},
   "source": [
    "## Raw data capture"
   ]
  },
  {
   "cell_type": "code",
   "execution_count": 3,
   "id": "d6b49e8d",
   "metadata": {
    "ExecuteTime": {
     "end_time": "2021-12-01T07:56:32.796052Z",
     "start_time": "2021-12-01T07:56:32.793489Z"
    }
   },
   "outputs": [],
   "source": [
    "links = {\n",
    "    # election-date: [url, table-number],\n",
    "    '2019-05-18': ['https://en.wikipedia.org/wiki/'\n",
    "                   'Opinion_polling_for_the_2019_Australian_federal_election',\n",
    "                   1],\n",
    "    '2016-07-02': ['https://en.wikipedia.org/wiki/'\n",
    "                   'National_opinion_polling_for_the_2016_Australian_federal_election',\n",
    "                   2],\n",
    "    '2013-09-07': ['https://en.wikipedia.org/wiki/'\n",
    "                   'Opinion_polling_for_the_2013_Australian_federal_election',\n",
    "                   1],\n",
    "    \n",
    "    # This is only Newspoll polling data ... also oddly formatted\n",
    "    #'2010-08-21': ['https://en.wikipedia.org/wiki/'\n",
    "    #               'Opinion_polling_for_the_2010_Australian_federal_election',\n",
    "    #               0],\n",
    "    \n",
    "    # Earlier polling data does not appear to be available on Wikipedia\n",
    "}"
   ]
  },
  {
   "cell_type": "code",
   "execution_count": 4,
   "id": "e90f3b7a",
   "metadata": {
    "ExecuteTime": {
     "end_time": "2021-12-01T07:56:37.556038Z",
     "start_time": "2021-12-01T07:56:32.797990Z"
    }
   },
   "outputs": [
    {
     "ename": "AttributeError",
     "evalue": "module 'common' has no attribute 'get_url_text'",
     "output_type": "error",
     "traceback": [
      "\u001b[0;31m---------------------------------------------------------------------------\u001b[0m",
      "\u001b[0;31mAttributeError\u001b[0m                            Traceback (most recent call last)",
      "Input \u001b[0;32mIn [4]\u001b[0m, in \u001b[0;36m<cell line: 9>\u001b[0;34m()\u001b[0m\n\u001b[1;32m      6\u001b[0m         raw_tables[elect_date] \u001b[38;5;241m=\u001b[39m table\n\u001b[1;32m      7\u001b[0m     \u001b[38;5;28;01mreturn\u001b[39;00m raw_tables\n\u001b[0;32m----> 9\u001b[0m raw_tables \u001b[38;5;241m=\u001b[39m \u001b[43mcapture_raw_tables\u001b[49m\u001b[43m(\u001b[49m\u001b[43mlinks\u001b[49m\u001b[43m)\u001b[49m\n",
      "Input \u001b[0;32mIn [4]\u001b[0m, in \u001b[0;36mcapture_raw_tables\u001b[0;34m(links)\u001b[0m\n\u001b[1;32m      2\u001b[0m raw_tables \u001b[38;5;241m=\u001b[39m {}\n\u001b[1;32m      3\u001b[0m \u001b[38;5;28;01mfor\u001b[39;00m elect_date, (url, number) \u001b[38;5;129;01min\u001b[39;00m links\u001b[38;5;241m.\u001b[39mitems():\n\u001b[0;32m----> 4\u001b[0m     text \u001b[38;5;241m=\u001b[39m \u001b[43mcommon\u001b[49m\u001b[38;5;241;43m.\u001b[39;49m\u001b[43mget_url_text\u001b[49m(url)\n\u001b[1;32m      5\u001b[0m     table \u001b[38;5;241m=\u001b[39m common\u001b[38;5;241m.\u001b[39mget_table_from_text(number, text)\n\u001b[1;32m      6\u001b[0m     raw_tables[elect_date] \u001b[38;5;241m=\u001b[39m table\n",
      "\u001b[0;31mAttributeError\u001b[0m: module 'common' has no attribute 'get_url_text'"
     ]
    }
   ],
   "source": [
    "def capture_raw_tables(links):\n",
    "    raw_tables = {}\n",
    "    for elect_date, (url, number) in links.items():\n",
    "        text = common.get_url_text(url)\n",
    "        table = common.get_table_from_text(number, text)\n",
    "        raw_tables[elect_date] = table\n",
    "    return raw_tables\n",
    "\n",
    "raw_tables = capture_raw_tables(links)"
   ]
  },
  {
   "cell_type": "code",
   "execution_count": null,
   "id": "cc818f20",
   "metadata": {
    "ExecuteTime": {
     "end_time": "2021-12-01T07:56:37.561037Z",
     "start_time": "2021-12-01T07:56:37.558571Z"
    }
   },
   "outputs": [],
   "source": [
    "if False: # display tables\n",
    "    for elect_date, table in raw_tables.items():\n",
    "        print(elect_date)\n",
    "        display(table)"
   ]
  },
  {
   "cell_type": "markdown",
   "id": "52e2b5c4",
   "metadata": {},
   "source": [
    "## Data cleaning"
   ]
  },
  {
   "cell_type": "code",
   "execution_count": null,
   "id": "bbf2dbab",
   "metadata": {
    "ExecuteTime": {
     "end_time": "2021-12-01T07:56:37.813040Z",
     "start_time": "2021-12-01T07:56:37.563479Z"
    },
    "scrolled": false
   },
   "outputs": [],
   "source": [
    "clean_tables = {}\n",
    "for election_date, table in raw_tables.items():\n",
    "    clean_tables[election_date] = common.clean(table)"
   ]
  },
  {
   "cell_type": "markdown",
   "id": "b24463c3",
   "metadata": {},
   "source": [
    "## Compile a table of opinion polls \n",
    "\n",
    "using data for the period 3 months prior to a Federal election"
   ]
  },
  {
   "cell_type": "code",
   "execution_count": null,
   "id": "57b9bc58",
   "metadata": {
    "ExecuteTime": {
     "end_time": "2021-12-01T07:56:37.844593Z",
     "start_time": "2021-12-01T07:56:37.814621Z"
    }
   },
   "outputs": [],
   "source": [
    "def compile_table(clean_tables):\n",
    "\n",
    "    RELEVANT_PERIOD = 100 # DAYS\n",
    "    keep_cols = ['Date', 'Firm', 'Primary vote L/NP', \n",
    "                 'Primary vote ALP',\n",
    "                 'Primary vote GRN', 'Primary vote ONP', \n",
    "                 'Primary vote OTH',\n",
    "                 '2PP vote L/NP', '2PP vote ALP']\n",
    "\n",
    "    final_table = None\n",
    "    for election, table in clean_tables.items():\n",
    "    \n",
    "        # standardise column names\n",
    "        table = table.copy().rename(columns={'TPP vote': '2PP vote'}, level=0)\n",
    "        table = table.rename(columns={'L/NP*': 'L/NP'}, level=1)\n",
    "        table = table.rename(columns={'Labor': 'ALP'}, level=1)\n",
    "        table = table.rename(columns={'Green': 'GRN'}, level=1)\n",
    "        table = table.rename(columns={'Other': 'OTH'}, level=1)\n",
    "        table.columns = common.flatten_col_names(table.columns)\n",
    "    \n",
    "        # select most recent rows\n",
    "        keep = pd.Timestamp(election) - pd.Timedelta(days=RELEVANT_PERIOD)\n",
    "        table = table[table.index >= keep]\n",
    "        keepers = [x for x in keep_cols if x in table.columns]\n",
    "        table = table[keepers]\n",
    "        table['Election'] = election\n",
    "    \n",
    "        # merge into a single table we will save ...\n",
    "        final_table = (\n",
    "            # There must be an easier way of doing this ... \n",
    "            table if final_table is None \n",
    "            else final_table.T.merge(table.T, how='outer', \n",
    "                                     left_index=True, \n",
    "                                     right_index=True).T\n",
    "        )\n",
    "        \n",
    "    return final_table\n",
    "\n",
    "\n",
    "final_table = compile_table(clean_tables)"
   ]
  },
  {
   "cell_type": "markdown",
   "id": "e984a446",
   "metadata": {},
   "source": [
    "## Save"
   ]
  },
  {
   "cell_type": "code",
   "execution_count": null,
   "id": "bf1445ed",
   "metadata": {
    "ExecuteTime": {
     "end_time": "2021-12-01T07:56:37.999025Z",
     "start_time": "2021-12-01T07:56:37.845936Z"
    }
   },
   "outputs": [],
   "source": [
    "final_table.to_excel(DATA_DIR+'historical-poll-data.xlsx')"
   ]
  },
  {
   "cell_type": "code",
   "execution_count": null,
   "id": "2c1181bb",
   "metadata": {},
   "outputs": [],
   "source": []
  }
 ],
 "metadata": {
  "kernelspec": {
   "display_name": "Python 3 (ipykernel)",
   "language": "python",
   "name": "python3"
  },
  "language_info": {
   "codemirror_mode": {
    "name": "ipython",
    "version": 3
   },
   "file_extension": ".py",
   "mimetype": "text/x-python",
   "name": "python",
   "nbconvert_exporter": "python",
   "pygments_lexer": "ipython3",
   "version": "3.9.12"
  },
  "toc": {
   "base_numbering": 1,
   "nav_menu": {},
   "number_sections": true,
   "sideBar": true,
   "skip_h1_title": true,
   "title_cell": "Table of Contents",
   "title_sidebar": "Contents",
   "toc_cell": true,
   "toc_position": {},
   "toc_section_display": true,
   "toc_window_display": true
  },
  "varInspector": {
   "cols": {
    "lenName": 16,
    "lenType": 16,
    "lenVar": 40
   },
   "kernels_config": {
    "python": {
     "delete_cmd_postfix": "",
     "delete_cmd_prefix": "del ",
     "library": "var_list.py",
     "varRefreshCmd": "print(var_dic_list())"
    },
    "r": {
     "delete_cmd_postfix": ") ",
     "delete_cmd_prefix": "rm(",
     "library": "var_list.r",
     "varRefreshCmd": "cat(var_dic_list()) "
    }
   },
   "types_to_exclude": [
    "module",
    "function",
    "builtin_function_or_method",
    "instance",
    "_Feature"
   ],
   "window_display": false
  }
 },
 "nbformat": 4,
 "nbformat_minor": 5
}
