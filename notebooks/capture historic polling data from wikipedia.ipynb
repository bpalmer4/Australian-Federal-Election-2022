{
 "cells": [
  {
   "cell_type": "markdown",
   "id": "0198cdf1",
   "metadata": {},
   "source": [
    "# Capture historic polling data from Wikipedia"
   ]
  },
  {
   "cell_type": "markdown",
   "id": "ffde296d",
   "metadata": {
    "toc": true
   },
   "source": [
    "<h1>Table of Contents<span class=\"tocSkip\"></span></h1>\n",
    "<div class=\"toc\"><ul class=\"toc-item\"><li><span><a href=\"#Python-set-up\" data-toc-modified-id=\"Python-set-up-1\"><span class=\"toc-item-num\">1&nbsp;&nbsp;</span>Python set-up</a></span></li><li><span><a href=\"#Output-location\" data-toc-modified-id=\"Output-location-2\"><span class=\"toc-item-num\">2&nbsp;&nbsp;</span>Output location</a></span></li><li><span><a href=\"#Raw-data-capture\" data-toc-modified-id=\"Raw-data-capture-3\"><span class=\"toc-item-num\">3&nbsp;&nbsp;</span>Raw data capture</a></span></li><li><span><a href=\"#Data-cleaning\" data-toc-modified-id=\"Data-cleaning-4\"><span class=\"toc-item-num\">4&nbsp;&nbsp;</span>Data cleaning</a></span></li><li><span><a href=\"#Compile-a-table-of-opinion-polls\" data-toc-modified-id=\"Compile-a-table-of-opinion-polls-5\"><span class=\"toc-item-num\">5&nbsp;&nbsp;</span>Compile a table of opinion polls</a></span></li><li><span><a href=\"#Quick-look-at-2019-herding\" data-toc-modified-id=\"Quick-look-at-2019-herding-6\"><span class=\"toc-item-num\">6&nbsp;&nbsp;</span>Quick look at 2019 herding</a></span></li><li><span><a href=\"#Save\" data-toc-modified-id=\"Save-7\"><span class=\"toc-item-num\">7&nbsp;&nbsp;</span>Save</a></span></li></ul></div>"
   ]
  },
  {
   "cell_type": "markdown",
   "id": "8baade7d",
   "metadata": {},
   "source": [
    "## Python set-up"
   ]
  },
  {
   "cell_type": "code",
   "execution_count": 1,
   "id": "9e1443ba",
   "metadata": {
    "ExecuteTime": {
     "end_time": "2021-12-01T07:56:32.785766Z",
     "start_time": "2021-12-01T07:56:30.824795Z"
    }
   },
   "outputs": [],
   "source": [
    "# data science imports\n",
    "import pandas as pd\n",
    "import matplotlib.pyplot as plt\n",
    "\n",
    "# system imports\n",
    "import pathlib\n",
    "\n",
    "# local imports\n",
    "import common"
   ]
  },
  {
   "cell_type": "markdown",
   "id": "fa2486fe",
   "metadata": {},
   "source": [
    "## Output location"
   ]
  },
  {
   "cell_type": "code",
   "execution_count": 2,
   "id": "b59136c4",
   "metadata": {
    "ExecuteTime": {
     "end_time": "2021-12-01T07:56:32.790137Z",
     "start_time": "2021-12-01T07:56:32.787505Z"
    }
   },
   "outputs": [],
   "source": [
    "DATA_DIR = '../historical-data'\n",
    "pathlib.Path(DATA_DIR).mkdir(parents=True, exist_ok=True)\n",
    "DATA_DIR += '/'"
   ]
  },
  {
   "cell_type": "markdown",
   "id": "ef4f96d1",
   "metadata": {},
   "source": [
    "## Raw data capture"
   ]
  },
  {
   "cell_type": "code",
   "execution_count": 3,
   "id": "d6b49e8d",
   "metadata": {
    "ExecuteTime": {
     "end_time": "2021-12-01T07:56:32.796052Z",
     "start_time": "2021-12-01T07:56:32.793489Z"
    }
   },
   "outputs": [],
   "source": [
    "links = {\n",
    "    # election-date: [url, table-number],\n",
    "    '2019-05-18': ['https://en.wikipedia.org/wiki/'\n",
    "                   'Opinion_polling_for_the_2019_Australian_federal_election',\n",
    "                   1],\n",
    "    '2016-07-02': ['https://en.wikipedia.org/wiki/'\n",
    "                   'National_opinion_polling_for_the_2016_Australian_federal_election',\n",
    "                   2],\n",
    "    '2013-09-07': ['https://en.wikipedia.org/wiki/'\n",
    "                   'Opinion_polling_for_the_2013_Australian_federal_election',\n",
    "                   1],\n",
    "    \n",
    "    # This is only Newspoll polling data ... also oddly formatted\n",
    "    #'2010-08-21': ['https://en.wikipedia.org/wiki/'\n",
    "    #               'Opinion_polling_for_the_2010_Australian_federal_election',\n",
    "    #               0],\n",
    "    \n",
    "    # Earlier polling data does not appear to be available on Wikipedia\n",
    "}"
   ]
  },
  {
   "cell_type": "code",
   "execution_count": 4,
   "id": "e90f3b7a",
   "metadata": {
    "ExecuteTime": {
     "end_time": "2021-12-01T07:56:37.556038Z",
     "start_time": "2021-12-01T07:56:32.797990Z"
    }
   },
   "outputs": [],
   "source": [
    "def capture_raw_tables(links):\n",
    "    raw_tables = {}\n",
    "    for elect_date, (url, number) in links.items():\n",
    "        text = common.get_url_text(url)\n",
    "        table = common.get_table_from_text(number, text)\n",
    "        raw_tables[elect_date] = table\n",
    "    return raw_tables\n",
    "\n",
    "raw_tables = capture_raw_tables(links)"
   ]
  },
  {
   "cell_type": "code",
   "execution_count": 5,
   "id": "cc818f20",
   "metadata": {
    "ExecuteTime": {
     "end_time": "2021-12-01T07:56:37.561037Z",
     "start_time": "2021-12-01T07:56:37.558571Z"
    }
   },
   "outputs": [],
   "source": [
    "if False: # display tables\n",
    "    for elect_date, table in raw_tables.items():\n",
    "        print(elect_date)\n",
    "        display(table)"
   ]
  },
  {
   "cell_type": "code",
   "execution_count": 6,
   "id": "8100edc0",
   "metadata": {},
   "outputs": [
    {
     "data": {
      "text/html": [
       "<div>\n",
       "<style scoped>\n",
       "    .dataframe tbody tr th:only-of-type {\n",
       "        vertical-align: middle;\n",
       "    }\n",
       "\n",
       "    .dataframe tbody tr th {\n",
       "        vertical-align: top;\n",
       "    }\n",
       "\n",
       "    .dataframe thead tr th {\n",
       "        text-align: left;\n",
       "    }\n",
       "</style>\n",
       "<table border=\"1\" class=\"dataframe\">\n",
       "  <thead>\n",
       "    <tr>\n",
       "      <th></th>\n",
       "      <th>Date</th>\n",
       "      <th>Firm</th>\n",
       "      <th colspan=\"5\" halign=\"left\">Primary vote</th>\n",
       "      <th colspan=\"2\" halign=\"left\">TPP vote</th>\n",
       "    </tr>\n",
       "    <tr>\n",
       "      <th></th>\n",
       "      <th>Unnamed: 0_level_1</th>\n",
       "      <th>Unnamed: 1_level_1</th>\n",
       "      <th>L/NP</th>\n",
       "      <th>ALP</th>\n",
       "      <th>GRN</th>\n",
       "      <th>ONP</th>\n",
       "      <th>OTH</th>\n",
       "      <th>L/NP</th>\n",
       "      <th>ALP</th>\n",
       "    </tr>\n",
       "  </thead>\n",
       "  <tbody>\n",
       "    <tr>\n",
       "      <th>0</th>\n",
       "      <td>18 May 2019 election</td>\n",
       "      <td>NaN</td>\n",
       "      <td>41.44%</td>\n",
       "      <td>33.34%</td>\n",
       "      <td>10.4%</td>\n",
       "      <td>3.08%</td>\n",
       "      <td>11.74%</td>\n",
       "      <td>51.53%</td>\n",
       "      <td>48.47%</td>\n",
       "    </tr>\n",
       "    <tr>\n",
       "      <th>1</th>\n",
       "      <td>18 May 2019</td>\n",
       "      <td>YouGov-Galaxy (Exit Poll)[1]</td>\n",
       "      <td>39%</td>\n",
       "      <td>38%</td>\n",
       "      <td>10%</td>\n",
       "      <td>NaN</td>\n",
       "      <td>10%</td>\n",
       "      <td>48%</td>\n",
       "      <td>52%</td>\n",
       "    </tr>\n",
       "    <tr>\n",
       "      <th>2</th>\n",
       "      <td>15–16 May 2019</td>\n",
       "      <td>Newspoll[2]</td>\n",
       "      <td>38%</td>\n",
       "      <td>37%</td>\n",
       "      <td>9%</td>\n",
       "      <td>3%</td>\n",
       "      <td>13%[a]</td>\n",
       "      <td>48.5%</td>\n",
       "      <td>51.5%</td>\n",
       "    </tr>\n",
       "    <tr>\n",
       "      <th>3</th>\n",
       "      <td>13–15 May 2019</td>\n",
       "      <td>YouGov-Galaxy[3]</td>\n",
       "      <td>39%</td>\n",
       "      <td>37%</td>\n",
       "      <td>9%</td>\n",
       "      <td>3%</td>\n",
       "      <td>12%[b]</td>\n",
       "      <td>49%</td>\n",
       "      <td>51%</td>\n",
       "    </tr>\n",
       "    <tr>\n",
       "      <th>4</th>\n",
       "      <td>12–15 May 2019</td>\n",
       "      <td>Ipsos[4]</td>\n",
       "      <td>39%</td>\n",
       "      <td>33%</td>\n",
       "      <td>13%</td>\n",
       "      <td>4%</td>\n",
       "      <td>11%[c]</td>\n",
       "      <td>49%</td>\n",
       "      <td>51%</td>\n",
       "    </tr>\n",
       "    <tr>\n",
       "      <th>...</th>\n",
       "      <td>...</td>\n",
       "      <td>...</td>\n",
       "      <td>...</td>\n",
       "      <td>...</td>\n",
       "      <td>...</td>\n",
       "      <td>...</td>\n",
       "      <td>...</td>\n",
       "      <td>...</td>\n",
       "      <td>...</td>\n",
       "    </tr>\n",
       "    <tr>\n",
       "      <th>199</th>\n",
       "      <td>28 Jun – 1 Jul 2016</td>\n",
       "      <td>Newspoll[192]</td>\n",
       "      <td>42%</td>\n",
       "      <td>35%</td>\n",
       "      <td>10%</td>\n",
       "      <td>NaN</td>\n",
       "      <td>13%</td>\n",
       "      <td>50.5%</td>\n",
       "      <td>49.5%</td>\n",
       "    </tr>\n",
       "    <tr>\n",
       "      <th>200</th>\n",
       "      <td>30 Jun 2016</td>\n",
       "      <td>ReachTEL[193]</td>\n",
       "      <td>42.8%</td>\n",
       "      <td>34.6%</td>\n",
       "      <td>10.7%</td>\n",
       "      <td>NaN</td>\n",
       "      <td>12%</td>\n",
       "      <td>51%</td>\n",
       "      <td>49%</td>\n",
       "    </tr>\n",
       "    <tr>\n",
       "      <th>201</th>\n",
       "      <td>27–30 Jun 2016</td>\n",
       "      <td>Essential[194]</td>\n",
       "      <td>42.5%</td>\n",
       "      <td>34.5%</td>\n",
       "      <td>11.5%</td>\n",
       "      <td>NaN</td>\n",
       "      <td>12%</td>\n",
       "      <td>50.5%</td>\n",
       "      <td>49.5%</td>\n",
       "    </tr>\n",
       "    <tr>\n",
       "      <th>202</th>\n",
       "      <td>28–29 Jun 2016</td>\n",
       "      <td>Galaxy[195]</td>\n",
       "      <td>43%</td>\n",
       "      <td>36%</td>\n",
       "      <td>10%</td>\n",
       "      <td>NaN</td>\n",
       "      <td>11%</td>\n",
       "      <td>51%</td>\n",
       "      <td>49%</td>\n",
       "    </tr>\n",
       "    <tr>\n",
       "      <th>203</th>\n",
       "      <td>26–29 Jun 2016</td>\n",
       "      <td>Ipsos[196]</td>\n",
       "      <td>40%</td>\n",
       "      <td>33%</td>\n",
       "      <td>13%</td>\n",
       "      <td>NaN</td>\n",
       "      <td>14%</td>\n",
       "      <td>50%</td>\n",
       "      <td>50%</td>\n",
       "    </tr>\n",
       "  </tbody>\n",
       "</table>\n",
       "<p>204 rows × 9 columns</p>\n",
       "</div>"
      ],
      "text/plain": [
       "                     Date                          Firm Primary vote          \\\n",
       "       Unnamed: 0_level_1            Unnamed: 1_level_1         L/NP     ALP   \n",
       "0    18 May 2019 election                           NaN       41.44%  33.34%   \n",
       "1             18 May 2019  YouGov-Galaxy (Exit Poll)[1]          39%     38%   \n",
       "2          15–16 May 2019                   Newspoll[2]          38%     37%   \n",
       "3          13–15 May 2019              YouGov-Galaxy[3]          39%     37%   \n",
       "4          12–15 May 2019                      Ipsos[4]          39%     33%   \n",
       "..                    ...                           ...          ...     ...   \n",
       "199   28 Jun – 1 Jul 2016                 Newspoll[192]          42%     35%   \n",
       "200           30 Jun 2016                 ReachTEL[193]        42.8%   34.6%   \n",
       "201        27–30 Jun 2016                Essential[194]        42.5%   34.5%   \n",
       "202        28–29 Jun 2016                   Galaxy[195]          43%     36%   \n",
       "203        26–29 Jun 2016                    Ipsos[196]          40%     33%   \n",
       "\n",
       "                          TPP vote          \n",
       "       GRN    ONP     OTH     L/NP     ALP  \n",
       "0    10.4%  3.08%  11.74%   51.53%  48.47%  \n",
       "1      10%    NaN     10%      48%     52%  \n",
       "2       9%     3%  13%[a]    48.5%   51.5%  \n",
       "3       9%     3%  12%[b]      49%     51%  \n",
       "4      13%     4%  11%[c]      49%     51%  \n",
       "..     ...    ...     ...      ...     ...  \n",
       "199    10%    NaN     13%    50.5%   49.5%  \n",
       "200  10.7%    NaN     12%      51%     49%  \n",
       "201  11.5%    NaN     12%    50.5%   49.5%  \n",
       "202    10%    NaN     11%      51%     49%  \n",
       "203    13%    NaN     14%      50%     50%  \n",
       "\n",
       "[204 rows x 9 columns]"
      ]
     },
     "execution_count": 6,
     "metadata": {},
     "output_type": "execute_result"
    }
   ],
   "source": [
    "raw_tables['2019-05-18']"
   ]
  },
  {
   "cell_type": "markdown",
   "id": "52e2b5c4",
   "metadata": {},
   "source": [
    "## Data cleaning"
   ]
  },
  {
   "cell_type": "code",
   "execution_count": 7,
   "id": "bbf2dbab",
   "metadata": {
    "ExecuteTime": {
     "end_time": "2021-12-01T07:56:37.813040Z",
     "start_time": "2021-12-01T07:56:37.563479Z"
    },
    "scrolled": false
   },
   "outputs": [],
   "source": [
    "clean_tables = {}\n",
    "for election_date, table in raw_tables.items():\n",
    "    clean_tables[election_date] = common.clean(table)"
   ]
  },
  {
   "cell_type": "markdown",
   "id": "b24463c3",
   "metadata": {},
   "source": [
    "## Compile a table of opinion polls \n",
    "\n",
    "using data for the period 3 months prior to a Federal election"
   ]
  },
  {
   "cell_type": "code",
   "execution_count": 8,
   "id": "57b9bc58",
   "metadata": {
    "ExecuteTime": {
     "end_time": "2021-12-01T07:56:37.844593Z",
     "start_time": "2021-12-01T07:56:37.814621Z"
    }
   },
   "outputs": [],
   "source": [
    "def compile_table(clean_tables):\n",
    "\n",
    "    RELEVANT_PERIOD = 100 # DAYS\n",
    "    keep_cols = ['Date', 'Firm', 'Primary vote L/NP', \n",
    "                 'Primary vote ALP',\n",
    "                 'Primary vote GRN', 'Primary vote ONP', \n",
    "                 'Primary vote OTH',\n",
    "                 '2PP vote L/NP', '2PP vote ALP', 'Sample size']\n",
    "\n",
    "    final_table = None\n",
    "    for election, table in clean_tables.items():\n",
    "    \n",
    "        # standardise column names\n",
    "        table = table.copy().rename(columns={'TPP vote': '2PP vote'}, level=0)\n",
    "        table = table.rename(columns={'L/NP*': 'L/NP'}, level=1)\n",
    "        table = table.rename(columns={'Labor': 'ALP'}, level=1)\n",
    "        table = table.rename(columns={'Green': 'GRN'}, level=1)\n",
    "        table = table.rename(columns={'Other': 'OTH'}, level=1)\n",
    "        table.columns = common.flatten_col_names(table.columns)\n",
    "    \n",
    "        # select most recent rows\n",
    "        keep = pd.Timestamp(election) - pd.Timedelta(days=RELEVANT_PERIOD)\n",
    "        table = table[table.index >= keep]\n",
    "        keepers = [x for x in keep_cols if x in table.columns]\n",
    "        table = table[keepers]\n",
    "        table['Election'] = election\n",
    "    \n",
    "        # merge into a single table we will save ...\n",
    "        final_table = (\n",
    "            # There must be an easier way of doing this ... \n",
    "            table if final_table is None \n",
    "            else final_table.T.merge(table.T, how='outer', \n",
    "                                     left_index=True, \n",
    "                                     right_index=True).T\n",
    "        )\n",
    "        \n",
    "    return final_table\n",
    "\n",
    "\n",
    "final_table = compile_table(clean_tables)"
   ]
  },
  {
   "cell_type": "markdown",
   "id": "8133c8a6",
   "metadata": {},
   "source": [
    "## Quick look at 2019 herding"
   ]
  },
  {
   "cell_type": "code",
   "execution_count": 9,
   "id": "3fdfa9dc",
   "metadata": {},
   "outputs": [
    {
     "data": {
      "image/png": "[encoded data removed]",
      "text/plain": [
       "<Figure size 648x324 with 1 Axes>"
      ]
     },
     "metadata": {
      "needs_background": "light"
     },
     "output_type": "display_data"
    }
   ],
   "source": [
    "plt.style.use('./markgraph.mplstyle')\n",
    "\n",
    "PERCENT = 99.99\n",
    "\n",
    "sample_sizes = (\n",
    "    pd.Series([3008, 1000, 1842, 1201, 1265, 1644, 1079, 826, \n",
    "        2003, 1207, 1000, 826, 2136, 1012, 707, 1697]))\n",
    "measurements = ( # for Labor:\n",
    "    pd.Series([51.5, 51,   51,   51.5, 52,   51,   52,   51,  \n",
    "        51,   52,   51,   51,  51,   52,   51,  52]))\n",
    "\n",
    "X, X_min, X_max, dof, _ = common.calc_chi_squared(measurements, \n",
    "                                      sample_sizes=sample_sizes, \n",
    "                                      percent=PERCENT)\n",
    "\n",
    "fig, ax = common.plot_chi_square(X, X_min, X_max, dof, percent=PERCENT)\n",
    "title = f'$\\chi^2$ Distribution for 2PP in 2019: degrees of freedom={str(dof)} '\n",
    "common.plot_finalise(ax, title=title, xlabel='$\\chi^2$', ylabel='Probability',\n",
    "                         lfooter=f'Polls during the 2019 campaign. ')"
   ]
  },
  {
   "cell_type": "markdown",
   "id": "e984a446",
   "metadata": {},
   "source": [
    "## Save"
   ]
  },
  {
   "cell_type": "code",
   "execution_count": 10,
   "id": "bf1445ed",
   "metadata": {
    "ExecuteTime": {
     "end_time": "2021-12-01T07:56:37.999025Z",
     "start_time": "2021-12-01T07:56:37.845936Z"
    }
   },
   "outputs": [],
   "source": [
    "final_table.to_excel(DATA_DIR+'historical-poll-data.xlsx')"
   ]
  },
  {
   "cell_type": "code",
   "execution_count": null,
   "id": "2c1181bb",
   "metadata": {},
   "outputs": [],
   "source": []
  }
 ],
 "metadata": {
  "kernelspec": {
   "display_name": "Python 3 (ipykernel)",
   "language": "python",
   "name": "python3"
  },
  "language_info": {
   "codemirror_mode": {
    "name": "ipython",
    "version": 3
   },
   "file_extension": ".py",
   "mimetype": "text/x-python",
   "name": "python",
   "nbconvert_exporter": "python",
   "pygments_lexer": "ipython3",
   "version": "3.10.4"
  },
  "toc": {
   "base_numbering": 1,
   "nav_menu": {},
   "number_sections": true,
   "sideBar": true,
   "skip_h1_title": true,
   "title_cell": "Table of Contents",
   "title_sidebar": "Contents",
   "toc_cell": true,
   "toc_position": {},
   "toc_section_display": true,
   "toc_window_display": true
  },
  "varInspector": {
   "cols": {
    "lenName": 16,
    "lenType": 16,
    "lenVar": 40
   },
   "kernels_config": {
    "python": {
     "delete_cmd_postfix": "",
     "delete_cmd_prefix": "del ",
     "library": "var_list.py",
     "varRefreshCmd": "print(var_dic_list())"
    },
    "r": {
     "delete_cmd_postfix": ") ",
     "delete_cmd_prefix": "rm(",
     "library": "var_list.r",
     "varRefreshCmd": "cat(var_dic_list()) "
    }
   },
   "types_to_exclude": [
    "module",
    "function",
    "builtin_function_or_method",
    "instance",
    "_Feature"
   ],
   "window_display": false
  }
 },
 "nbformat": 4,
 "nbformat_minor": 5
}
