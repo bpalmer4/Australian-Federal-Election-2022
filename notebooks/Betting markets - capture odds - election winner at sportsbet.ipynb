{
 "cells": [
  {
   "cell_type": "markdown",
   "id": "7877f3e3",
   "metadata": {},
   "source": [
    "# Betting markets - capture odds - election winner at sportsbet\n",
    "\n",
    "Note: this notebook is for ease of testing. Convert to a python file and move to the automated directory.\n",
    "\n",
    "To do this ...\n",
    "```jupyter nbconvert --to python \"Betting markets - capture odds - election winner at sportsbet.ipynb\"\n",
    "chmod 700 \"Betting markets - capture odds - election winner at sportsbet.py\"\n",
    "mv \"Betting markets - capture odds - election winner at sportsbet.py\" ../automated```"
   ]
  },
  {
   "cell_type": "markdown",
   "id": "99af8137",
   "metadata": {
    "toc": true
   },
   "source": [
    "<h1>Table of Contents<span class=\"tocSkip\"></span></h1>\n",
    "<div class=\"toc\"><ul class=\"toc-item\"><li><span><a href=\"#Python-setup\" data-toc-modified-id=\"Python-setup-1\"><span class=\"toc-item-num\">1&nbsp;&nbsp;</span>Python setup</a></span></li><li><span><a href=\"#Set-up-web-driver-options\" data-toc-modified-id=\"Set-up-web-driver-options-2\"><span class=\"toc-item-num\">2&nbsp;&nbsp;</span>Set-up web-driver options</a></span></li><li><span><a href=\"#Extract-website-text-using-Selenium\" data-toc-modified-id=\"Extract-website-text-using-Selenium-3\"><span class=\"toc-item-num\">3&nbsp;&nbsp;</span>Extract website text using Selenium</a></span></li><li><span><a href=\"#Extract-data-of-interest\" data-toc-modified-id=\"Extract-data-of-interest-4\"><span class=\"toc-item-num\">4&nbsp;&nbsp;</span>Extract data of interest</a></span></li><li><span><a href=\"#Append-this-data-to-a-CSV-file\" data-toc-modified-id=\"Append-this-data-to-a-CSV-file-5\"><span class=\"toc-item-num\">5&nbsp;&nbsp;</span>Append this data to a CSV file</a></span></li></ul></div>"
   ]
  },
  {
   "cell_type": "markdown",
   "id": "e9b68c04",
   "metadata": {},
   "source": [
    "## Python setup"
   ]
  },
  {
   "cell_type": "code",
   "execution_count": 1,
   "id": "564a76be",
   "metadata": {
    "ExecuteTime": {
     "end_time": "2022-01-26T01:00:39.903355Z",
     "start_time": "2022-01-26T01:00:39.048552Z"
    }
   },
   "outputs": [],
   "source": [
    "# data science imports\n",
    "import numpy as np\n",
    "import pandas as pd\n",
    "import matplotlib.pyplot as plt\n",
    "\n",
    "# web scraping imports\n",
    "from selenium import webdriver\n",
    "from bs4 import BeautifulSoup\n",
    "\n",
    "# System imports\n",
    "import re\n",
    "import datetime\n",
    "from pathlib import Path"
   ]
  },
  {
   "cell_type": "markdown",
   "id": "cef501ea",
   "metadata": {
    "ExecuteTime": {
     "end_time": "2021-12-19T03:37:57.611094Z",
     "start_time": "2021-12-19T03:37:57.608964Z"
    }
   },
   "source": [
    "## Set-up web-driver options"
   ]
  },
  {
   "cell_type": "code",
   "execution_count": 2,
   "id": "14a3e18d",
   "metadata": {
    "ExecuteTime": {
     "end_time": "2022-01-26T01:00:39.906566Z",
     "start_time": "2022-01-26T01:00:39.904520Z"
    }
   },
   "outputs": [],
   "source": [
    "options = webdriver.ChromeOptions()\n",
    "options.add_argument('--ignore-certificate-errors')\n",
    "options.add_argument('--incognito')\n",
    "options.add_argument('--headless')"
   ]
  },
  {
   "cell_type": "markdown",
   "id": "989e2da1",
   "metadata": {},
   "source": [
    "## Extract website text using Selenium"
   ]
  },
  {
   "cell_type": "code",
   "execution_count": 3,
   "id": "37193332",
   "metadata": {
    "ExecuteTime": {
     "end_time": "2022-01-26T01:00:49.375962Z",
     "start_time": "2022-01-26T01:00:39.907457Z"
    }
   },
   "outputs": [
    {
     "ename": "WebDriverException",
     "evalue": "Message: Can not connect to the Service chromedriver\n",
     "output_type": "error",
     "traceback": [
      "\u001b[0;31m---------------------------------------------------------------------------\u001b[0m",
      "\u001b[0;31mWebDriverException\u001b[0m                        Traceback (most recent call last)",
      "Input \u001b[0;32mIn [3]\u001b[0m, in \u001b[0;36m<cell line: 2>\u001b[0;34m()\u001b[0m\n\u001b[1;32m      1\u001b[0m \u001b[38;5;66;03m# get the web page text\u001b[39;00m\n\u001b[0;32m----> 2\u001b[0m driver \u001b[38;5;241m=\u001b[39m \u001b[43mwebdriver\u001b[49m\u001b[38;5;241;43m.\u001b[39;49m\u001b[43mChrome\u001b[49m\u001b[43m(\u001b[49m\u001b[43moptions\u001b[49m\u001b[38;5;241;43m=\u001b[39;49m\u001b[43moptions\u001b[49m\u001b[43m)\u001b[49m\n\u001b[1;32m      3\u001b[0m driver\u001b[38;5;241m.\u001b[39mimplicitly_wait(\u001b[38;5;241m220\u001b[39m) \n\u001b[1;32m      4\u001b[0m url \u001b[38;5;241m=\u001b[39m (\n\u001b[1;32m      5\u001b[0m     \u001b[38;5;124m'\u001b[39m\u001b[38;5;124mhttps://www.sportsbet.com.au/betting/politics/australian-federal-politics/\u001b[39m\u001b[38;5;124m'\u001b[39m\n\u001b[1;32m      6\u001b[0m     \u001b[38;5;124m'\u001b[39m\u001b[38;5;124mnext-federal-election-47th-parliament-of-australia-4664855\u001b[39m\u001b[38;5;124m'\u001b[39m\n\u001b[1;32m      7\u001b[0m )\n",
      "File \u001b[0;32m~/miniforge3/lib/python3.9/site-packages/selenium/webdriver/chrome/webdriver.py:70\u001b[0m, in \u001b[0;36mWebDriver.__init__\u001b[0;34m(self, executable_path, port, options, service_args, desired_capabilities, service_log_path, chrome_options, service, keep_alive)\u001b[0m\n\u001b[1;32m     67\u001b[0m \u001b[38;5;28;01mif\u001b[39;00m \u001b[38;5;129;01mnot\u001b[39;00m service:\n\u001b[1;32m     68\u001b[0m     service \u001b[38;5;241m=\u001b[39m Service(executable_path, port, service_args, service_log_path)\n\u001b[0;32m---> 70\u001b[0m \u001b[38;5;28;43msuper\u001b[39;49m\u001b[43m(\u001b[49m\u001b[43mWebDriver\u001b[49m\u001b[43m,\u001b[49m\u001b[43m \u001b[49m\u001b[38;5;28;43mself\u001b[39;49m\u001b[43m)\u001b[49m\u001b[38;5;241;43m.\u001b[39;49m\u001b[38;5;21;43m__init__\u001b[39;49m\u001b[43m(\u001b[49m\u001b[43mDesiredCapabilities\u001b[49m\u001b[38;5;241;43m.\u001b[39;49m\u001b[43mCHROME\u001b[49m\u001b[43m[\u001b[49m\u001b[38;5;124;43m'\u001b[39;49m\u001b[38;5;124;43mbrowserName\u001b[39;49m\u001b[38;5;124;43m'\u001b[39;49m\u001b[43m]\u001b[49m\u001b[43m,\u001b[49m\u001b[43m \u001b[49m\u001b[38;5;124;43m\"\u001b[39;49m\u001b[38;5;124;43mgoog\u001b[39;49m\u001b[38;5;124;43m\"\u001b[39;49m\u001b[43m,\u001b[49m\n\u001b[1;32m     71\u001b[0m \u001b[43m                                \u001b[49m\u001b[43mport\u001b[49m\u001b[43m,\u001b[49m\u001b[43m \u001b[49m\u001b[43moptions\u001b[49m\u001b[43m,\u001b[49m\n\u001b[1;32m     72\u001b[0m \u001b[43m                                \u001b[49m\u001b[43mservice_args\u001b[49m\u001b[43m,\u001b[49m\u001b[43m \u001b[49m\u001b[43mdesired_capabilities\u001b[49m\u001b[43m,\u001b[49m\n\u001b[1;32m     73\u001b[0m \u001b[43m                                \u001b[49m\u001b[43mservice_log_path\u001b[49m\u001b[43m,\u001b[49m\u001b[43m \u001b[49m\u001b[43mservice\u001b[49m\u001b[43m,\u001b[49m\u001b[43m \u001b[49m\u001b[43mkeep_alive\u001b[49m\u001b[43m)\u001b[49m\n",
      "File \u001b[0;32m~/miniforge3/lib/python3.9/site-packages/selenium/webdriver/chromium/webdriver.py:90\u001b[0m, in \u001b[0;36mChromiumDriver.__init__\u001b[0;34m(self, browser_name, vendor_prefix, port, options, service_args, desired_capabilities, service_log_path, service, keep_alive)\u001b[0m\n\u001b[1;32m     87\u001b[0m     \u001b[38;5;28;01mraise\u001b[39;00m \u001b[38;5;167;01mAttributeError\u001b[39;00m(\u001b[38;5;124m'\u001b[39m\u001b[38;5;124mservice cannot be None\u001b[39m\u001b[38;5;124m'\u001b[39m)\n\u001b[1;32m     89\u001b[0m \u001b[38;5;28mself\u001b[39m\u001b[38;5;241m.\u001b[39mservice \u001b[38;5;241m=\u001b[39m service\n\u001b[0;32m---> 90\u001b[0m \u001b[38;5;28;43mself\u001b[39;49m\u001b[38;5;241;43m.\u001b[39;49m\u001b[43mservice\u001b[49m\u001b[38;5;241;43m.\u001b[39;49m\u001b[43mstart\u001b[49m\u001b[43m(\u001b[49m\u001b[43m)\u001b[49m\n\u001b[1;32m     92\u001b[0m \u001b[38;5;28;01mtry\u001b[39;00m:\n\u001b[1;32m     93\u001b[0m     RemoteWebDriver\u001b[38;5;241m.\u001b[39m\u001b[38;5;21m__init__\u001b[39m(\n\u001b[1;32m     94\u001b[0m         \u001b[38;5;28mself\u001b[39m,\n\u001b[1;32m     95\u001b[0m         command_executor\u001b[38;5;241m=\u001b[39mChromiumRemoteConnection(\n\u001b[0;32m   (...)\u001b[0m\n\u001b[1;32m     98\u001b[0m             keep_alive\u001b[38;5;241m=\u001b[39mkeep_alive, ignore_proxy\u001b[38;5;241m=\u001b[39m_ignore_proxy),\n\u001b[1;32m     99\u001b[0m         options\u001b[38;5;241m=\u001b[39moptions)\n",
      "File \u001b[0;32m~/miniforge3/lib/python3.9/site-packages/selenium/webdriver/common/service.py:105\u001b[0m, in \u001b[0;36mService.start\u001b[0;34m(self)\u001b[0m\n\u001b[1;32m    103\u001b[0m sleep(\u001b[38;5;241m0.5\u001b[39m)\n\u001b[1;32m    104\u001b[0m \u001b[38;5;28;01mif\u001b[39;00m count \u001b[38;5;241m==\u001b[39m \u001b[38;5;241m60\u001b[39m:\n\u001b[0;32m--> 105\u001b[0m     \u001b[38;5;28;01mraise\u001b[39;00m WebDriverException(\u001b[38;5;124m\"\u001b[39m\u001b[38;5;124mCan not connect to the Service \u001b[39m\u001b[38;5;132;01m%s\u001b[39;00m\u001b[38;5;124m\"\u001b[39m \u001b[38;5;241m%\u001b[39m \u001b[38;5;28mself\u001b[39m\u001b[38;5;241m.\u001b[39mpath)\n",
      "\u001b[0;31mWebDriverException\u001b[0m: Message: Can not connect to the Service chromedriver\n"
     ]
    }
   ],
   "source": [
    "# get the web page text\n",
    "driver = webdriver.Chrome(options=options)\n",
    "driver.implicitly_wait(220) \n",
    "url = (\n",
    "    'https://www.sportsbet.com.au/betting/politics/australian-federal-politics/'\n",
    "    'next-federal-election-47th-parliament-of-australia-4664855'\n",
    ")\n",
    "driver.get(url)\n",
    "soup = BeautifulSoup(driver.page_source, 'lxml')\n",
    "driver.close()"
   ]
  },
  {
   "cell_type": "code",
   "execution_count": null,
   "id": "e1d89b1b",
   "metadata": {
    "ExecuteTime": {
     "end_time": "2022-01-26T01:00:49.380172Z",
     "start_time": "2022-01-26T01:00:49.378178Z"
    },
    "scrolled": true
   },
   "outputs": [],
   "source": [
    "#print(soup.prettify())"
   ]
  },
  {
   "cell_type": "markdown",
   "id": "23288bdb",
   "metadata": {},
   "source": [
    "## Extract data of interest"
   ]
  },
  {
   "cell_type": "code",
   "execution_count": null,
   "id": "abe17af2",
   "metadata": {
    "ExecuteTime": {
     "end_time": "2022-01-26T01:00:49.385848Z",
     "start_time": "2022-01-26T01:00:49.380984Z"
    },
    "scrolled": true
   },
   "outputs": [],
   "source": [
    "# Step one - get to the right bit of the page ...\n",
    "# <div class=\"background_fja218n\" data-automation-id=\"content-background\">\n",
    "div_name = \"content-background\" # this looks fragile\n",
    "div = soup.find_all(\"div\", {\"data-automation-id\": div_name})[0]\n",
    "#print(div.prettify())"
   ]
  },
  {
   "cell_type": "code",
   "execution_count": null,
   "id": "23b6ce28",
   "metadata": {
    "ExecuteTime": {
     "end_time": "2022-01-26T01:00:49.391781Z",
     "start_time": "2022-01-26T01:00:49.387249Z"
    }
   },
   "outputs": [],
   "source": [
    "# step 2\n",
    "# <div class=\"outcomeCardItems_f4kk892\"> \n",
    "odds = div.find_all(\"div\", {\"class\": \"outcomeCardItems_f4kk892\"}) # fragile\n",
    "len(odds) # should be two: for a names row and a prices row"
   ]
  },
  {
   "cell_type": "code",
   "execution_count": null,
   "id": "5895fde1",
   "metadata": {
    "ExecuteTime": {
     "end_time": "2022-01-26T01:00:49.396930Z",
     "start_time": "2022-01-26T01:00:49.392908Z"
    }
   },
   "outputs": [],
   "source": [
    "found = {}\n",
    "for k, v in zip(odds[0].contents, odds[1].contents):\n",
    "    found[k.text] = v.text\n",
    "found # should be a dictionary of parties and prices/odds"
   ]
  },
  {
   "cell_type": "markdown",
   "id": "8bc0964d",
   "metadata": {},
   "source": [
    "## Append this data to a CSV file"
   ]
  },
  {
   "cell_type": "code",
   "execution_count": null,
   "id": "ad7a36ad",
   "metadata": {
    "ExecuteTime": {
     "end_time": "2022-01-26T01:00:49.403316Z",
     "start_time": "2022-01-26T01:00:49.397938Z"
    }
   },
   "outputs": [],
   "source": [
    "# long format\n",
    "df = pd.DataFrame([found.keys(), found.values()], index=['variable', 'value']).T\n",
    "df.index = np.repeat(datetime.datetime.now(), len(df))\n",
    "df.index.name = 'datetime'"
   ]
  },
  {
   "cell_type": "code",
   "execution_count": null,
   "id": "7257ea12",
   "metadata": {
    "ExecuteTime": {
     "end_time": "2022-01-26T01:00:49.412685Z",
     "start_time": "2022-01-26T01:00:49.404298Z"
    }
   },
   "outputs": [],
   "source": [
    "df"
   ]
  },
  {
   "cell_type": "code",
   "execution_count": null,
   "id": "79bd1309",
   "metadata": {
    "ExecuteTime": {
     "end_time": "2022-01-26T01:00:49.421934Z",
     "start_time": "2022-01-26T01:00:49.415164Z"
    }
   },
   "outputs": [],
   "source": [
    "# save to file\n",
    "FILE = '../historical-data/sportsbet-2022-election-winner.csv'\n",
    "df.to_csv(FILE, mode='a', index=True, header=False)"
   ]
  },
  {
   "cell_type": "code",
   "execution_count": null,
   "id": "672726d5",
   "metadata": {},
   "outputs": [],
   "source": []
  }
 ],
 "metadata": {
  "kernelspec": {
   "display_name": "Python 3 (ipykernel)",
   "language": "python",
   "name": "python3"
  },
  "language_info": {
   "codemirror_mode": {
    "name": "ipython",
    "version": 3
   },
   "file_extension": ".py",
   "mimetype": "text/x-python",
   "name": "python",
   "nbconvert_exporter": "python",
   "pygments_lexer": "ipython3",
   "version": "3.9.12"
  },
  "toc": {
   "base_numbering": 1,
   "nav_menu": {},
   "number_sections": true,
   "sideBar": true,
   "skip_h1_title": true,
   "title_cell": "Table of Contents",
   "title_sidebar": "Contents",
   "toc_cell": true,
   "toc_position": {},
   "toc_section_display": true,
   "toc_window_display": true
  },
  "varInspector": {
   "cols": {
    "lenName": 16,
    "lenType": 16,
    "lenVar": 40
   },
   "kernels_config": {
    "python": {
     "delete_cmd_postfix": "",
     "delete_cmd_prefix": "del ",
     "library": "var_list.py",
     "varRefreshCmd": "print(var_dic_list())"
    },
    "r": {
     "delete_cmd_postfix": ") ",
     "delete_cmd_prefix": "rm(",
     "library": "var_list.r",
     "varRefreshCmd": "cat(var_dic_list()) "
    }
   },
   "types_to_exclude": [
    "module",
    "function",
    "builtin_function_or_method",
    "instance",
    "_Feature"
   ],
   "window_display": false
  }
 },
 "nbformat": 4,
 "nbformat_minor": 5
}
