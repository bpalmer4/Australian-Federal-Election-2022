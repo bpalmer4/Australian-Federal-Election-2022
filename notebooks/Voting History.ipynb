{
 "cells": [
  {
   "cell_type": "markdown",
   "id": "5c1ada3c",
   "metadata": {},
   "source": [
    "# Voting History"
   ]
  },
  {
   "cell_type": "markdown",
   "id": "4a1b3d30",
   "metadata": {
    "toc": true
   },
   "source": [
    "<h1>Table of Contents<span class=\"tocSkip\"></span></h1>\n",
    "<div class=\"toc\"><ul class=\"toc-item\"><li><span><a href=\"#Python-setup\" data-toc-modified-id=\"Python-setup-1\"><span class=\"toc-item-num\">1&nbsp;&nbsp;</span>Python setup</a></span></li><li><span><a href=\"#Data\" data-toc-modified-id=\"Data-2\"><span class=\"toc-item-num\">2&nbsp;&nbsp;</span>Data</a></span></li><li><span><a href=\"#Historical-plots\" data-toc-modified-id=\"Historical-plots-3\"><span class=\"toc-item-num\">3&nbsp;&nbsp;</span>Historical plots</a></span><ul class=\"toc-item\"><li><span><a href=\"#Minor-parties\" data-toc-modified-id=\"Minor-parties-3.1\"><span class=\"toc-item-num\">3.1&nbsp;&nbsp;</span>Minor parties</a></span></li><li><span><a href=\"#Mainstream-parties\" data-toc-modified-id=\"Mainstream-parties-3.2\"><span class=\"toc-item-num\">3.2&nbsp;&nbsp;</span>Mainstream parties</a></span></li></ul></li></ul></div>"
   ]
  },
  {
   "cell_type": "markdown",
   "id": "0e5e7425",
   "metadata": {},
   "source": [
    "## Python setup"
   ]
  },
  {
   "cell_type": "code",
   "execution_count": 1,
   "id": "c3425044",
   "metadata": {
    "ExecuteTime": {
     "end_time": "2021-11-15T05:48:02.690451Z",
     "start_time": "2021-11-15T05:48:02.174964Z"
    }
   },
   "outputs": [],
   "source": [
    "# data science imports\n",
    "import pandas as pd\n",
    "import numpy as np\n",
    "import matplotlib.pyplot as plt\n",
    "\n",
    "# system imports\n",
    "from io import StringIO\n",
    "import pathlib\n",
    "\n",
    "# local imports\n",
    "import common\n",
    "from common import COLOR_COALITION, COLOR_LABOR"
   ]
  },
  {
   "cell_type": "code",
   "execution_count": 2,
   "id": "971f01d0",
   "metadata": {
    "ExecuteTime": {
     "end_time": "2021-11-15T05:48:02.695416Z",
     "start_time": "2021-11-15T05:48:02.692084Z"
    }
   },
   "outputs": [],
   "source": [
    "# plotting stuff\n",
    "plt.style.use('./markgraph.mplstyle')"
   ]
  },
  {
   "cell_type": "markdown",
   "id": "0fb45cb8",
   "metadata": {},
   "source": [
    "## Data"
   ]
  },
  {
   "cell_type": "code",
   "execution_count": 3,
   "id": "9d520219",
   "metadata": {
    "ExecuteTime": {
     "end_time": "2021-11-15T05:48:02.700984Z",
     "start_time": "2021-11-15T05:48:02.697766Z"
    }
   },
   "outputs": [],
   "source": [
    "data = \"\"\"\n",
    "Year    ALP     LP      LNP  NP      CLP  DLP  DEM     GRN     ON   Others \n",
    "1946    49.7    33.0    -    10.7    -    -    -       -       -    6.6     \n",
    "1949    46.0    39.3    -    10.8    -    -    -       -       -    3.9     \n",
    "1951    47.7    40.5    -    9.7     -    -    -       -       -    2.1     \n",
    "1954    50.1    38.5    -    8.5     -    -    -       -       -    2.9     \n",
    "1955    44.7    39.7    -    7.9     -    5.1  -       -       -    2.6     \n",
    "1958    42.9    37.1    -    9.3     -    9.4  -       -       -    1.3     \n",
    "1961    48.0    33.5    -    8.5     -    8.7  -       -       -    1.4     \n",
    "1963    45.5    37.1    -    8.9     -    7.4  -       -       -    1.0     \n",
    "1966    40.0    40.1    -    9.8     -    7.3  -       -       -    2.7     \n",
    "1969    47.0    34.8    -    8.6     -    6.0  -       -       -    3.7     \n",
    "1972    49.6    32.0    -    9.4     -    5.2  -       -       -    3.7     \n",
    "1974    49.3    34.9    -    10.8    -    1.4  -       -       -    3.5     \n",
    "1975    42.8    41.8    -    11.0    0.2  1.3  -       -       -    2.8     \n",
    "1977    39.6    38.1    -    9.8     0.2  1.4  9.4     -       -    1.4     \n",
    "1980    45.1    37.4    -    8.6     0.2  0.3  6.6     -       -    1.7     \n",
    "1983    49.5    34.4    -    9.0     0.2  0.2  5.0     -       -    1.7     \n",
    "1984    47.5    34.1    -    10.6    0.3  0.6  5.4     -       -    1.4     \n",
    "1987    45.8    34.3    -    11.5    0.2  -    6.0     -       -    2.0     \n",
    "1990    39.4    34.8    -    8.4     0.3  -    11.3    1.4     -    4.4     \n",
    "1993    44.9    36.8    -    7.2     0.3  -    3.8     1.9     -    5.2     \n",
    "1996    38.8    38.7    -    8.2     0.4  -    6.8     2.9     -    4.3     \n",
    "1998    40.1    33.9    -    5.3     0.3  -    5.1     2.6     8.4  4.2     \n",
    "2001    37.8    37.1    -    5.6     0.3  -    5.4     5.0     4.3  4.4     \n",
    "2004    37.6    40.5    -    5.9     0.3  -    1.2     7.2     1.2  6.0     \n",
    "2007    43.4    36.3    -    5.5     0.3  -    0.7     7.8     0.3  5.8     \n",
    "2010    38.0    30.5    9.1  3.7     0.3  -    0.2     11.8    0.2  6.2     \n",
    "2013    33.4    32.0    8.9  4.3     0.3  0.3  -       8.6     0.2  11.9    \n",
    "2016    34.7    28.7    8.5  4.6     0.2  -    -       10.2    1.3  11.7    \n",
    "2019    33.34   27.99   8.67 4.51    0.27 -    -       10.40   3.08 11.74      \n",
    "\"\"\"\n",
    "#ElectYr ALP     LP      LNP NP      CLP DLP DEM     GRN     ON  Others  Total"
   ]
  },
  {
   "cell_type": "code",
   "execution_count": 4,
   "id": "4fd3bb29",
   "metadata": {
    "ExecuteTime": {
     "end_time": "2021-11-15T05:48:02.749904Z",
     "start_time": "2021-11-15T05:48:02.703294Z"
    }
   },
   "outputs": [
    {
     "data": {
      "text/html": [
       "<div>\n",
       "<style scoped>\n",
       "    .dataframe tbody tr th:only-of-type {\n",
       "        vertical-align: middle;\n",
       "    }\n",
       "\n",
       "    .dataframe tbody tr th {\n",
       "        vertical-align: top;\n",
       "    }\n",
       "\n",
       "    .dataframe thead th {\n",
       "        text-align: right;\n",
       "    }\n",
       "</style>\n",
       "<table border=\"1\" class=\"dataframe\">\n",
       "  <thead>\n",
       "    <tr style=\"text-align: right;\">\n",
       "      <th></th>\n",
       "      <th>ALP</th>\n",
       "      <th>LP</th>\n",
       "      <th>LNP</th>\n",
       "      <th>NP</th>\n",
       "      <th>CLP</th>\n",
       "      <th>DLP</th>\n",
       "      <th>DEM</th>\n",
       "      <th>GRN</th>\n",
       "      <th>ON</th>\n",
       "      <th>Others</th>\n",
       "      <th>Total</th>\n",
       "    </tr>\n",
       "    <tr>\n",
       "      <th>Year</th>\n",
       "      <th></th>\n",
       "      <th></th>\n",
       "      <th></th>\n",
       "      <th></th>\n",
       "      <th></th>\n",
       "      <th></th>\n",
       "      <th></th>\n",
       "      <th></th>\n",
       "      <th></th>\n",
       "      <th></th>\n",
       "      <th></th>\n",
       "    </tr>\n",
       "  </thead>\n",
       "  <tbody>\n",
       "    <tr>\n",
       "      <th>2007</th>\n",
       "      <td>43.40</td>\n",
       "      <td>36.30</td>\n",
       "      <td>NaN</td>\n",
       "      <td>5.50</td>\n",
       "      <td>0.30</td>\n",
       "      <td>NaN</td>\n",
       "      <td>0.7</td>\n",
       "      <td>7.8</td>\n",
       "      <td>0.30</td>\n",
       "      <td>5.80</td>\n",
       "      <td>100.1</td>\n",
       "    </tr>\n",
       "    <tr>\n",
       "      <th>2010</th>\n",
       "      <td>38.00</td>\n",
       "      <td>30.50</td>\n",
       "      <td>9.10</td>\n",
       "      <td>3.70</td>\n",
       "      <td>0.30</td>\n",
       "      <td>NaN</td>\n",
       "      <td>0.2</td>\n",
       "      <td>11.8</td>\n",
       "      <td>0.20</td>\n",
       "      <td>6.20</td>\n",
       "      <td>100.0</td>\n",
       "    </tr>\n",
       "    <tr>\n",
       "      <th>2013</th>\n",
       "      <td>33.40</td>\n",
       "      <td>32.00</td>\n",
       "      <td>8.90</td>\n",
       "      <td>4.30</td>\n",
       "      <td>0.30</td>\n",
       "      <td>0.3</td>\n",
       "      <td>NaN</td>\n",
       "      <td>8.6</td>\n",
       "      <td>0.20</td>\n",
       "      <td>11.90</td>\n",
       "      <td>99.9</td>\n",
       "    </tr>\n",
       "    <tr>\n",
       "      <th>2016</th>\n",
       "      <td>34.70</td>\n",
       "      <td>28.70</td>\n",
       "      <td>8.50</td>\n",
       "      <td>4.60</td>\n",
       "      <td>0.20</td>\n",
       "      <td>NaN</td>\n",
       "      <td>NaN</td>\n",
       "      <td>10.2</td>\n",
       "      <td>1.30</td>\n",
       "      <td>11.70</td>\n",
       "      <td>99.9</td>\n",
       "    </tr>\n",
       "    <tr>\n",
       "      <th>2019</th>\n",
       "      <td>33.34</td>\n",
       "      <td>27.99</td>\n",
       "      <td>8.67</td>\n",
       "      <td>4.51</td>\n",
       "      <td>0.27</td>\n",
       "      <td>NaN</td>\n",
       "      <td>NaN</td>\n",
       "      <td>10.4</td>\n",
       "      <td>3.08</td>\n",
       "      <td>11.74</td>\n",
       "      <td>100.0</td>\n",
       "    </tr>\n",
       "  </tbody>\n",
       "</table>\n",
       "</div>"
      ],
      "text/plain": [
       "        ALP     LP   LNP    NP   CLP  DLP  DEM   GRN    ON  Others  Total\n",
       "Year                                                                     \n",
       "2007  43.40  36.30   NaN  5.50  0.30  NaN  0.7   7.8  0.30    5.80  100.1\n",
       "2010  38.00  30.50  9.10  3.70  0.30  NaN  0.2  11.8  0.20    6.20  100.0\n",
       "2013  33.40  32.00  8.90  4.30  0.30  0.3  NaN   8.6  0.20   11.90   99.9\n",
       "2016  34.70  28.70  8.50  4.60  0.20  NaN  NaN  10.2  1.30   11.70   99.9\n",
       "2019  33.34  27.99  8.67  4.51  0.27  NaN  NaN  10.4  3.08   11.74  100.0"
      ]
     },
     "execution_count": 4,
     "metadata": {},
     "output_type": "execute_result"
    }
   ],
   "source": [
    "table = pd.read_csv(StringIO(data), sep='\\s+', index_col=0,\n",
    "                    skipinitialspace=True, na_values=['-'])\n",
    "\n",
    "# quick check, note on column additions ...\n",
    "table.tail().pipe(lambda x: x.assign(Total = x.sum(axis=1)))"
   ]
  },
  {
   "cell_type": "code",
   "execution_count": 5,
   "id": "94e5596b",
   "metadata": {
    "ExecuteTime": {
     "end_time": "2021-11-15T05:48:02.755596Z",
     "start_time": "2021-11-15T05:48:02.752549Z"
    }
   },
   "outputs": [],
   "source": [
    "coalition = ['LP', 'LNP', 'NP', 'CLP']\n",
    "others = ['DLP', 'DEM', 'GRN', 'ON', 'Others']"
   ]
  },
  {
   "cell_type": "markdown",
   "id": "ed83e13f",
   "metadata": {},
   "source": [
    "## Historical plots"
   ]
  },
  {
   "cell_type": "markdown",
   "id": "0e6a3edc",
   "metadata": {},
   "source": [
    "### Minor parties"
   ]
  },
  {
   "cell_type": "code",
   "execution_count": 6,
   "id": "a65ec6d1",
   "metadata": {
    "ExecuteTime": {
     "end_time": "2021-11-15T05:48:03.409641Z",
     "start_time": "2021-11-15T05:48:02.757310Z"
    }
   },
   "outputs": [
    {
     "data": {
      "image/png": "[encoded data removed]",
      "text/plain": [
       "<Figure size 648x324 with 1 Axes>"
      ]
     },
     "metadata": {},
     "output_type": "display_data"
    }
   ],
   "source": [
    "fig, ax = common.initiate_plot()\n",
    "table[others].plot.bar(stacked=True, ax=ax, width=0.8)\n",
    "common.plot_finalise(ax, title='Primary votes for other parties and independents', \n",
    "              xlabel=\"Australian Federal Election\", ylabel='Per cent', lfooter=None)"
   ]
  },
  {
   "cell_type": "markdown",
   "id": "9b131908",
   "metadata": {},
   "source": [
    "### Mainstream parties"
   ]
  },
  {
   "cell_type": "code",
   "execution_count": 7,
   "id": "0ef4bbcd",
   "metadata": {
    "ExecuteTime": {
     "end_time": "2021-11-15T05:48:03.854869Z",
     "start_time": "2021-11-15T05:48:03.411348Z"
    }
   },
   "outputs": [
    {
     "data": {
      "image/png": "[encoded data removed]",
      "text/plain": [
       "<Figure size 648x324 with 1 Axes>"
      ]
     },
     "metadata": {},
     "output_type": "display_data"
    }
   ],
   "source": [
    "table['Coalition'] = table[coalition].sum(axis=1)\n",
    "table = table.rename(columns={'ALP': 'Labor'})\n",
    "majors = ['Coalition', 'Labor']\n",
    "fig, ax = common.initiate_plot()\n",
    "table[majors].plot.bar(stacked=True, ax=ax, width=0.8, \n",
    "                       color=[COLOR_COALITION, COLOR_LABOR])\n",
    "common.plot_finalise(ax, title='Primary votes for the mainstream parties', \n",
    "              xlabel=\"Australian Federal Election\", ylabel='Per cent', lfooter=None)"
   ]
  },
  {
   "cell_type": "code",
   "execution_count": null,
   "id": "d92a0a2a",
   "metadata": {},
   "outputs": [],
   "source": []
  }
 ],
 "metadata": {
  "kernelspec": {
   "display_name": "Python 3 (ipykernel)",
   "language": "python",
   "name": "python3"
  },
  "language_info": {
   "codemirror_mode": {
    "name": "ipython",
    "version": 3
   },
   "file_extension": ".py",
   "mimetype": "text/x-python",
   "name": "python",
   "nbconvert_exporter": "python",
   "pygments_lexer": "ipython3",
   "version": "3.9.12"
  },
  "toc": {
   "base_numbering": 1,
   "nav_menu": {},
   "number_sections": true,
   "sideBar": true,
   "skip_h1_title": true,
   "title_cell": "Table of Contents",
   "title_sidebar": "Contents",
   "toc_cell": true,
   "toc_position": {},
   "toc_section_display": true,
   "toc_window_display": true
  },
  "varInspector": {
   "cols": {
    "lenName": 16,
    "lenType": 16,
    "lenVar": 40
   },
   "kernels_config": {
    "python": {
     "delete_cmd_postfix": "",
     "delete_cmd_prefix": "del ",
     "library": "var_list.py",
     "varRefreshCmd": "print(var_dic_list())"
    },
    "r": {
     "delete_cmd_postfix": ") ",
     "delete_cmd_prefix": "rm(",
     "library": "var_list.r",
     "varRefreshCmd": "cat(var_dic_list()) "
    }
   },
   "types_to_exclude": [
    "module",
    "function",
    "builtin_function_or_method",
    "instance",
    "_Feature"
   ],
   "window_display": false
  }
 },
 "nbformat": 4,
 "nbformat_minor": 5
}
