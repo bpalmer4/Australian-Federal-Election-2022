{
 "cells": [
  {
   "cell_type": "markdown",
   "id": "382d6f85",
   "metadata": {},
   "source": [
    "# Bayesian seats model: Estimating seats from election outcome"
   ]
  },
  {
   "cell_type": "markdown",
   "id": "c709da62",
   "metadata": {
    "toc": true
   },
   "source": [
    "<h1>Table of Contents<span class=\"tocSkip\"></span></h1>\n",
    "<div class=\"toc\"><ul class=\"toc-item\"><li><span><a href=\"#Python-setup\" data-toc-modified-id=\"Python-setup-1\"><span class=\"toc-item-num\">1&nbsp;&nbsp;</span>Python setup</a></span></li><li><span><a href=\"#Supporting-functions\" data-toc-modified-id=\"Supporting-functions-2\"><span class=\"toc-item-num\">2&nbsp;&nbsp;</span>Supporting functions</a></span></li><li><span><a href=\"#Get-the-data\" data-toc-modified-id=\"Get-the-data-3\"><span class=\"toc-item-num\">3&nbsp;&nbsp;</span>Get the data</a></span></li><li><span><a href=\"#Stan-2pp-difference-to-seats-difference-conversion-model\" data-toc-modified-id=\"Stan-2pp-difference-to-seats-difference-conversion-model-4\"><span class=\"toc-item-num\">4&nbsp;&nbsp;</span>Stan 2pp-difference to seats-difference conversion model</a></span><ul class=\"toc-item\"><li><span><a href=\"#Estimate-with-Stan\" data-toc-modified-id=\"Estimate-with-Stan-4.1\"><span class=\"toc-item-num\">4.1&nbsp;&nbsp;</span>Estimate with Stan</a></span></li><li><span><a href=\"#Cross-check-with-statsmodels\" data-toc-modified-id=\"Cross-check-with-statsmodels-4.2\"><span class=\"toc-item-num\">4.2&nbsp;&nbsp;</span>Cross check with statsmodels</a></span></li></ul></li><li><span><a href=\"#Save-results\" data-toc-modified-id=\"Save-results-5\"><span class=\"toc-item-num\">5&nbsp;&nbsp;</span>Save results</a></span></li></ul></div>"
   ]
  },
  {
   "cell_type": "markdown",
   "id": "7a523491",
   "metadata": {},
   "source": [
    "## Python setup"
   ]
  },
  {
   "cell_type": "code",
   "execution_count": 1,
   "id": "e9eeb367",
   "metadata": {
    "ExecuteTime": {
     "end_time": "2021-12-03T03:30:04.860053Z",
     "start_time": "2021-12-03T03:30:02.800798Z"
    }
   },
   "outputs": [],
   "source": [
    "# Data science imports\n",
    "import numpy as np\n",
    "import pandas as pd\n",
    "import matplotlib.pyplot as plt\n",
    "import matplotlib.patheffects as pe\n",
    "import arviz as az\n",
    "import stan # install with pip - conda is problematic on the M1 MBP\n",
    "import statsmodels.api as sm\n",
    "from statsmodels.sandbox.regression.predstd import wls_prediction_std\n",
    "\n",
    "# system imports\n",
    "import pathlib\n",
    "import math\n",
    "\n",
    "# local imports\n",
    "import common\n",
    "from common import COLOR_COALITION, COLOR_LABOR, COLOR_OTHER"
   ]
  },
  {
   "cell_type": "code",
   "execution_count": 2,
   "id": "b0190b40",
   "metadata": {
    "ExecuteTime": {
     "end_time": "2021-12-03T03:30:04.865458Z",
     "start_time": "2021-12-03T03:30:04.861194Z"
    }
   },
   "outputs": [],
   "source": [
    "# enable pystan on jupyter notebook\n",
    "import nest_asyncio\n",
    "nest_asyncio.apply()"
   ]
  },
  {
   "cell_type": "code",
   "execution_count": 3,
   "id": "9aae7377",
   "metadata": {
    "ExecuteTime": {
     "end_time": "2021-12-03T03:30:04.873355Z",
     "start_time": "2021-12-03T03:30:04.868552Z"
    }
   },
   "outputs": [],
   "source": [
    "# plotting stuff\n",
    "plt.style.use('./markgraph.mplstyle')"
   ]
  },
  {
   "cell_type": "code",
   "execution_count": 4,
   "id": "60f9c2dd",
   "metadata": {
    "ExecuteTime": {
     "end_time": "2021-12-03T03:30:04.877434Z",
     "start_time": "2021-12-03T03:30:04.874721Z"
    }
   },
   "outputs": [],
   "source": [
    "# data locations\n",
    "SEAT_HISTORY_FILE = '../historical-data/Seat History.csv'"
   ]
  },
  {
   "cell_type": "markdown",
   "id": "26adda71",
   "metadata": {},
   "source": [
    "## Supporting functions"
   ]
  },
  {
   "cell_type": "markdown",
   "id": "a5293188",
   "metadata": {},
   "source": [
    "## Get the data\n",
    "\n",
    "Note: the data was produced by the \"capture wiki election history data and preliminary charts\" notebook."
   ]
  },
  {
   "cell_type": "code",
   "execution_count": 5,
   "id": "d1078716",
   "metadata": {
    "ExecuteTime": {
     "end_time": "2021-12-03T03:30:04.882900Z",
     "start_time": "2021-12-03T03:30:04.879210Z"
    }
   },
   "outputs": [],
   "source": [
    "def fix_column_names(t: pd.DataFrame) -> pd.DataFrame:\n",
    "    \"\"\"Replace 'Unnamed' column names with ''.\"\"\"\n",
    "    \n",
    "    replacements = {}\n",
    "    for c in t.columns:\n",
    "        if 'Unnamed' in c[1]:\n",
    "            replacements[c[1]] = ''\n",
    "    if replacements:\n",
    "        t = t.rename(columns=replacements, level=1)\n",
    "    return t"
   ]
  },
  {
   "cell_type": "code",
   "execution_count": 6,
   "id": "19fdb21d",
   "metadata": {
    "ExecuteTime": {
     "end_time": "2021-12-03T03:30:04.897228Z",
     "start_time": "2021-12-03T03:30:04.885117Z"
    }
   },
   "outputs": [
    {
     "data": {
      "text/plain": [
       "dtype('<M8[ns]')"
      ]
     },
     "execution_count": 6,
     "metadata": {},
     "output_type": "execute_result"
    }
   ],
   "source": [
    "# Load historical elections data\n",
    "seat_history = pd.read_csv(SEAT_HISTORY_FILE, header=[0, 1], \n",
    "                           index_col=0, parse_dates=[0], )\n",
    "seat_history = fix_column_names(seat_history)\n",
    "seat_history.index.dtype"
   ]
  },
  {
   "cell_type": "code",
   "execution_count": 7,
   "id": "f82994e0",
   "metadata": {
    "ExecuteTime": {
     "end_time": "2021-12-03T03:30:04.903472Z",
     "start_time": "2021-12-03T03:30:04.898968Z"
    }
   },
   "outputs": [
    {
     "data": {
      "text/plain": [
       "MultiIndex([(               'Primary vote',   'ALP'),\n",
       "            (               'Primary vote',  'L+NP'),\n",
       "            (               'Primary vote',  'Oth.'),\n",
       "            (                   '2PP vote',   'ALP'),\n",
       "            (                   '2PP vote',  'L+NP'),\n",
       "            (                      'Seats',   'ALP'),\n",
       "            (                      'Seats',  'L+NP'),\n",
       "            (                      'Seats',  'Oth.'),\n",
       "            (                      'Seats', 'Total'),\n",
       "            ('Governing party at election',      ''),\n",
       "            (            'Governing since',      ''),\n",
       "            (             'PM at election',      ''),\n",
       "            (              'Winning party',      ''),\n",
       "            (                      'Notes',      ''),\n",
       "            (             'log gov period',      ''),\n",
       "            (                     'winner',      ''),\n",
       "            (      'Govt 2pp votes margin',      ''),\n",
       "            (          'Govt seats margin',      '')],\n",
       "           )"
      ]
     },
     "execution_count": 7,
     "metadata": {},
     "output_type": "execute_result"
    }
   ],
   "source": [
    "seat_history.columns"
   ]
  },
  {
   "cell_type": "code",
   "execution_count": 8,
   "id": "58e33450",
   "metadata": {
    "ExecuteTime": {
     "end_time": "2021-12-03T03:30:04.911705Z",
     "start_time": "2021-12-03T03:30:04.905744Z"
    }
   },
   "outputs": [],
   "source": [
    "seat_history['Proportion of others'] = (\n",
    "    seat_history[('Seats',  'Oth.')] \n",
    "    / seat_history[('Seats', 'Total')]\n",
    ")"
   ]
  },
  {
   "cell_type": "code",
   "execution_count": 9,
   "id": "85c4fa78",
   "metadata": {
    "ExecuteTime": {
     "end_time": "2021-12-03T03:30:04.920051Z",
     "start_time": "2021-12-03T03:30:04.916321Z"
    }
   },
   "outputs": [],
   "source": [
    "# limit input data to recent history\n",
    "HISTORY_START = 1969 # let's start with Don's party ...\n",
    "seat_history = seat_history[seat_history.index.year >= HISTORY_START]"
   ]
  },
  {
   "cell_type": "code",
   "execution_count": 10,
   "id": "ea5f5ff2",
   "metadata": {
    "ExecuteTime": {
     "end_time": "2021-12-03T03:30:04.931252Z",
     "start_time": "2021-12-03T03:30:04.922560Z"
    }
   },
   "outputs": [
    {
     "data": {
      "text/plain": [
       "11"
      ]
     },
     "execution_count": 10,
     "metadata": {},
     "output_type": "execute_result"
    }
   ],
   "source": [
    "# limit autoregressive model of non-major party members to an even more recent period\n",
    "seat_history['Row number'] = range(1, len(seat_history)+1)\n",
    "AUTOREGRESS_FROM = 1993 # previous election non-zero, also subsequent also non-zero\n",
    "assert(AUTOREGRESS_FROM >= HISTORY_START)\n",
    "ar_from = seat_history.loc[seat_history.index.year == AUTOREGRESS_FROM, 'Row number'].values[0]\n",
    "ar_from"
   ]
  },
  {
   "cell_type": "code",
   "execution_count": 11,
   "id": "1df4023d",
   "metadata": {
    "ExecuteTime": {
     "end_time": "2021-12-03T03:30:04.937705Z",
     "start_time": "2021-12-03T03:30:04.933166Z"
    }
   },
   "outputs": [
    {
     "data": {
      "text/plain": [
       "20"
      ]
     },
     "execution_count": 11,
     "metadata": {},
     "output_type": "execute_result"
    }
   ],
   "source": [
    "len(seat_history)"
   ]
  },
  {
   "cell_type": "markdown",
   "id": "0784a6e4",
   "metadata": {},
   "source": [
    "## Stan 2pp-difference to seats-difference conversion model"
   ]
  },
  {
   "cell_type": "markdown",
   "id": "8f441c8d",
   "metadata": {},
   "source": [
    "### Estimate with Stan"
   ]
  },
  {
   "cell_type": "code",
   "execution_count": 12,
   "id": "221a359b",
   "metadata": {
    "ExecuteTime": {
     "end_time": "2021-12-03T03:30:04.944323Z",
     "start_time": "2021-12-03T03:30:04.939463Z"
    }
   },
   "outputs": [],
   "source": [
    "conversion_data = {\n",
    "    'n_history': len(seat_history),\n",
    "    'seats': seat_history['Govt seats margin'].values,\n",
    "    'votes': seat_history['Govt 2pp votes margin'].values,\n",
    "}"
   ]
  },
  {
   "cell_type": "code",
   "execution_count": 13,
   "id": "087f28a4",
   "metadata": {
    "ExecuteTime": {
     "end_time": "2021-12-03T03:30:04.948363Z",
     "start_time": "2021-12-03T03:30:04.946039Z"
    }
   },
   "outputs": [],
   "source": [
    "conversion_model = \"\"\"\n",
    "data {\n",
    "    int<lower=1> n_history;    // length of election history\n",
    "    vector<lower=-1,upper=1>[n_history] seats;  // Coalition seats margin (response)\n",
    "    vector<lower=-1,upper=1>[n_history] votes;  // Coalition votes margin (inputs)\n",
    "}\n",
    "\n",
    "parameters {\n",
    "    // historical relationship between 2pp votes and seats\n",
    "    real slope;\n",
    "    real intercept;\n",
    "    real<lower=0.000001> sigma; // force half cauchy with lower bound  \n",
    "}\n",
    "\n",
    "model {\n",
    "    // priors on vote difference\n",
    "    intercept ~ normal(0, 1);\n",
    "    slope ~ normal(3, 1);      \n",
    "    sigma ~ cauchy(0, 1);\n",
    "\n",
    "    // linear regression from 2pp vote difference to seats difference\n",
    "    // use student_t here for the fatter tails ...\n",
    "    seats ~ student_t(5, intercept + (slope * votes), sigma); // fatter tails\n",
    "    //seats ~ normal(intercept + (slope * votes), sigma); // normal dist.   \n",
    "}\n",
    "\n",
    "generated quantities {\n",
    "\n",
    "    // --- MODEL DIAGNOSTICS ---\n",
    "    \n",
    "    // 2pp to seats relationship\n",
    "    vector<lower=-1,upper=1>[n_history] seats_estimate;\n",
    "    seats_estimate = slope * votes + intercept;\n",
    "    \n",
    "    // prediction interval on 2pp to seats relationship\n",
    "    real<lower=-1,upper=1> predict_interval[n_history] = \n",
    "        normal_rng(intercept + (slope * votes), sigma);\n",
    "}\n",
    "\"\"\""
   ]
  },
  {
   "cell_type": "code",
   "execution_count": 14,
   "id": "5321054c",
   "metadata": {
    "ExecuteTime": {
     "end_time": "2021-12-03T03:30:04.994414Z",
     "start_time": "2021-12-03T03:30:04.950056Z"
    }
   },
   "outputs": [
    {
     "name": "stderr",
     "output_type": "stream",
     "text": [
      "\u001b[32mBuilding:\u001b[0m found in cache, done.\n"
     ]
    }
   ],
   "source": [
    "conv_posterior = stan.build(conversion_model, data=conversion_data)\n",
    "\n",
    "# Note: Stan typically produces an ocean of compiler warnings.\n",
    "#       For the most part these are utterly _useless_ warnings.\n",
    "#       But there may be an important parser diagnostic that \n",
    "#       requres action buried among the blathering. Searching\n",
    "#.      for \"PARSER\" and \"DIAGNOSTIC\" can help find if there is \n",
    "#.      something of concern.\n",
    "#       https://mc-stan.org/misc/warnings.html#compiler-warnings"
   ]
  },
  {
   "cell_type": "code",
   "execution_count": 15,
   "id": "436b1d91",
   "metadata": {
    "ExecuteTime": {
     "end_time": "2021-12-03T03:31:35.960404Z",
     "start_time": "2021-12-03T03:30:04.995814Z"
    }
   },
   "outputs": [
    {
     "name": "stderr",
     "output_type": "stream",
     "text": [
      "\u001b[36mSampling:\u001b[0m   0%\n",
      "\u001b[1A\u001b[0J\u001b[36mSampling:\u001b[0m  25% (26000/104000)\n",
      "\u001b[1A\u001b[0J\u001b[36mSampling:\u001b[0m  50% (52000/104000)\n",
      "\u001b[1A\u001b[0J\u001b[36mSampling:\u001b[0m  75% (78000/104000)\n",
      "\u001b[1A\u001b[0J\u001b[36mSampling:\u001b[0m 100% (104000/104000)\n",
      "\u001b[1A\u001b[0J\u001b[32mSampling:\u001b[0m 100% (104000/104000), done.\n",
      "\u001b[36mMessages received during sampling:\u001b[0m\n",
      "  Gradient evaluation took 2.2e-05 seconds\n",
      "  1000 transitions using 10 leapfrog steps per transition would take 0.22 seconds.\n",
      "  Adjust your expectations accordingly!\n",
      "  Gradient evaluation took 4e-06 seconds\n",
      "  1000 transitions using 10 leapfrog steps per transition would take 0.04 seconds.\n",
      "  Adjust your expectations accordingly!\n",
      "  Gradient evaluation took 5e-06 seconds\n",
      "  1000 transitions using 10 leapfrog steps per transition would take 0.05 seconds.\n",
      "  Adjust your expectations accordingly!\n",
      "  Gradient evaluation took 5e-06 seconds\n",
      "  1000 transitions using 10 leapfrog steps per transition would take 0.05 seconds.\n",
      "  Adjust your expectations accordingly!\n"
     ]
    }
   ],
   "source": [
    "conv_fit = conv_posterior.sample(num_chains=4, num_samples=25_000)\n",
    "\n",
    "# Very occasionally generates an \"inifity should be positive\n",
    "# finite\" Exception. These seem to be well managed. \n",
    "# They typically occur at less than one per 100,000 samples."
   ]
  },
  {
   "cell_type": "code",
   "execution_count": 16,
   "id": "1c28fbcf",
   "metadata": {
    "ExecuteTime": {
     "end_time": "2021-12-03T03:31:38.828208Z",
     "start_time": "2021-12-03T03:31:35.961946Z"
    }
   },
   "outputs": [
    {
     "data": {
      "text/html": [
       "<div>\n",
       "<style scoped>\n",
       "    .dataframe tbody tr th:only-of-type {\n",
       "        vertical-align: middle;\n",
       "    }\n",
       "\n",
       "    .dataframe tbody tr th {\n",
       "        vertical-align: top;\n",
       "    }\n",
       "\n",
       "    .dataframe thead th {\n",
       "        text-align: right;\n",
       "    }\n",
       "</style>\n",
       "<table border=\"1\" class=\"dataframe\">\n",
       "  <thead>\n",
       "    <tr style=\"text-align: right;\">\n",
       "      <th></th>\n",
       "      <th>mean</th>\n",
       "      <th>sd</th>\n",
       "      <th>hdi_3%</th>\n",
       "      <th>hdi_97%</th>\n",
       "      <th>mcse_mean</th>\n",
       "      <th>mcse_sd</th>\n",
       "      <th>ess_bulk</th>\n",
       "      <th>ess_tail</th>\n",
       "      <th>r_hat</th>\n",
       "    </tr>\n",
       "  </thead>\n",
       "  <tbody>\n",
       "    <tr>\n",
       "      <th>slope</th>\n",
       "      <td>3.354</td>\n",
       "      <td>0.312</td>\n",
       "      <td>2.762</td>\n",
       "      <td>3.943</td>\n",
       "      <td>0.001</td>\n",
       "      <td>0.001</td>\n",
       "      <td>77458.0</td>\n",
       "      <td>64249.0</td>\n",
       "      <td>1.0</td>\n",
       "    </tr>\n",
       "    <tr>\n",
       "      <th>intercept</th>\n",
       "      <td>0.036</td>\n",
       "      <td>0.017</td>\n",
       "      <td>0.004</td>\n",
       "      <td>0.068</td>\n",
       "      <td>0.000</td>\n",
       "      <td>0.000</td>\n",
       "      <td>79300.0</td>\n",
       "      <td>67674.0</td>\n",
       "      <td>1.0</td>\n",
       "    </tr>\n",
       "    <tr>\n",
       "      <th>sigma</th>\n",
       "      <td>0.065</td>\n",
       "      <td>0.014</td>\n",
       "      <td>0.041</td>\n",
       "      <td>0.091</td>\n",
       "      <td>0.000</td>\n",
       "      <td>0.000</td>\n",
       "      <td>75128.0</td>\n",
       "      <td>67122.0</td>\n",
       "      <td>1.0</td>\n",
       "    </tr>\n",
       "    <tr>\n",
       "      <th>seats_estimate[0]</th>\n",
       "      <td>0.022</td>\n",
       "      <td>0.017</td>\n",
       "      <td>-0.010</td>\n",
       "      <td>0.055</td>\n",
       "      <td>0.000</td>\n",
       "      <td>0.000</td>\n",
       "      <td>77992.0</td>\n",
       "      <td>67386.0</td>\n",
       "      <td>1.0</td>\n",
       "    </tr>\n",
       "    <tr>\n",
       "      <th>seats_estimate[1]</th>\n",
       "      <td>-0.146</td>\n",
       "      <td>0.026</td>\n",
       "      <td>-0.194</td>\n",
       "      <td>-0.096</td>\n",
       "      <td>0.000</td>\n",
       "      <td>0.000</td>\n",
       "      <td>71048.0</td>\n",
       "      <td>63254.0</td>\n",
       "      <td>1.0</td>\n",
       "    </tr>\n",
       "    <tr>\n",
       "      <th>seats_estimate[2]</th>\n",
       "      <td>0.150</td>\n",
       "      <td>0.019</td>\n",
       "      <td>0.114</td>\n",
       "      <td>0.185</td>\n",
       "      <td>0.000</td>\n",
       "      <td>0.000</td>\n",
       "      <td>89931.0</td>\n",
       "      <td>67934.0</td>\n",
       "      <td>1.0</td>\n",
       "    </tr>\n",
       "    <tr>\n",
       "      <th>seats_estimate[3]</th>\n",
       "      <td>0.418</td>\n",
       "      <td>0.037</td>\n",
       "      <td>0.347</td>\n",
       "      <td>0.487</td>\n",
       "      <td>0.000</td>\n",
       "      <td>0.000</td>\n",
       "      <td>87396.0</td>\n",
       "      <td>65762.0</td>\n",
       "      <td>1.0</td>\n",
       "    </tr>\n",
       "    <tr>\n",
       "      <th>seats_estimate[4]</th>\n",
       "      <td>0.344</td>\n",
       "      <td>0.031</td>\n",
       "      <td>0.284</td>\n",
       "      <td>0.402</td>\n",
       "      <td>0.000</td>\n",
       "      <td>0.000</td>\n",
       "      <td>88996.0</td>\n",
       "      <td>66052.0</td>\n",
       "      <td>1.0</td>\n",
       "    </tr>\n",
       "    <tr>\n",
       "      <th>seats_estimate[5]</th>\n",
       "      <td>0.062</td>\n",
       "      <td>0.017</td>\n",
       "      <td>0.032</td>\n",
       "      <td>0.095</td>\n",
       "      <td>0.000</td>\n",
       "      <td>0.000</td>\n",
       "      <td>82169.0</td>\n",
       "      <td>67734.0</td>\n",
       "      <td>1.0</td>\n",
       "    </tr>\n",
       "    <tr>\n",
       "      <th>seats_estimate[6]</th>\n",
       "      <td>-0.179</td>\n",
       "      <td>0.028</td>\n",
       "      <td>-0.233</td>\n",
       "      <td>-0.126</td>\n",
       "      <td>0.000</td>\n",
       "      <td>0.000</td>\n",
       "      <td>70959.0</td>\n",
       "      <td>62726.0</td>\n",
       "      <td>1.0</td>\n",
       "    </tr>\n",
       "    <tr>\n",
       "      <th>seats_estimate[7]</th>\n",
       "      <td>0.156</td>\n",
       "      <td>0.019</td>\n",
       "      <td>0.121</td>\n",
       "      <td>0.193</td>\n",
       "      <td>0.000</td>\n",
       "      <td>0.000</td>\n",
       "      <td>90254.0</td>\n",
       "      <td>67861.0</td>\n",
       "      <td>1.0</td>\n",
       "    </tr>\n",
       "    <tr>\n",
       "      <th>seats_estimate[8]</th>\n",
       "      <td>0.089</td>\n",
       "      <td>0.017</td>\n",
       "      <td>0.057</td>\n",
       "      <td>0.121</td>\n",
       "      <td>0.000</td>\n",
       "      <td>0.000</td>\n",
       "      <td>85081.0</td>\n",
       "      <td>68240.0</td>\n",
       "      <td>1.0</td>\n",
       "    </tr>\n",
       "    <tr>\n",
       "      <th>seats_estimate[9]</th>\n",
       "      <td>0.029</td>\n",
       "      <td>0.017</td>\n",
       "      <td>-0.002</td>\n",
       "      <td>0.062</td>\n",
       "      <td>0.000</td>\n",
       "      <td>0.000</td>\n",
       "      <td>78629.0</td>\n",
       "      <td>67656.0</td>\n",
       "      <td>1.0</td>\n",
       "    </tr>\n",
       "    <tr>\n",
       "      <th>seats_estimate[10]</th>\n",
       "      <td>0.129</td>\n",
       "      <td>0.018</td>\n",
       "      <td>0.095</td>\n",
       "      <td>0.163</td>\n",
       "      <td>0.000</td>\n",
       "      <td>0.000</td>\n",
       "      <td>88693.0</td>\n",
       "      <td>68102.0</td>\n",
       "      <td>1.0</td>\n",
       "    </tr>\n",
       "    <tr>\n",
       "      <th>seats_estimate[11]</th>\n",
       "      <td>-0.206</td>\n",
       "      <td>0.030</td>\n",
       "      <td>-0.263</td>\n",
       "      <td>-0.149</td>\n",
       "      <td>0.000</td>\n",
       "      <td>0.000</td>\n",
       "      <td>71000.0</td>\n",
       "      <td>62808.0</td>\n",
       "      <td>1.0</td>\n",
       "    </tr>\n",
       "    <tr>\n",
       "      <th>seats_estimate[12]</th>\n",
       "      <td>-0.032</td>\n",
       "      <td>0.019</td>\n",
       "      <td>-0.067</td>\n",
       "      <td>0.005</td>\n",
       "      <td>0.000</td>\n",
       "      <td>0.000</td>\n",
       "      <td>74087.0</td>\n",
       "      <td>65828.0</td>\n",
       "      <td>1.0</td>\n",
       "    </tr>\n",
       "    <tr>\n",
       "      <th>seats_estimate[13]</th>\n",
       "      <td>0.103</td>\n",
       "      <td>0.017</td>\n",
       "      <td>0.070</td>\n",
       "      <td>0.135</td>\n",
       "      <td>0.000</td>\n",
       "      <td>0.000</td>\n",
       "      <td>86422.0</td>\n",
       "      <td>68658.0</td>\n",
       "      <td>1.0</td>\n",
       "    </tr>\n",
       "    <tr>\n",
       "      <th>seats_estimate[14]</th>\n",
       "      <td>0.217</td>\n",
       "      <td>0.022</td>\n",
       "      <td>0.175</td>\n",
       "      <td>0.258</td>\n",
       "      <td>0.000</td>\n",
       "      <td>0.000</td>\n",
       "      <td>91328.0</td>\n",
       "      <td>67855.0</td>\n",
       "      <td>1.0</td>\n",
       "    </tr>\n",
       "    <tr>\n",
       "      <th>seats_estimate[15]</th>\n",
       "      <td>-0.146</td>\n",
       "      <td>0.026</td>\n",
       "      <td>-0.194</td>\n",
       "      <td>-0.096</td>\n",
       "      <td>0.000</td>\n",
       "      <td>0.000</td>\n",
       "      <td>71048.0</td>\n",
       "      <td>63254.0</td>\n",
       "      <td>1.0</td>\n",
       "    </tr>\n",
       "    <tr>\n",
       "      <th>seats_estimate[16]</th>\n",
       "      <td>0.042</td>\n",
       "      <td>0.017</td>\n",
       "      <td>0.011</td>\n",
       "      <td>0.074</td>\n",
       "      <td>0.000</td>\n",
       "      <td>0.000</td>\n",
       "      <td>79993.0</td>\n",
       "      <td>67253.0</td>\n",
       "      <td>1.0</td>\n",
       "    </tr>\n",
       "    <tr>\n",
       "      <th>seats_estimate[17]</th>\n",
       "      <td>-0.199</td>\n",
       "      <td>0.030</td>\n",
       "      <td>-0.255</td>\n",
       "      <td>-0.143</td>\n",
       "      <td>0.000</td>\n",
       "      <td>0.000</td>\n",
       "      <td>70985.0</td>\n",
       "      <td>62891.0</td>\n",
       "      <td>1.0</td>\n",
       "    </tr>\n",
       "    <tr>\n",
       "      <th>seats_estimate[18]</th>\n",
       "      <td>0.062</td>\n",
       "      <td>0.017</td>\n",
       "      <td>0.032</td>\n",
       "      <td>0.095</td>\n",
       "      <td>0.000</td>\n",
       "      <td>0.000</td>\n",
       "      <td>82169.0</td>\n",
       "      <td>67734.0</td>\n",
       "      <td>1.0</td>\n",
       "    </tr>\n",
       "    <tr>\n",
       "      <th>seats_estimate[19]</th>\n",
       "      <td>0.136</td>\n",
       "      <td>0.018</td>\n",
       "      <td>0.102</td>\n",
       "      <td>0.170</td>\n",
       "      <td>0.000</td>\n",
       "      <td>0.000</td>\n",
       "      <td>89149.0</td>\n",
       "      <td>68313.0</td>\n",
       "      <td>1.0</td>\n",
       "    </tr>\n",
       "    <tr>\n",
       "      <th>predict_interval[0]</th>\n",
       "      <td>0.022</td>\n",
       "      <td>0.068</td>\n",
       "      <td>-0.107</td>\n",
       "      <td>0.154</td>\n",
       "      <td>0.000</td>\n",
       "      <td>0.000</td>\n",
       "      <td>99156.0</td>\n",
       "      <td>96052.0</td>\n",
       "      <td>1.0</td>\n",
       "    </tr>\n",
       "    <tr>\n",
       "      <th>predict_interval[1]</th>\n",
       "      <td>-0.145</td>\n",
       "      <td>0.071</td>\n",
       "      <td>-0.279</td>\n",
       "      <td>-0.010</td>\n",
       "      <td>0.000</td>\n",
       "      <td>0.000</td>\n",
       "      <td>94560.0</td>\n",
       "      <td>97097.0</td>\n",
       "      <td>1.0</td>\n",
       "    </tr>\n",
       "    <tr>\n",
       "      <th>predict_interval[2]</th>\n",
       "      <td>0.150</td>\n",
       "      <td>0.069</td>\n",
       "      <td>0.019</td>\n",
       "      <td>0.279</td>\n",
       "      <td>0.000</td>\n",
       "      <td>0.000</td>\n",
       "      <td>96448.0</td>\n",
       "      <td>95443.0</td>\n",
       "      <td>1.0</td>\n",
       "    </tr>\n",
       "    <tr>\n",
       "      <th>predict_interval[3]</th>\n",
       "      <td>0.418</td>\n",
       "      <td>0.075</td>\n",
       "      <td>0.277</td>\n",
       "      <td>0.563</td>\n",
       "      <td>0.000</td>\n",
       "      <td>0.000</td>\n",
       "      <td>94238.0</td>\n",
       "      <td>93183.0</td>\n",
       "      <td>1.0</td>\n",
       "    </tr>\n",
       "    <tr>\n",
       "      <th>predict_interval[4]</th>\n",
       "      <td>0.344</td>\n",
       "      <td>0.073</td>\n",
       "      <td>0.205</td>\n",
       "      <td>0.481</td>\n",
       "      <td>0.000</td>\n",
       "      <td>0.000</td>\n",
       "      <td>98104.0</td>\n",
       "      <td>96007.0</td>\n",
       "      <td>1.0</td>\n",
       "    </tr>\n",
       "    <tr>\n",
       "      <th>predict_interval[5]</th>\n",
       "      <td>0.062</td>\n",
       "      <td>0.068</td>\n",
       "      <td>-0.068</td>\n",
       "      <td>0.191</td>\n",
       "      <td>0.000</td>\n",
       "      <td>0.000</td>\n",
       "      <td>98804.0</td>\n",
       "      <td>97214.0</td>\n",
       "      <td>1.0</td>\n",
       "    </tr>\n",
       "    <tr>\n",
       "      <th>predict_interval[6]</th>\n",
       "      <td>-0.179</td>\n",
       "      <td>0.072</td>\n",
       "      <td>-0.316</td>\n",
       "      <td>-0.044</td>\n",
       "      <td>0.000</td>\n",
       "      <td>0.000</td>\n",
       "      <td>94300.0</td>\n",
       "      <td>89095.0</td>\n",
       "      <td>1.0</td>\n",
       "    </tr>\n",
       "    <tr>\n",
       "      <th>predict_interval[7]</th>\n",
       "      <td>0.156</td>\n",
       "      <td>0.069</td>\n",
       "      <td>0.026</td>\n",
       "      <td>0.286</td>\n",
       "      <td>0.000</td>\n",
       "      <td>0.000</td>\n",
       "      <td>98096.0</td>\n",
       "      <td>97316.0</td>\n",
       "      <td>1.0</td>\n",
       "    </tr>\n",
       "    <tr>\n",
       "      <th>predict_interval[8]</th>\n",
       "      <td>0.089</td>\n",
       "      <td>0.068</td>\n",
       "      <td>-0.040</td>\n",
       "      <td>0.219</td>\n",
       "      <td>0.000</td>\n",
       "      <td>0.000</td>\n",
       "      <td>98559.0</td>\n",
       "      <td>97565.0</td>\n",
       "      <td>1.0</td>\n",
       "    </tr>\n",
       "    <tr>\n",
       "      <th>predict_interval[9]</th>\n",
       "      <td>0.029</td>\n",
       "      <td>0.068</td>\n",
       "      <td>-0.099</td>\n",
       "      <td>0.159</td>\n",
       "      <td>0.000</td>\n",
       "      <td>0.000</td>\n",
       "      <td>98479.0</td>\n",
       "      <td>96227.0</td>\n",
       "      <td>1.0</td>\n",
       "    </tr>\n",
       "    <tr>\n",
       "      <th>predict_interval[10]</th>\n",
       "      <td>0.129</td>\n",
       "      <td>0.068</td>\n",
       "      <td>-0.002</td>\n",
       "      <td>0.257</td>\n",
       "      <td>0.000</td>\n",
       "      <td>0.000</td>\n",
       "      <td>99598.0</td>\n",
       "      <td>97788.0</td>\n",
       "      <td>1.0</td>\n",
       "    </tr>\n",
       "    <tr>\n",
       "      <th>predict_interval[11]</th>\n",
       "      <td>-0.206</td>\n",
       "      <td>0.073</td>\n",
       "      <td>-0.343</td>\n",
       "      <td>-0.067</td>\n",
       "      <td>0.000</td>\n",
       "      <td>0.000</td>\n",
       "      <td>93656.0</td>\n",
       "      <td>94435.0</td>\n",
       "      <td>1.0</td>\n",
       "    </tr>\n",
       "    <tr>\n",
       "      <th>predict_interval[12]</th>\n",
       "      <td>-0.031</td>\n",
       "      <td>0.069</td>\n",
       "      <td>-0.161</td>\n",
       "      <td>0.102</td>\n",
       "      <td>0.000</td>\n",
       "      <td>0.000</td>\n",
       "      <td>96291.0</td>\n",
       "      <td>96863.0</td>\n",
       "      <td>1.0</td>\n",
       "    </tr>\n",
       "    <tr>\n",
       "      <th>predict_interval[13]</th>\n",
       "      <td>0.103</td>\n",
       "      <td>0.068</td>\n",
       "      <td>-0.028</td>\n",
       "      <td>0.231</td>\n",
       "      <td>0.000</td>\n",
       "      <td>0.000</td>\n",
       "      <td>99342.0</td>\n",
       "      <td>94778.0</td>\n",
       "      <td>1.0</td>\n",
       "    </tr>\n",
       "    <tr>\n",
       "      <th>predict_interval[14]</th>\n",
       "      <td>0.217</td>\n",
       "      <td>0.070</td>\n",
       "      <td>0.085</td>\n",
       "      <td>0.349</td>\n",
       "      <td>0.000</td>\n",
       "      <td>0.000</td>\n",
       "      <td>94992.0</td>\n",
       "      <td>96370.0</td>\n",
       "      <td>1.0</td>\n",
       "    </tr>\n",
       "    <tr>\n",
       "      <th>predict_interval[15]</th>\n",
       "      <td>-0.145</td>\n",
       "      <td>0.071</td>\n",
       "      <td>-0.278</td>\n",
       "      <td>-0.010</td>\n",
       "      <td>0.000</td>\n",
       "      <td>0.000</td>\n",
       "      <td>94620.0</td>\n",
       "      <td>96485.0</td>\n",
       "      <td>1.0</td>\n",
       "    </tr>\n",
       "    <tr>\n",
       "      <th>predict_interval[16]</th>\n",
       "      <td>0.042</td>\n",
       "      <td>0.068</td>\n",
       "      <td>-0.086</td>\n",
       "      <td>0.173</td>\n",
       "      <td>0.000</td>\n",
       "      <td>0.000</td>\n",
       "      <td>99522.0</td>\n",
       "      <td>98182.0</td>\n",
       "      <td>1.0</td>\n",
       "    </tr>\n",
       "    <tr>\n",
       "      <th>predict_interval[17]</th>\n",
       "      <td>-0.199</td>\n",
       "      <td>0.072</td>\n",
       "      <td>-0.338</td>\n",
       "      <td>-0.064</td>\n",
       "      <td>0.000</td>\n",
       "      <td>0.000</td>\n",
       "      <td>92501.0</td>\n",
       "      <td>94994.0</td>\n",
       "      <td>1.0</td>\n",
       "    </tr>\n",
       "    <tr>\n",
       "      <th>predict_interval[18]</th>\n",
       "      <td>0.062</td>\n",
       "      <td>0.068</td>\n",
       "      <td>-0.064</td>\n",
       "      <td>0.195</td>\n",
       "      <td>0.000</td>\n",
       "      <td>0.000</td>\n",
       "      <td>98679.0</td>\n",
       "      <td>97531.0</td>\n",
       "      <td>1.0</td>\n",
       "    </tr>\n",
       "    <tr>\n",
       "      <th>predict_interval[19]</th>\n",
       "      <td>0.136</td>\n",
       "      <td>0.069</td>\n",
       "      <td>0.006</td>\n",
       "      <td>0.266</td>\n",
       "      <td>0.000</td>\n",
       "      <td>0.000</td>\n",
       "      <td>99747.0</td>\n",
       "      <td>98194.0</td>\n",
       "      <td>1.0</td>\n",
       "    </tr>\n",
       "  </tbody>\n",
       "</table>\n",
       "</div>"
      ],
      "text/plain": [
       "                       mean     sd  hdi_3%  hdi_97%  mcse_mean  mcse_sd  \\\n",
       "slope                 3.354  0.312   2.762    3.943      0.001    0.001   \n",
       "intercept             0.036  0.017   0.004    0.068      0.000    0.000   \n",
       "sigma                 0.065  0.014   0.041    0.091      0.000    0.000   \n",
       "seats_estimate[0]     0.022  0.017  -0.010    0.055      0.000    0.000   \n",
       "seats_estimate[1]    -0.146  0.026  -0.194   -0.096      0.000    0.000   \n",
       "seats_estimate[2]     0.150  0.019   0.114    0.185      0.000    0.000   \n",
       "seats_estimate[3]     0.418  0.037   0.347    0.487      0.000    0.000   \n",
       "seats_estimate[4]     0.344  0.031   0.284    0.402      0.000    0.000   \n",
       "seats_estimate[5]     0.062  0.017   0.032    0.095      0.000    0.000   \n",
       "seats_estimate[6]    -0.179  0.028  -0.233   -0.126      0.000    0.000   \n",
       "seats_estimate[7]     0.156  0.019   0.121    0.193      0.000    0.000   \n",
       "seats_estimate[8]     0.089  0.017   0.057    0.121      0.000    0.000   \n",
       "seats_estimate[9]     0.029  0.017  -0.002    0.062      0.000    0.000   \n",
       "seats_estimate[10]    0.129  0.018   0.095    0.163      0.000    0.000   \n",
       "seats_estimate[11]   -0.206  0.030  -0.263   -0.149      0.000    0.000   \n",
       "seats_estimate[12]   -0.032  0.019  -0.067    0.005      0.000    0.000   \n",
       "seats_estimate[13]    0.103  0.017   0.070    0.135      0.000    0.000   \n",
       "seats_estimate[14]    0.217  0.022   0.175    0.258      0.000    0.000   \n",
       "seats_estimate[15]   -0.146  0.026  -0.194   -0.096      0.000    0.000   \n",
       "seats_estimate[16]    0.042  0.017   0.011    0.074      0.000    0.000   \n",
       "seats_estimate[17]   -0.199  0.030  -0.255   -0.143      0.000    0.000   \n",
       "seats_estimate[18]    0.062  0.017   0.032    0.095      0.000    0.000   \n",
       "seats_estimate[19]    0.136  0.018   0.102    0.170      0.000    0.000   \n",
       "predict_interval[0]   0.022  0.068  -0.107    0.154      0.000    0.000   \n",
       "predict_interval[1]  -0.145  0.071  -0.279   -0.010      0.000    0.000   \n",
       "predict_interval[2]   0.150  0.069   0.019    0.279      0.000    0.000   \n",
       "predict_interval[3]   0.418  0.075   0.277    0.563      0.000    0.000   \n",
       "predict_interval[4]   0.344  0.073   0.205    0.481      0.000    0.000   \n",
       "predict_interval[5]   0.062  0.068  -0.068    0.191      0.000    0.000   \n",
       "predict_interval[6]  -0.179  0.072  -0.316   -0.044      0.000    0.000   \n",
       "predict_interval[7]   0.156  0.069   0.026    0.286      0.000    0.000   \n",
       "predict_interval[8]   0.089  0.068  -0.040    0.219      0.000    0.000   \n",
       "predict_interval[9]   0.029  0.068  -0.099    0.159      0.000    0.000   \n",
       "predict_interval[10]  0.129  0.068  -0.002    0.257      0.000    0.000   \n",
       "predict_interval[11] -0.206  0.073  -0.343   -0.067      0.000    0.000   \n",
       "predict_interval[12] -0.031  0.069  -0.161    0.102      0.000    0.000   \n",
       "predict_interval[13]  0.103  0.068  -0.028    0.231      0.000    0.000   \n",
       "predict_interval[14]  0.217  0.070   0.085    0.349      0.000    0.000   \n",
       "predict_interval[15] -0.145  0.071  -0.278   -0.010      0.000    0.000   \n",
       "predict_interval[16]  0.042  0.068  -0.086    0.173      0.000    0.000   \n",
       "predict_interval[17] -0.199  0.072  -0.338   -0.064      0.000    0.000   \n",
       "predict_interval[18]  0.062  0.068  -0.064    0.195      0.000    0.000   \n",
       "predict_interval[19]  0.136  0.069   0.006    0.266      0.000    0.000   \n",
       "\n",
       "                      ess_bulk  ess_tail  r_hat  \n",
       "slope                  77458.0   64249.0    1.0  \n",
       "intercept              79300.0   67674.0    1.0  \n",
       "sigma                  75128.0   67122.0    1.0  \n",
       "seats_estimate[0]      77992.0   67386.0    1.0  \n",
       "seats_estimate[1]      71048.0   63254.0    1.0  \n",
       "seats_estimate[2]      89931.0   67934.0    1.0  \n",
       "seats_estimate[3]      87396.0   65762.0    1.0  \n",
       "seats_estimate[4]      88996.0   66052.0    1.0  \n",
       "seats_estimate[5]      82169.0   67734.0    1.0  \n",
       "seats_estimate[6]      70959.0   62726.0    1.0  \n",
       "seats_estimate[7]      90254.0   67861.0    1.0  \n",
       "seats_estimate[8]      85081.0   68240.0    1.0  \n",
       "seats_estimate[9]      78629.0   67656.0    1.0  \n",
       "seats_estimate[10]     88693.0   68102.0    1.0  \n",
       "seats_estimate[11]     71000.0   62808.0    1.0  \n",
       "seats_estimate[12]     74087.0   65828.0    1.0  \n",
       "seats_estimate[13]     86422.0   68658.0    1.0  \n",
       "seats_estimate[14]     91328.0   67855.0    1.0  \n",
       "seats_estimate[15]     71048.0   63254.0    1.0  \n",
       "seats_estimate[16]     79993.0   67253.0    1.0  \n",
       "seats_estimate[17]     70985.0   62891.0    1.0  \n",
       "seats_estimate[18]     82169.0   67734.0    1.0  \n",
       "seats_estimate[19]     89149.0   68313.0    1.0  \n",
       "predict_interval[0]    99156.0   96052.0    1.0  \n",
       "predict_interval[1]    94560.0   97097.0    1.0  \n",
       "predict_interval[2]    96448.0   95443.0    1.0  \n",
       "predict_interval[3]    94238.0   93183.0    1.0  \n",
       "predict_interval[4]    98104.0   96007.0    1.0  \n",
       "predict_interval[5]    98804.0   97214.0    1.0  \n",
       "predict_interval[6]    94300.0   89095.0    1.0  \n",
       "predict_interval[7]    98096.0   97316.0    1.0  \n",
       "predict_interval[8]    98559.0   97565.0    1.0  \n",
       "predict_interval[9]    98479.0   96227.0    1.0  \n",
       "predict_interval[10]   99598.0   97788.0    1.0  \n",
       "predict_interval[11]   93656.0   94435.0    1.0  \n",
       "predict_interval[12]   96291.0   96863.0    1.0  \n",
       "predict_interval[13]   99342.0   94778.0    1.0  \n",
       "predict_interval[14]   94992.0   96370.0    1.0  \n",
       "predict_interval[15]   94620.0   96485.0    1.0  \n",
       "predict_interval[16]   99522.0   98182.0    1.0  \n",
       "predict_interval[17]   92501.0   94994.0    1.0  \n",
       "predict_interval[18]   98679.0   97531.0    1.0  \n",
       "predict_interval[19]   99747.0   98194.0    1.0  "
      ]
     },
     "execution_count": 16,
     "metadata": {},
     "output_type": "execute_result"
    }
   ],
   "source": [
    "az.summary(conv_fit)"
   ]
  },
  {
   "cell_type": "code",
   "execution_count": 17,
   "id": "45bcc151",
   "metadata": {
    "ExecuteTime": {
     "end_time": "2021-12-03T03:31:39.764627Z",
     "start_time": "2021-12-03T03:31:38.830099Z"
    }
   },
   "outputs": [
    {
     "data": {
      "text/plain": [
       "array([[<AxesSubplot:title={'center':'slope'}>,\n",
       "        <AxesSubplot:title={'center':'slope'}>],\n",
       "       [<AxesSubplot:title={'center':'intercept'}>,\n",
       "        <AxesSubplot:title={'center':'intercept'}>],\n",
       "       [<AxesSubplot:title={'center':'sigma'}>,\n",
       "        <AxesSubplot:title={'center':'sigma'}>]], dtype=object)"
      ]
     },
     "execution_count": 17,
     "metadata": {},
     "output_type": "execute_result"
    },
    {
     "data": {
      "image/png": "[encoded data removed]",
      "text/plain": [
       "<Figure size 864x432 with 6 Axes>"
      ]
     },
     "metadata": {},
     "output_type": "display_data"
    }
   ],
   "source": [
    "az.plot_trace(conv_fit, var_names=['slope', 'intercept', 'sigma',])"
   ]
  },
  {
   "cell_type": "code",
   "execution_count": 18,
   "id": "cdd5b012",
   "metadata": {
    "ExecuteTime": {
     "end_time": "2021-12-03T03:31:39.819998Z",
     "start_time": "2021-12-03T03:31:39.766410Z"
    }
   },
   "outputs": [],
   "source": [
    "conv_results_df = conv_fit.to_frame()"
   ]
  },
  {
   "cell_type": "code",
   "execution_count": 19,
   "id": "5e993dd7",
   "metadata": {
    "ExecuteTime": {
     "end_time": "2021-12-03T03:31:39.828454Z",
     "start_time": "2021-12-03T03:31:39.821737Z"
    }
   },
   "outputs": [
    {
     "data": {
      "text/plain": [
       "parameters\n",
       "slope        0\n",
       "intercept    0\n",
       "sigma        0\n",
       "dtype: int64"
      ]
     },
     "execution_count": 19,
     "metadata": {},
     "output_type": "execute_result"
    }
   ],
   "source": [
    "# check there are no nans \n",
    "key_factors = ['slope', 'intercept', 'sigma']\n",
    "conv_results_df[key_factors].isna().sum()"
   ]
  },
  {
   "cell_type": "code",
   "execution_count": 20,
   "id": "cee87bc7",
   "metadata": {
    "ExecuteTime": {
     "end_time": "2021-12-03T03:31:39.851977Z",
     "start_time": "2021-12-03T03:31:39.829756Z"
    }
   },
   "outputs": [
    {
     "data": {
      "text/plain": [
       "parameters\n",
       "slope        3.204033\n",
       "intercept    0.026610\n",
       "sigma        0.046472\n",
       "Name: 0, dtype: float64"
      ]
     },
     "execution_count": 20,
     "metadata": {},
     "output_type": "execute_result"
    }
   ],
   "source": [
    "key_results = conv_results_df[key_factors].mode().T[0] # note: sigma is skewed\n",
    "key_results"
   ]
  },
  {
   "cell_type": "code",
   "execution_count": 21,
   "id": "584811a1",
   "metadata": {
    "ExecuteTime": {
     "end_time": "2021-12-03T03:31:39.861908Z",
     "start_time": "2021-12-03T03:31:39.853412Z"
    }
   },
   "outputs": [
    {
     "data": {
      "text/plain": [
       "parameters\n",
       "slope        3.360653\n",
       "intercept    0.035437\n",
       "sigma        0.062810\n",
       "dtype: float64"
      ]
     },
     "execution_count": 21,
     "metadata": {},
     "output_type": "execute_result"
    }
   ],
   "source": [
    "# just out of curiosity ...\n",
    "key_results = conv_results_df[key_factors].median() \n",
    "key_results"
   ]
  },
  {
   "cell_type": "code",
   "execution_count": 22,
   "id": "ad301089",
   "metadata": {
    "ExecuteTime": {
     "end_time": "2021-12-03T03:31:39.866744Z",
     "start_time": "2021-12-03T03:31:39.863224Z"
    }
   },
   "outputs": [
    {
     "data": {
      "text/plain": [
       "'y = 3.36065x + 0.03544;  σ=0.06281'"
      ]
     },
     "execution_count": 22,
     "metadata": {},
     "output_type": "execute_result"
    }
   ],
   "source": [
    "conv_slope, conv_intercept, conv_sigma = key_results.to_list()\n",
    "equation = f'y = {conv_slope:.5f}x + {conv_intercept:.5f};  σ={conv_sigma:.5f}' \n",
    "equation"
   ]
  },
  {
   "cell_type": "code",
   "execution_count": 23,
   "id": "68ddd8fd",
   "metadata": {
    "ExecuteTime": {
     "end_time": "2021-12-03T03:31:39.874903Z",
     "start_time": "2021-12-03T03:31:39.868110Z"
    }
   },
   "outputs": [
    {
     "data": {
      "text/html": [
       "<div>\n",
       "<style scoped>\n",
       "    .dataframe tbody tr th:only-of-type {\n",
       "        vertical-align: middle;\n",
       "    }\n",
       "\n",
       "    .dataframe tbody tr th {\n",
       "        vertical-align: top;\n",
       "    }\n",
       "\n",
       "    .dataframe thead th {\n",
       "        text-align: right;\n",
       "    }\n",
       "</style>\n",
       "<table border=\"1\" class=\"dataframe\">\n",
       "  <thead>\n",
       "    <tr style=\"text-align: right;\">\n",
       "      <th></th>\n",
       "      <th>low</th>\n",
       "      <th>high</th>\n",
       "    </tr>\n",
       "  </thead>\n",
       "  <tbody>\n",
       "    <tr>\n",
       "      <th>99%</th>\n",
       "      <td>0.005</td>\n",
       "      <td>0.995</td>\n",
       "    </tr>\n",
       "    <tr>\n",
       "      <th>95%</th>\n",
       "      <td>0.025</td>\n",
       "      <td>0.975</td>\n",
       "    </tr>\n",
       "    <tr>\n",
       "      <th>80%</th>\n",
       "      <td>0.100</td>\n",
       "      <td>0.900</td>\n",
       "    </tr>\n",
       "    <tr>\n",
       "      <th>50%</th>\n",
       "      <td>0.250</td>\n",
       "      <td>0.750</td>\n",
       "    </tr>\n",
       "  </tbody>\n",
       "</table>\n",
       "</div>"
      ],
      "text/plain": [
       "       low   high\n",
       "99%  0.005  0.995\n",
       "95%  0.025  0.975\n",
       "80%  0.100  0.900\n",
       "50%  0.250  0.750"
      ]
     },
     "execution_count": 23,
     "metadata": {},
     "output_type": "execute_result"
    }
   ],
   "source": [
    "quants = [0.005, 0.025, 0.100, 0.250, 0.500, 0.750, 0.900, 0.975, 0.995]\n",
    "LOW, HIGH = 'low', 'high'\n",
    "ranges = pd.DataFrame({\n",
    "    '99%': (0.005, 0.995),\n",
    "    '95%': (0.025, 0.975),\n",
    "    '80%': (0.100, 0.900),\n",
    "    '50%': (0.250, 0.750),\n",
    "}, index=[LOW, HIGH]).T\n",
    "ranges"
   ]
  },
  {
   "cell_type": "code",
   "execution_count": 24,
   "id": "266afb60",
   "metadata": {
    "ExecuteTime": {
     "end_time": "2021-12-03T03:31:39.925945Z",
     "start_time": "2021-12-03T03:31:39.876366Z"
    }
   },
   "outputs": [],
   "source": [
    "def get_estimates_quants(pattern):\n",
    "\n",
    "    # Get seat estimate quantiles\n",
    "    seat_estimate = (\n",
    "        conv_results_df[conv_results_df.columns[\n",
    "            conv_results_df.columns.str.contains(pattern)\n",
    "        ]]\n",
    "    )\n",
    "    seat_estimate.columns = seat_history.index\n",
    "    seat_estimate = seat_estimate.quantile(quants).T\n",
    "\n",
    "    # link to votes\n",
    "    seat_estimate['2pp votes'] = seat_history['Govt 2pp votes margin']\n",
    "    seat_estimate = seat_estimate.sort_values('2pp votes')\n",
    "    \n",
    "    return seat_estimate\n",
    "        \n",
    "estimates = get_estimates_quants('seats_estimate')"
   ]
  },
  {
   "cell_type": "code",
   "execution_count": 25,
   "id": "228a1522",
   "metadata": {
    "ExecuteTime": {
     "end_time": "2021-12-03T03:31:40.392501Z",
     "start_time": "2021-12-03T03:31:39.927732Z"
    }
   },
   "outputs": [
    {
     "data": {
      "image/png": "[encoded data removed]",
      "text/plain": [
       "<Figure size 648x324 with 1 Axes>"
      ]
     },
     "metadata": {},
     "output_type": "display_data"
    }
   ],
   "source": [
    "def plot_est_quants(estimates, title, **kwargs):\n",
    "    # plot this relationship\n",
    "    fig, ax = common.initiate_plot()\n",
    "    alpha = 0.1\n",
    "    for x, y in ranges.iterrows():\n",
    "        low = y[0]\n",
    "        high = y[1]\n",
    "        lowpoint = estimates[low]\n",
    "        highpoint = estimates[high]\n",
    "        ax.fill_between(x=estimates['2pp votes'], y1=lowpoint, y2=highpoint,\n",
    "                    color='darkgreen', alpha = alpha, label=x,)\n",
    "        alpha += 0.05\n",
    "    \n",
    "    ax.plot(estimates['2pp votes'], estimates[0.500], \n",
    "        color='darkgreen', lw=0.5, label='Median')\n",
    "\n",
    "    ax.scatter(seat_history['Govt 2pp votes margin'],\n",
    "               seat_history['Govt seats margin'],\n",
    "               label='Previous elections')\n",
    "\n",
    "    ax.axhline(0, lw=0.5, color='#555555')\n",
    "    ax.axvline(0, lw=0.5, color='#555555')\n",
    "\n",
    "    for x, y, s in zip(seat_history['Govt 2pp votes margin'],\n",
    "                       seat_history['Govt seats margin']+0.01,\n",
    "                       seat_history.index.year.astype(str)):\n",
    "        ax.text(x, y, s, fontsize='x-small', va='bottom', ha='center')\n",
    "    \n",
    "\n",
    "    ax.legend(loc='best')\n",
    "    common.plot_finalise(ax, \n",
    "                  title=title,\n",
    "                  xlabel='2pp vote margin for government (proportions)', \n",
    "                  ylabel='Major party seat margin for govt\\n(proportions)',\n",
    "                  **kwargs)\n",
    "\n",
    "plot_est_quants(estimates, \n",
    "                'Regression with CIs - 2pp vote and seat margins in the House')"
   ]
  },
  {
   "cell_type": "code",
   "execution_count": 26,
   "id": "7fddc7ac",
   "metadata": {
    "ExecuteTime": {
     "end_time": "2021-12-03T03:31:40.870759Z",
     "start_time": "2021-12-03T03:31:40.393977Z"
    }
   },
   "outputs": [
    {
     "data": {
      "image/png": "[encoded data removed]",
      "text/plain": [
       "<Figure size 648x324 with 1 Axes>"
      ]
     },
     "metadata": {},
     "output_type": "display_data"
    }
   ],
   "source": [
    "predictions = get_estimates_quants('predict_interval')\n",
    "plot_est_quants(predictions, \n",
    "                'Prediction interval - 2pp vote and seat margins in the House',\n",
    "                lfooter=equation)"
   ]
  },
  {
   "cell_type": "markdown",
   "id": "c5aac289",
   "metadata": {},
   "source": [
    "### Cross check with statsmodels"
   ]
  },
  {
   "cell_type": "code",
   "execution_count": 27,
   "id": "52428c9f",
   "metadata": {
    "ExecuteTime": {
     "end_time": "2021-12-03T03:31:40.974924Z",
     "start_time": "2021-12-03T03:31:40.872985Z"
    }
   },
   "outputs": [
    {
     "data": {
      "text/html": [
       "<table class=\"simpletable\">\n",
       "<caption>OLS Regression Results</caption>\n",
       "<tr>\n",
       "  <th>Dep. Variable:</th>            <td>y</td>        <th>  R-squared:         </th> <td>   0.873</td>\n",
       "</tr>\n",
       "<tr>\n",
       "  <th>Model:</th>                   <td>OLS</td>       <th>  Adj. R-squared:    </th> <td>   0.866</td>\n",
       "</tr>\n",
       "<tr>\n",
       "  <th>Method:</th>             <td>Least Squares</td>  <th>  F-statistic:       </th> <td>   123.3</td>\n",
       "</tr>\n",
       "<tr>\n",
       "  <th>Date:</th>             <td>Fri, 03 Dec 2021</td> <th>  Prob (F-statistic):</th> <td>1.74e-09</td>\n",
       "</tr>\n",
       "<tr>\n",
       "  <th>Time:</th>                 <td>14:31:40</td>     <th>  Log-Likelihood:    </th> <td>  26.519</td>\n",
       "</tr>\n",
       "<tr>\n",
       "  <th>No. Observations:</th>      <td>    20</td>      <th>  AIC:               </th> <td>  -49.04</td>\n",
       "</tr>\n",
       "<tr>\n",
       "  <th>Df Residuals:</th>          <td>    18</td>      <th>  BIC:               </th> <td>  -47.05</td>\n",
       "</tr>\n",
       "<tr>\n",
       "  <th>Df Model:</th>              <td>     1</td>      <th>                     </th>     <td> </td>   \n",
       "</tr>\n",
       "<tr>\n",
       "  <th>Covariance Type:</th>      <td>nonrobust</td>    <th>                     </th>     <td> </td>   \n",
       "</tr>\n",
       "</table>\n",
       "<table class=\"simpletable\">\n",
       "<tr>\n",
       "    <td></td>       <th>coef</th>     <th>std err</th>      <th>t</th>      <th>P>|t|</th>  <th>[0.025</th>    <th>0.975]</th>  \n",
       "</tr>\n",
       "<tr>\n",
       "  <th>const</th> <td>    0.0369</td> <td>    0.015</td> <td>    2.421</td> <td> 0.026</td> <td>    0.005</td> <td>    0.069</td>\n",
       "</tr>\n",
       "<tr>\n",
       "  <th>x1</th>    <td>    3.3900</td> <td>    0.305</td> <td>   11.103</td> <td> 0.000</td> <td>    2.749</td> <td>    4.031</td>\n",
       "</tr>\n",
       "</table>\n",
       "<table class=\"simpletable\">\n",
       "<tr>\n",
       "  <th>Omnibus:</th>       <td> 0.208</td> <th>  Durbin-Watson:     </th> <td>   0.958</td>\n",
       "</tr>\n",
       "<tr>\n",
       "  <th>Prob(Omnibus):</th> <td> 0.901</td> <th>  Jarque-Bera (JB):  </th> <td>   0.392</td>\n",
       "</tr>\n",
       "<tr>\n",
       "  <th>Skew:</th>          <td> 0.160</td> <th>  Prob(JB):          </th> <td>   0.822</td>\n",
       "</tr>\n",
       "<tr>\n",
       "  <th>Kurtosis:</th>      <td> 2.393</td> <th>  Cond. No.          </th> <td>    20.2</td>\n",
       "</tr>\n",
       "</table><br/><br/>Notes:<br/>[1] Standard Errors assume that the covariance matrix of the errors is correctly specified."
      ],
      "text/plain": [
       "<class 'statsmodels.iolib.summary.Summary'>\n",
       "\"\"\"\n",
       "                            OLS Regression Results                            \n",
       "==============================================================================\n",
       "Dep. Variable:                      y   R-squared:                       0.873\n",
       "Model:                            OLS   Adj. R-squared:                  0.866\n",
       "Method:                 Least Squares   F-statistic:                     123.3\n",
       "Date:                Fri, 03 Dec 2021   Prob (F-statistic):           1.74e-09\n",
       "Time:                        14:31:40   Log-Likelihood:                 26.519\n",
       "No. Observations:                  20   AIC:                            -49.04\n",
       "Df Residuals:                      18   BIC:                            -47.05\n",
       "Df Model:                           1                                         \n",
       "Covariance Type:            nonrobust                                         \n",
       "==============================================================================\n",
       "                 coef    std err          t      P>|t|      [0.025      0.975]\n",
       "------------------------------------------------------------------------------\n",
       "const          0.0369      0.015      2.421      0.026       0.005       0.069\n",
       "x1             3.3900      0.305     11.103      0.000       2.749       4.031\n",
       "==============================================================================\n",
       "Omnibus:                        0.208   Durbin-Watson:                   0.958\n",
       "Prob(Omnibus):                  0.901   Jarque-Bera (JB):                0.392\n",
       "Skew:                           0.160   Prob(JB):                        0.822\n",
       "Kurtosis:                       2.393   Cond. No.                         20.2\n",
       "==============================================================================\n",
       "\n",
       "Notes:\n",
       "[1] Standard Errors assume that the covariance matrix of the errors is correctly specified.\n",
       "\"\"\""
      ]
     },
     "execution_count": 27,
     "metadata": {},
     "output_type": "execute_result"
    }
   ],
   "source": [
    "# ordinary least squares regression model\n",
    "data = seat_history[['Govt seats margin', \n",
    "                     'Govt 2pp votes margin']].sort_values('Govt 2pp votes margin')\n",
    "y = data['Govt seats margin'].values\n",
    "x = data['Govt 2pp votes margin'].values\n",
    "x_const = sm.add_constant(x) \n",
    "fitted = sm.OLS(y, x_const).fit() \n",
    "fitted.summary()"
   ]
  },
  {
   "cell_type": "code",
   "execution_count": 28,
   "id": "1e27ee88",
   "metadata": {
    "ExecuteTime": {
     "end_time": "2021-12-03T03:31:40.981010Z",
     "start_time": "2021-12-03T03:31:40.976859Z"
    }
   },
   "outputs": [
    {
     "data": {
      "text/plain": [
       "(0.06940842230698828, 0.07100696443153251, 0.07695599456892749)"
      ]
     },
     "execution_count": 28,
     "metadata": {},
     "output_type": "execute_result"
    }
   ],
   "source": [
    "# get the prediction interval\n",
    "pred_std_error, lower_pred, upper_pred = wls_prediction_std(fitted, exog=x_const)\n",
    "pred_std_error.min(), pred_std_error.mean(), pred_std_error.max()"
   ]
  },
  {
   "cell_type": "markdown",
   "id": "6eb829e6",
   "metadata": {},
   "source": [
    "## Save results"
   ]
  },
  {
   "cell_type": "code",
   "execution_count": 29,
   "id": "28e9324a",
   "metadata": {
    "ExecuteTime": {
     "end_time": "2021-12-03T03:31:40.986888Z",
     "start_time": "2021-12-03T03:31:40.982216Z"
    }
   },
   "outputs": [],
   "source": [
    "key_results.to_csv('../historical-data/election-to-seats-outcome.csv')"
   ]
  }
 ],
 "metadata": {
  "kernelspec": {
   "display_name": "Python 3 (ipykernel)",
   "language": "python",
   "name": "python3"
  },
  "language_info": {
   "codemirror_mode": {
    "name": "ipython",
    "version": 3
   },
   "file_extension": ".py",
   "mimetype": "text/x-python",
   "name": "python",
   "nbconvert_exporter": "python",
   "pygments_lexer": "ipython3",
   "version": "3.9.7"
  },
  "toc": {
   "base_numbering": 1,
   "nav_menu": {},
   "number_sections": true,
   "sideBar": true,
   "skip_h1_title": true,
   "title_cell": "Table of Contents",
   "title_sidebar": "Contents",
   "toc_cell": true,
   "toc_position": {
    "height": "calc(100% - 180px)",
    "left": "10px",
    "top": "150px",
    "width": "236.10714721679688px"
   },
   "toc_section_display": true,
   "toc_window_display": true
  },
  "varInspector": {
   "cols": {
    "lenName": 16,
    "lenType": 16,
    "lenVar": 40
   },
   "kernels_config": {
    "python": {
     "delete_cmd_postfix": "",
     "delete_cmd_prefix": "del ",
     "library": "var_list.py",
     "varRefreshCmd": "print(var_dic_list())"
    },
    "r": {
     "delete_cmd_postfix": ") ",
     "delete_cmd_prefix": "rm(",
     "library": "var_list.r",
     "varRefreshCmd": "cat(var_dic_list()) "
    }
   },
   "types_to_exclude": [
    "module",
    "function",
    "builtin_function_or_method",
    "instance",
    "_Feature"
   ],
   "window_display": false
  }
 },
 "nbformat": 4,
 "nbformat_minor": 5
}
