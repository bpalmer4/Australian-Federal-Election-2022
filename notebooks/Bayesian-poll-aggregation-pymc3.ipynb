{
 "cells": [
  {
   "cell_type": "markdown",
   "id": "2bb64488",
   "metadata": {},
   "source": [
    "# Simple state space model for voting intention (using pymc3)"
   ]
  },
  {
   "cell_type": "markdown",
   "id": "90b76ffb",
   "metadata": {
    "toc": true
   },
   "source": [
    "<h1>Table of Contents<span class=\"tocSkip\"></span></h1>\n",
    "<div class=\"toc\"><ul class=\"toc-item\"><li><span><a href=\"#Python-setup\" data-toc-modified-id=\"Python-setup-1\"><span class=\"toc-item-num\">1&nbsp;&nbsp;</span>Python setup</a></span></li><li><span><a href=\"#Load-data\" data-toc-modified-id=\"Load-data-2\"><span class=\"toc-item-num\">2&nbsp;&nbsp;</span>Load data</a></span></li><li><span><a href=\"#A-Bayesian-poll-aggregation-model-(pooling-polls)\" data-toc-modified-id=\"A-Bayesian-poll-aggregation-model-(pooling-polls)-3\"><span class=\"toc-item-num\">3&nbsp;&nbsp;</span>A Bayesian poll aggregation model (pooling polls)</a></span><ul class=\"toc-item\"><li><span><a href=\"#Supporting-functions\" data-toc-modified-id=\"Supporting-functions-3.1\"><span class=\"toc-item-num\">3.1&nbsp;&nbsp;</span>Supporting functions</a></span></li><li><span><a href=\"#Analysis-frame\" data-toc-modified-id=\"Analysis-frame-3.2\"><span class=\"toc-item-num\">3.2&nbsp;&nbsp;</span>Analysis frame</a></span></li><li><span><a href=\"#And-do-it-...\" data-toc-modified-id=\"And-do-it-...-3.3\"><span class=\"toc-item-num\">3.3&nbsp;&nbsp;</span>And do it ...</a></span></li></ul></li><li><span><a href=\"#Exploratory\" data-toc-modified-id=\"Exploratory-4\"><span class=\"toc-item-num\">4&nbsp;&nbsp;</span>Exploratory</a></span></li><li><span><a href=\"#Other\" data-toc-modified-id=\"Other-5\"><span class=\"toc-item-num\">5&nbsp;&nbsp;</span>Other</a></span></li></ul></div>"
   ]
  },
  {
   "cell_type": "markdown",
   "id": "1c6f7a2c",
   "metadata": {},
   "source": [
    "## Python setup"
   ]
  },
  {
   "cell_type": "code",
   "execution_count": 1,
   "id": "4b90d24a",
   "metadata": {
    "ExecuteTime": {
     "end_time": "2022-03-13T22:25:13.328981Z",
     "start_time": "2022-03-13T22:24:53.839884Z"
    },
    "scrolled": false
   },
   "outputs": [],
   "source": [
    "# data science imports\n",
    "import numpy as np\n",
    "import pandas as pd\n",
    "import matplotlib.pyplot as plt\n",
    "import matplotlib.ticker as mtick\n",
    "\n",
    "# pymc probabilistic programming\n",
    "import arviz as az\n",
    "import pymc as pm\n",
    "\n",
    "# system imports\n",
    "from pathlib import Path\n",
    "from io import StringIO\n",
    "\n",
    "# local imports\n",
    "import common"
   ]
  },
  {
   "cell_type": "code",
   "execution_count": 2,
   "id": "32b32f01",
   "metadata": {
    "ExecuteTime": {
     "end_time": "2022-03-13T22:25:13.360093Z",
     "start_time": "2022-03-13T22:25:13.330398Z"
    }
   },
   "outputs": [
    {
     "name": "stdout",
     "output_type": "stream",
     "text": [
      "Last updated: Tue Apr 19 2022 13:19:16\n",
      "\n",
      "Python implementation: CPython\n",
      "Python version       : 3.9.12\n",
      "IPython version      : 8.2.0\n",
      "\n",
      "pandas    : 1.4.2\n",
      "matplotlib: 3.5.1\n",
      "arviz     : 0.12.0\n",
      "numpy     : 1.22.1\n",
      "pymc      : 4.0.0b5\n",
      "\n",
      "Watermark: 2.3.0\n",
      "\n"
     ]
    }
   ],
   "source": [
    "%load_ext watermark\n",
    "%watermark -u -n -t -v -iv -w"
   ]
  },
  {
   "cell_type": "code",
   "execution_count": 3,
   "id": "d9eea7b4",
   "metadata": {
    "ExecuteTime": {
     "end_time": "2022-03-13T22:25:13.363291Z",
     "start_time": "2022-03-13T22:25:13.361113Z"
    }
   },
   "outputs": [],
   "source": [
    "# pymc3 set-up\n",
    "az.style.use(\"arviz-darkgrid\")"
   ]
  },
  {
   "cell_type": "code",
   "execution_count": 4,
   "id": "bac55c6c",
   "metadata": {
    "ExecuteTime": {
     "end_time": "2022-03-13T22:25:13.367884Z",
     "start_time": "2022-03-13T22:25:13.365083Z"
    }
   },
   "outputs": [],
   "source": [
    "# plotting stuff\n",
    "plt.style.use('./markgraph.mplstyle')"
   ]
  },
  {
   "cell_type": "code",
   "execution_count": 5,
   "id": "624eed41",
   "metadata": {
    "ExecuteTime": {
     "end_time": "2022-03-13T22:25:13.370811Z",
     "start_time": "2022-03-13T22:25:13.368858Z"
    }
   },
   "outputs": [],
   "source": [
    "# path to the model data \n",
    "DATA_DIR = '../data/'\n",
    "Path(DATA_DIR).mkdir(parents=True, exist_ok=True)"
   ]
  },
  {
   "cell_type": "code",
   "execution_count": 6,
   "id": "913e2d5b",
   "metadata": {
    "ExecuteTime": {
     "end_time": "2022-03-13T22:25:13.374143Z",
     "start_time": "2022-03-13T22:25:13.371844Z"
    }
   },
   "outputs": [],
   "source": [
    "CHART_DIR = '../charts/'\n",
    "Path(CHART_DIR).mkdir(parents=True, exist_ok=True)"
   ]
  },
  {
   "cell_type": "markdown",
   "id": "a8d32fc6",
   "metadata": {},
   "source": [
    "## Load data"
   ]
  },
  {
   "cell_type": "code",
   "execution_count": 7,
   "id": "87b93474",
   "metadata": {
    "ExecuteTime": {
     "end_time": "2022-03-13T22:25:13.377502Z",
     "start_time": "2022-03-13T22:25:13.375369Z"
    }
   },
   "outputs": [],
   "source": [
    "# Analysis based on this data ...\n",
    "data_file = f'{DATA_DIR}primary_vote.csv' # f'{DATA_DIR}two_party_preferred.csv'\n",
    "\n",
    "# Minimum polls requirement for a pollster\n",
    "MIMIMUM_POLLS_FROM_POLLSTER = 2\n",
    "# The one ANU poll since 2019 look like a rogue outlier, so let's exclude it\n",
    "\n",
    "# Plot left-side footnotes\n",
    "LFOOTER = (\n",
    "    'Polling data from Wikipedia; '\n",
    "    f'Pollsters ignored with < {MIMIMUM_POLLS_FROM_POLLSTER} polls'\n",
    ")"
   ]
  },
  {
   "cell_type": "code",
   "execution_count": 8,
   "id": "64d0c6bf",
   "metadata": {
    "ExecuteTime": {
     "end_time": "2022-03-13T22:25:13.380282Z",
     "start_time": "2022-03-13T22:25:13.378504Z"
    }
   },
   "outputs": [],
   "source": [
    "# Check the data file has been updated today\n",
    "common.check_file_current(data_file, \n",
    "    'Make sure you run the data capture notebook first')"
   ]
  },
  {
   "cell_type": "code",
   "execution_count": 9,
   "id": "cc38cc2e",
   "metadata": {
    "ExecuteTime": {
     "end_time": "2022-03-13T22:25:13.399319Z",
     "start_time": "2022-03-13T22:25:13.381797Z"
    }
   },
   "outputs": [
    {
     "data": {
      "text/plain": [
       "Index(['Primary vote L/NP', 'Primary vote ALP', 'Primary vote GRN',\n",
       "       'Primary vote ONP', 'Primary vote UAP', 'Primary vote OTH', 'Date',\n",
       "       'Mean Date', 'Brand', 'Interview mode', 'Sample size',\n",
       "       'Calculated 2pp L/NP', 'Calculated 2pp ALP'],\n",
       "      dtype='object')"
      ]
     },
     "execution_count": 9,
     "metadata": {},
     "output_type": "execute_result"
    }
   ],
   "source": [
    "# read in 2pp data; remind me, what are the column names ...\n",
    "tpp = pd.read_csv(data_file, parse_dates=['Mean Date'], index_col=0)\n",
    "tpp['Mean Date'] = pd.to_datetime(tpp['Mean Date'])\n",
    "tpp = tpp.sort_values('Mean Date')\n",
    "tpp.columns"
   ]
  },
  {
   "cell_type": "code",
   "execution_count": 10,
   "id": "1c87f72d",
   "metadata": {
    "ExecuteTime": {
     "end_time": "2022-03-13T22:25:13.407591Z",
     "start_time": "2022-03-13T22:25:13.401937Z"
    }
   },
   "outputs": [],
   "source": [
    "# Combine the other primary vote in the main dataframe\n",
    "OTHER = 'Other Combined Primary'\n",
    "tpp[OTHER] = tpp[['Primary vote ONP', 'Primary vote UAP', 'Primary vote OTH']].fillna(0).sum(axis=1)"
   ]
  },
  {
   "cell_type": "code",
   "execution_count": 11,
   "id": "7602afb1",
   "metadata": {
    "ExecuteTime": {
     "end_time": "2022-03-13T22:25:13.412106Z",
     "start_time": "2022-03-13T22:25:13.409068Z"
    }
   },
   "outputs": [
    {
     "data": {
      "text/plain": [
       "140"
      ]
     },
     "execution_count": 11,
     "metadata": {},
     "output_type": "execute_result"
    }
   ],
   "source": [
    "# Number of polls\n",
    "len(tpp)"
   ]
  },
  {
   "cell_type": "code",
   "execution_count": 12,
   "id": "44fad8b5",
   "metadata": {
    "ExecuteTime": {
     "end_time": "2022-03-13T22:25:13.417437Z",
     "start_time": "2022-03-13T22:25:13.413167Z"
    }
   },
   "outputs": [
    {
     "data": {
      "text/plain": [
       "Essential            48\n",
       "Newspoll-YouGov      47\n",
       "Roy Morgan           31\n",
       "Resolve Strategic    12\n",
       "ANU                   1\n",
       "Ipsos                 1\n",
       "Name: Brand, dtype: int64"
      ]
     },
     "execution_count": 12,
     "metadata": {},
     "output_type": "execute_result"
    }
   ],
   "source": [
    "# Number of polls from each pollster\n",
    "brand_counts = tpp['Brand'].value_counts()\n",
    "brand_counts"
   ]
  },
  {
   "cell_type": "code",
   "execution_count": 13,
   "id": "6714626e",
   "metadata": {
    "ExecuteTime": {
     "end_time": "2022-03-13T22:25:13.423214Z",
     "start_time": "2022-03-13T22:25:13.418600Z"
    }
   },
   "outputs": [
    {
     "data": {
      "text/plain": [
       "Essential            48\n",
       "Newspoll-YouGov      47\n",
       "Roy Morgan           31\n",
       "Resolve Strategic    12\n",
       "Name: Brand, dtype: int64"
      ]
     },
     "execution_count": 13,
     "metadata": {},
     "output_type": "execute_result"
    }
   ],
   "source": [
    "# Remove pollsters with minimal polling history\n",
    "keep = brand_counts[brand_counts >= MIMIMUM_POLLS_FROM_POLLSTER].index\n",
    "tpp = tpp[tpp['Brand'].isin(keep)]\n",
    "tpp['Brand'].value_counts()"
   ]
  },
  {
   "cell_type": "code",
   "execution_count": 14,
   "id": "66a87c75",
   "metadata": {
    "ExecuteTime": {
     "end_time": "2022-03-13T22:25:13.427554Z",
     "start_time": "2022-03-13T22:25:13.424308Z"
    }
   },
   "outputs": [
    {
     "data": {
      "text/plain": [
       "138"
      ]
     },
     "execution_count": 14,
     "metadata": {},
     "output_type": "execute_result"
    }
   ],
   "source": [
    "len(tpp)"
   ]
  },
  {
   "cell_type": "markdown",
   "id": "809d832a",
   "metadata": {},
   "source": [
    "## A Bayesian poll aggregation model (pooling polls)"
   ]
  },
  {
   "cell_type": "markdown",
   "id": "a2e82a08",
   "metadata": {},
   "source": [
    "### Supporting functions"
   ]
  },
  {
   "cell_type": "code",
   "execution_count": 15,
   "id": "d3f008d5",
   "metadata": {
    "ExecuteTime": {
     "end_time": "2022-03-13T22:25:13.434358Z",
     "start_time": "2022-03-13T22:25:13.428697Z"
    }
   },
   "outputs": [],
   "source": [
    "def prepare_data_for_analysis(df, column):\n",
    "    \n",
    "    # make sure data is in date order\n",
    "    assert df['Mean Date'].is_monotonic_increasing, 'Data must be in ascending date order'\n",
    "\n",
    "    # get our zero centered observations\n",
    "    y = df[column]\n",
    "    centre_offset = -y.mean()\n",
    "    zero_centered_y = y + centre_offset\n",
    "    n_polls = len(zero_centered_y),\n",
    "    \n",
    "    # get our day-date mapping\n",
    "    day_zero = df['Mean Date'].min()\n",
    "    n_days = int((df['Mean Date'].max() - day_zero) / pd.Timedelta(days=1)) + 1\n",
    "    poll_day = ((df['Mean Date'] - day_zero) / pd.Timedelta(days=1)).astype(int)\n",
    "    \n",
    "    # get our poll-branding information\n",
    "    poll_brand = df.Brand.astype('category').cat.codes\n",
    "    n_brands = len(poll_brand.unique())\n",
    "    brand_map = {code: brand for brand, code in zip(df.Brand, poll_brand)}\n",
    "\n",
    "    # measurement error \n",
    "    assumed_sample_size = 1000\n",
    "    measurement_error_sd = np.sqrt((50 * 50) / assumed_sample_size)\n",
    "\n",
    "    return (zero_centered_y, centre_offset, n_polls, n_days, day_zero, \n",
    "            poll_day, poll_brand, brand_map, n_brands, measurement_error_sd)"
   ]
  },
  {
   "cell_type": "code",
   "execution_count": 16,
   "id": "e7715d8b",
   "metadata": {
    "ExecuteTime": {
     "end_time": "2022-03-13T22:25:13.439501Z",
     "start_time": "2022-03-13T22:25:13.435707Z"
    }
   },
   "outputs": [],
   "source": [
    "def define_model(n_brands, n_days, poll_brand, \n",
    "                 zero_centered_y, \n",
    "                 measurement_error_sd):\n",
    "    \"\"\"PyMC3 model for pooling/aggregating voter opinion polls\"\"\"\n",
    "    \n",
    "    model = pm.Model()\n",
    "    with  model:\n",
    "        # priors \n",
    "        unanchored_house_bias = pm.Cauchy(\"unanchored_house_bias\", \n",
    "                                          alpha=0, beta=10, shape=n_brands)\n",
    "        zero_sum_house_bias = pm.Deterministic('zero_sum_house_bias', \n",
    "            var=(unanchored_house_bias - unanchored_house_bias.mean()))\n",
    "        \n",
    "        # temporal model\n",
    "        EARLY_DATA_ITEMS = 5 \n",
    "        educated_guess = zero_centered_y[:min(EARLY_DATA_ITEMS, len(zero_centered_y))].mean()\n",
    "        SPAN = 2.0\n",
    "        starting_distro = pm.Normal('starting_distro', mu=educated_guess, sigma=SPAN) \n",
    "        DRIFT = 0.0\n",
    "        innovation = 0.15 # from experience ... day-to-day change distribution sigma\n",
    "        grw = pm.GaussianRandomWalk('grw', mu=DRIFT, sigma=innovation, \n",
    "                                    init=starting_distro, steps=n_days) ### FAILS HERE\n",
    "    \n",
    "        # the observational model\n",
    "        observed = pm.Normal(\"observed\", \n",
    "                             mu=grw[poll_day] \n",
    "                                + zero_sum_house_bias[poll_brand.to_list()],\n",
    "                             sigma=measurement_error_sd, observed=zero_centered_y)\n",
    "    return model"
   ]
  },
  {
   "cell_type": "code",
   "execution_count": 17,
   "id": "18450fcf",
   "metadata": {
    "ExecuteTime": {
     "end_time": "2022-03-13T22:25:13.443510Z",
     "start_time": "2022-03-13T22:25:13.440953Z"
    }
   },
   "outputs": [],
   "source": [
    "def draw_samples(model):\n",
    "    with model:\n",
    "        trace = pm.sample(1000, tune=1000, progressbar=True, \n",
    "                          return_inferencedata=True)\n",
    "        summary = az.summary(trace) # used below\n",
    "        az.plot_trace(trace)      \n",
    "        \n",
    "    return trace, summary"
   ]
  },
  {
   "cell_type": "code",
   "execution_count": 18,
   "id": "c310aab3",
   "metadata": {
    "ExecuteTime": {
     "end_time": "2022-03-13T22:25:13.449096Z",
     "start_time": "2022-03-13T22:25:13.444581Z"
    }
   },
   "outputs": [],
   "source": [
    "def get_var_as_frame(inferencedata, variable_name):\n",
    "    \"\"\"Return a dataframe - column(s) are variables - rows are draws\"\"\"\n",
    "    return pd.DataFrame(\n",
    "        inferencedata\n",
    "        .posterior\n",
    "        .stack(draws=(\"chain\", \"draw\"))[variable_name]\n",
    "        .values\n",
    "        .T\n",
    "    )\n",
    "\n",
    "\n",
    "def quants_and_mean(frame, quants):\n",
    "    \"\"\"Return a DataFrame - columns are quants and mean - rows are variable\"\"\"\n",
    "    results = frame.quantile(quants).T\n",
    "    results['mean'] = frame.mean()\n",
    "    return results\n",
    "\n",
    "\n",
    "def get_quant_iterator(quants):\n",
    "    \"\"\"get iterator for paired quantiles, with matching labels\"\"\"\n",
    "    length = len(quants)\n",
    "    assert length > 0, 'Quantile list should not be empty'\n",
    "    assert (length % 2 == 0), 'Quantile list must have an even number of members'\n",
    "    assert pd.Series(quants).is_monotonic_increasing, 'Qantiles must be ascending ordered'\n",
    "    middle = int(length / 2)\n",
    "    start = quants[:middle]\n",
    "    stop = quants[-1:(middle-1):-1]\n",
    "    label = (\n",
    "        ((pd.Series(stop) - pd.Series(start)) * 100)\n",
    "        .round(0)\n",
    "        .astype(int)\n",
    "        .astype(str)\n",
    "        + '% HDI'\n",
    "    ).to_list()\n",
    "    return zip(start, stop, label)"
   ]
  },
  {
   "cell_type": "code",
   "execution_count": 19,
   "id": "cadaa3d0",
   "metadata": {
    "ExecuteTime": {
     "end_time": "2022-03-13T22:25:13.455981Z",
     "start_time": "2022-03-13T22:25:13.450266Z"
    }
   },
   "outputs": [],
   "source": [
    "QUANTS = (0.025, 0.1, 0.25, 0.75, 0.9, 0.975)\n",
    "def plot_aggregation(trace, df, column, day_zero, n_days, centre_offset, \n",
    "                     point_color, line_color, title):\n",
    "    \n",
    "    # get the data\n",
    "    grw = get_var_as_frame(trace, 'grw') - centre_offset\n",
    "    grw.columns = pd.date_range(start=day_zero, periods=n_days)\n",
    "    grw_summary = quants_and_mean(grw, QUANTS)\n",
    "    \n",
    "    # plot\n",
    "    fig, axes = common.initiate_plot()\n",
    "    axes.plot(grw_summary.index, grw_summary['mean'], \n",
    "            lw=2.0, c=line_color, \n",
    "            label='Mean Estimated Voting Intention')\n",
    "    alpha = 0.1\n",
    "    for start, stop, label in get_quant_iterator(QUANTS):\n",
    "        axes.fill_between(x=grw_summary.index, y1=grw_summary[start], \n",
    "                        y2=grw_summary[stop], color=line_color, \n",
    "                        alpha=alpha, label=label)\n",
    "        alpha += 0.1\n",
    "    common.annotate_endpoint(axes, grw_summary['mean'])\n",
    "\n",
    "    common.add_data_points_by_pollster(ax=axes, df=df, column=column,\n",
    "                                      p_color=point_color, )\n",
    "    common.add_h_refence(axes, 50)\n",
    "    axes.yaxis.set_major_formatter(mtick.PercentFormatter())\n",
    "    \n",
    "    lfooter = LFOOTER\n",
    "    if '2pp' in title:\n",
    "        lfooter += '; 2pp calculated from primary votes and 2019 preference flows'\n",
    "    axes.legend(loc='best', ncol=2)\n",
    "    full_title = f'Gaussian Random Walk - {title} Voting Intention'\n",
    "    common.plot_finalise(axes,\n",
    "                         title=full_title,\n",
    "                         lfooter=lfooter)"
   ]
  },
  {
   "cell_type": "code",
   "execution_count": 20,
   "id": "f695aa8b",
   "metadata": {
    "ExecuteTime": {
     "end_time": "2022-03-13T22:25:13.462210Z",
     "start_time": "2022-03-13T22:25:13.457209Z"
    }
   },
   "outputs": [],
   "source": [
    "def plot_house_effects(trace, brand_mapping, title, point_color, line_color):\n",
    "    \n",
    "    # get the relevant data\n",
    "    zshb = get_var_as_frame(trace, 'zero_sum_house_bias')\n",
    "    print(zshb.columns)\n",
    "    zshb.columns =  zshb.columns.map(brand_mapping)\n",
    "    zshb_summary = quants_and_mean(zshb, QUANTS)\n",
    "\n",
    "    # and plot it\n",
    "    fig, ax = common.initiate_plot()\n",
    "    alpha = 0.1\n",
    "    for start, stop, label in get_quant_iterator(QUANTS):\n",
    "        ax.barh(zshb_summary.index, \n",
    "                width=zshb_summary[stop]-zshb_summary[start], \n",
    "                left=zshb_summary[start], \n",
    "                color=line_color, alpha=alpha, label=label)\n",
    "        alpha += 0.1\n",
    "    ax.scatter(zshb_summary['mean'], zshb_summary.index, \n",
    "               s=50, marker='o', color=point_color, label='Mean estimate')\n",
    "    xlabel = f'Relative percentage point bias to {title.split()[0]}'\n",
    "    full_title = f'Zero Sum Pollster Effects - {title}'\n",
    "    ax.legend(loc='best')\n",
    "    common.plot_finalise(ax,\n",
    "                         title=full_title,\n",
    "                         xlabel=xlabel,\n",
    "                         lfooter=LFOOTER)"
   ]
  },
  {
   "cell_type": "markdown",
   "id": "015ccdd9",
   "metadata": {},
   "source": [
    "### Analysis frame"
   ]
  },
  {
   "cell_type": "code",
   "execution_count": 21,
   "id": "1f3d3a92",
   "metadata": {
    "ExecuteTime": {
     "end_time": "2022-03-13T22:25:13.475027Z",
     "start_time": "2022-03-13T22:25:13.464572Z"
    }
   },
   "outputs": [
    {
     "data": {
      "text/html": [
       "<div>\n",
       "<style scoped>\n",
       "    .dataframe tbody tr th:only-of-type {\n",
       "        vertical-align: middle;\n",
       "    }\n",
       "\n",
       "    .dataframe tbody tr th {\n",
       "        vertical-align: top;\n",
       "    }\n",
       "\n",
       "    .dataframe thead th {\n",
       "        text-align: right;\n",
       "    }\n",
       "</style>\n",
       "<table border=\"1\" class=\"dataframe\">\n",
       "  <thead>\n",
       "    <tr style=\"text-align: right;\">\n",
       "      <th></th>\n",
       "      <th>column</th>\n",
       "      <th>title</th>\n",
       "      <th>point_color</th>\n",
       "      <th>line_color</th>\n",
       "    </tr>\n",
       "  </thead>\n",
       "  <tbody>\n",
       "    <tr>\n",
       "      <th>0</th>\n",
       "      <td>Calculated 2pp L/NP</td>\n",
       "      <td>Coalition 2pp</td>\n",
       "      <td>#0000dd</td>\n",
       "      <td>darkblue</td>\n",
       "    </tr>\n",
       "    <tr>\n",
       "      <th>1</th>\n",
       "      <td>Primary vote L/NP</td>\n",
       "      <td>Coalition Primary</td>\n",
       "      <td>#0000dd</td>\n",
       "      <td>darkblue</td>\n",
       "    </tr>\n",
       "    <tr>\n",
       "      <th>2</th>\n",
       "      <td>Primary vote ALP</td>\n",
       "      <td>Labor Primary</td>\n",
       "      <td>#dd0000</td>\n",
       "      <td>darkred</td>\n",
       "    </tr>\n",
       "    <tr>\n",
       "      <th>3</th>\n",
       "      <td>Primary vote GRN</td>\n",
       "      <td>Greens Primary</td>\n",
       "      <td>green</td>\n",
       "      <td>darkgreen</td>\n",
       "    </tr>\n",
       "    <tr>\n",
       "      <th>4</th>\n",
       "      <td>Other Combined Primary</td>\n",
       "      <td>Others Primary</td>\n",
       "      <td>orange</td>\n",
       "      <td>darkorange</td>\n",
       "    </tr>\n",
       "  </tbody>\n",
       "</table>\n",
       "</div>"
      ],
      "text/plain": [
       "                   column              title point_color  line_color\n",
       "0     Calculated 2pp L/NP      Coalition 2pp     #0000dd    darkblue\n",
       "1       Primary vote L/NP  Coalition Primary     #0000dd    darkblue\n",
       "2        Primary vote ALP      Labor Primary     #dd0000     darkred\n",
       "3        Primary vote GRN     Greens Primary       green   darkgreen\n",
       "4  Other Combined Primary     Others Primary      orange  darkorange"
      ]
     },
     "execution_count": 21,
     "metadata": {},
     "output_type": "execute_result"
    }
   ],
   "source": [
    "analytic_frame = f\"\"\"\n",
    "column, title, point_color, line_color\n",
    "Calculated 2pp L/NP, Coalition 2pp,     {common.P_COLOR_COALITION}, {common.COLOR_COALITION}\n",
    "Primary vote L/NP,   Coalition Primary, {common.P_COLOR_COALITION}, {common.COLOR_COALITION}\n",
    "Primary vote ALP,    Labor Primary,     {common.P_COLOR_LABOR},     {common.COLOR_LABOR}\n",
    "Primary vote GRN,    Greens Primary,    {common.P_COLOR_GREEN},     {common.COLOR_GREEN}\n",
    "{OTHER},             Others Primary,    {common.P_COLOR_OTHER},     {common.COLOR_OTHER}\n",
    "\n",
    "\"\"\"\n",
    "\n",
    "analytic_frame = pd.read_csv(StringIO(analytic_frame), skipinitialspace=True)\n",
    "analytic_frame"
   ]
  },
  {
   "cell_type": "markdown",
   "id": "7c1a1d16",
   "metadata": {},
   "source": [
    "### And do it ..."
   ]
  },
  {
   "cell_type": "code",
   "execution_count": 22,
   "id": "04a61d94",
   "metadata": {
    "ExecuteTime": {
     "end_time": "2022-03-13T22:41:48.062220Z",
     "start_time": "2022-03-13T22:25:13.476155Z"
    },
    "scrolled": false
   },
   "outputs": [
    {
     "name": "stdout",
     "output_type": "stream",
     "text": [
      "Coalition 2pp\n"
     ]
    },
    {
     "ename": "TypeError",
     "evalue": "dist() missing 1 required positional argument: 'dist_params'",
     "output_type": "error",
     "traceback": [
      "\u001b[0;31m---------------------------------------------------------------------------\u001b[0m",
      "\u001b[0;31mTypeError\u001b[0m                                 Traceback (most recent call last)",
      "Input \u001b[0;32mIn [22]\u001b[0m, in \u001b[0;36m<cell line: 1>\u001b[0;34m()\u001b[0m\n\u001b[1;32m      2\u001b[0m \u001b[38;5;28mprint\u001b[39m(series[\u001b[38;5;124m'\u001b[39m\u001b[38;5;124mtitle\u001b[39m\u001b[38;5;124m'\u001b[39m])\n\u001b[1;32m      4\u001b[0m (zero_centered_y, centre_offset, n_polls, n_days, day_zero, poll_day, \n\u001b[1;32m      5\u001b[0m     poll_brand, brand_map, n_brands, measurement_error_sd) \u001b[38;5;241m=\u001b[39m (\n\u001b[1;32m      6\u001b[0m     prepare_data_for_analysis(tpp, series[\u001b[38;5;124m'\u001b[39m\u001b[38;5;124mcolumn\u001b[39m\u001b[38;5;124m'\u001b[39m]))\n\u001b[0;32m----> 8\u001b[0m model \u001b[38;5;241m=\u001b[39m \u001b[43mdefine_model\u001b[49m\u001b[43m(\u001b[49m\u001b[43mn_brands\u001b[49m\u001b[43m,\u001b[49m\u001b[43m \u001b[49m\u001b[43mn_days\u001b[49m\u001b[43m,\u001b[49m\u001b[43m \u001b[49m\u001b[43mpoll_brand\u001b[49m\u001b[43m,\u001b[49m\u001b[43m \u001b[49m\u001b[43mzero_centered_y\u001b[49m\u001b[43m,\u001b[49m\n\u001b[1;32m      9\u001b[0m \u001b[43m                     \u001b[49m\u001b[43mmeasurement_error_sd\u001b[49m\u001b[43m)\u001b[49m\n\u001b[1;32m     11\u001b[0m trace, summary \u001b[38;5;241m=\u001b[39m draw_samples(model)\n\u001b[1;32m     13\u001b[0m plot_aggregation(trace, tpp, series[\u001b[38;5;124m'\u001b[39m\u001b[38;5;124mcolumn\u001b[39m\u001b[38;5;124m'\u001b[39m], day_zero, n_days, \n\u001b[1;32m     14\u001b[0m                  centre_offset, series[\u001b[38;5;124m'\u001b[39m\u001b[38;5;124mpoint_color\u001b[39m\u001b[38;5;124m'\u001b[39m], \n\u001b[1;32m     15\u001b[0m                  series[\u001b[38;5;124m'\u001b[39m\u001b[38;5;124mline_color\u001b[39m\u001b[38;5;124m'\u001b[39m], series[\u001b[38;5;124m'\u001b[39m\u001b[38;5;124mtitle\u001b[39m\u001b[38;5;124m'\u001b[39m])\n",
      "Input \u001b[0;32mIn [16]\u001b[0m, in \u001b[0;36mdefine_model\u001b[0;34m(n_brands, n_days, poll_brand, zero_centered_y, measurement_error_sd)\u001b[0m\n\u001b[1;32m     24\u001b[0m \u001b[38;5;66;03m#starting_distro = pm.Uniform('starting_distro', lower=educated_guess-SPAN, upper=educated_guess+SPAN)\u001b[39;00m\n\u001b[1;32m     25\u001b[0m DRIFT \u001b[38;5;241m=\u001b[39m \u001b[38;5;241m0.0\u001b[39m\n\u001b[0;32m---> 26\u001b[0m grw \u001b[38;5;241m=\u001b[39m \u001b[43mpm\u001b[49m\u001b[38;5;241;43m.\u001b[39;49m\u001b[43mGaussianRandomWalk\u001b[49m\u001b[43m(\u001b[49m\u001b[38;5;124;43m'\u001b[39;49m\u001b[38;5;124;43mgrw\u001b[39;49m\u001b[38;5;124;43m'\u001b[39;49m\u001b[43m,\u001b[49m\u001b[43m \u001b[49m\u001b[43mmu\u001b[49m\u001b[38;5;241;43m=\u001b[39;49m\u001b[43mDRIFT\u001b[49m\u001b[43m,\u001b[49m\u001b[43m \u001b[49m\u001b[43msigma\u001b[49m\u001b[38;5;241;43m=\u001b[39;49m\u001b[43minnovation\u001b[49m\u001b[43m,\u001b[49m\u001b[43m \u001b[49m\n\u001b[1;32m     27\u001b[0m \u001b[43m                            \u001b[49m\u001b[43minit\u001b[49m\u001b[38;5;241;43m=\u001b[39;49m\u001b[43mstarting_distro\u001b[49m\u001b[43m,\u001b[49m\u001b[43m \u001b[49m\u001b[43msteps\u001b[49m\u001b[38;5;241;43m=\u001b[39;49m\u001b[43mn_days\u001b[49m\u001b[43m)\u001b[49m\n\u001b[1;32m     29\u001b[0m \u001b[38;5;66;03m# the observational model\u001b[39;00m\n\u001b[1;32m     30\u001b[0m observed \u001b[38;5;241m=\u001b[39m pm\u001b[38;5;241m.\u001b[39mNormal(\u001b[38;5;124m\"\u001b[39m\u001b[38;5;124mobserved\u001b[39m\u001b[38;5;124m\"\u001b[39m, \n\u001b[1;32m     31\u001b[0m                      mu\u001b[38;5;241m=\u001b[39mgrw[poll_day] \n\u001b[1;32m     32\u001b[0m                         \u001b[38;5;241m+\u001b[39m zero_sum_house_bias[poll_brand\u001b[38;5;241m.\u001b[39mto_list()],\n\u001b[1;32m     33\u001b[0m                      sigma\u001b[38;5;241m=\u001b[39mmeasurement_error_sd, observed\u001b[38;5;241m=\u001b[39mzero_centered_y)\n",
      "File \u001b[0;32m/opt/homebrew/Caskroom/miniforge/base/lib/python3.9/site-packages/pymc/distributions/distribution.py:267\u001b[0m, in \u001b[0;36mDistribution.__new__\u001b[0;34m(cls, name, rng, dims, initval, observed, total_size, transform, *args, **kwargs)\u001b[0m\n\u001b[1;32m    263\u001b[0m     rng \u001b[38;5;241m=\u001b[39m model\u001b[38;5;241m.\u001b[39mnext_rng()\n\u001b[1;32m    265\u001b[0m \u001b[38;5;66;03m# Create the RV and process dims and observed to determine\u001b[39;00m\n\u001b[1;32m    266\u001b[0m \u001b[38;5;66;03m# a shape by which the created RV may need to be resized.\u001b[39;00m\n\u001b[0;32m--> 267\u001b[0m rv_out, dims, observed, resize_shape \u001b[38;5;241m=\u001b[39m \u001b[43m_make_rv_and_resize_shape\u001b[49m\u001b[43m(\u001b[49m\n\u001b[1;32m    268\u001b[0m \u001b[43m    \u001b[49m\u001b[38;5;28;43mcls\u001b[39;49m\u001b[38;5;241;43m=\u001b[39;49m\u001b[38;5;28;43mcls\u001b[39;49m\u001b[43m,\u001b[49m\u001b[43m \u001b[49m\u001b[43mdims\u001b[49m\u001b[38;5;241;43m=\u001b[39;49m\u001b[43mdims\u001b[49m\u001b[43m,\u001b[49m\u001b[43m \u001b[49m\u001b[43mmodel\u001b[49m\u001b[38;5;241;43m=\u001b[39;49m\u001b[43mmodel\u001b[49m\u001b[43m,\u001b[49m\u001b[43m \u001b[49m\u001b[43mobserved\u001b[49m\u001b[38;5;241;43m=\u001b[39;49m\u001b[43mobserved\u001b[49m\u001b[43m,\u001b[49m\u001b[43m \u001b[49m\u001b[43margs\u001b[49m\u001b[38;5;241;43m=\u001b[39;49m\u001b[43margs\u001b[49m\u001b[43m,\u001b[49m\u001b[43m \u001b[49m\u001b[43mrng\u001b[49m\u001b[38;5;241;43m=\u001b[39;49m\u001b[43mrng\u001b[49m\u001b[43m,\u001b[49m\u001b[43m \u001b[49m\u001b[38;5;241;43m*\u001b[39;49m\u001b[38;5;241;43m*\u001b[39;49m\u001b[43mkwargs\u001b[49m\n\u001b[1;32m    269\u001b[0m \u001b[43m\u001b[49m\u001b[43m)\u001b[49m\n\u001b[1;32m    271\u001b[0m \u001b[38;5;28;01mif\u001b[39;00m resize_shape:\n\u001b[1;32m    272\u001b[0m     \u001b[38;5;66;03m# A batch size was specified through `dims`, or implied by `observed`.\u001b[39;00m\n\u001b[1;32m    273\u001b[0m     rv_out \u001b[38;5;241m=\u001b[39m change_rv_size(rv_var\u001b[38;5;241m=\u001b[39mrv_out, new_size\u001b[38;5;241m=\u001b[39mresize_shape, expand\u001b[38;5;241m=\u001b[39m\u001b[38;5;28;01mTrue\u001b[39;00m)\n",
      "File \u001b[0;32m/opt/homebrew/Caskroom/miniforge/base/lib/python3.9/site-packages/pymc/distributions/distribution.py:166\u001b[0m, in \u001b[0;36m_make_rv_and_resize_shape\u001b[0;34m(cls, dims, model, observed, args, **kwargs)\u001b[0m\n\u001b[1;32m    163\u001b[0m \u001b[38;5;124;03m\"\"\"Creates the RV and processes dims or observed to determine a resize shape.\"\"\"\u001b[39;00m\n\u001b[1;32m    164\u001b[0m \u001b[38;5;66;03m# Create the RV without dims information, because that's not something tracked at the Aesara level.\u001b[39;00m\n\u001b[1;32m    165\u001b[0m \u001b[38;5;66;03m# If necessary we'll later replicate to a different size implied by already known dims.\u001b[39;00m\n\u001b[0;32m--> 166\u001b[0m rv_out \u001b[38;5;241m=\u001b[39m \u001b[38;5;28;43mcls\u001b[39;49m\u001b[38;5;241;43m.\u001b[39;49m\u001b[43mdist\u001b[49m\u001b[43m(\u001b[49m\u001b[38;5;241;43m*\u001b[39;49m\u001b[43margs\u001b[49m\u001b[43m,\u001b[49m\u001b[43m \u001b[49m\u001b[38;5;241;43m*\u001b[39;49m\u001b[38;5;241;43m*\u001b[39;49m\u001b[43mkwargs\u001b[49m\u001b[43m)\u001b[49m\n\u001b[1;32m    167\u001b[0m ndim_actual \u001b[38;5;241m=\u001b[39m rv_out\u001b[38;5;241m.\u001b[39mndim\n\u001b[1;32m    168\u001b[0m resize_shape \u001b[38;5;241m=\u001b[39m \u001b[38;5;28;01mNone\u001b[39;00m\n",
      "\u001b[0;31mTypeError\u001b[0m: dist() missing 1 required positional argument: 'dist_params'"
     ]
    }
   ],
   "source": [
    "for index, series in analytic_frame.iterrows():\n",
    "    print(series['title'])\n",
    "    \n",
    "    (zero_centered_y, centre_offset, n_polls, n_days, day_zero, poll_day, \n",
    "        poll_brand, brand_map, n_brands, measurement_error_sd) = (\n",
    "        prepare_data_for_analysis(tpp, series['column']))\n",
    "    \n",
    "    model = define_model(n_brands, n_days, poll_brand, zero_centered_y,\n",
    "                         measurement_error_sd)\n",
    "        \n",
    "    trace, summary = draw_samples(model)\n",
    "    \n",
    "    plot_aggregation(trace, tpp, series['column'], day_zero, n_days, \n",
    "                     centre_offset, series['point_color'], \n",
    "                     series['line_color'], series['title'])\n",
    "    \n",
    "    plot_house_effects(trace, brand_map, series['title'], \n",
    "                       series['point_color'], series['line_color'])"
   ]
  },
  {
   "cell_type": "code",
   "execution_count": null,
   "id": "1ebf03fe",
   "metadata": {
    "ExecuteTime": {
     "end_time": "2022-03-13T22:41:53.269969Z",
     "start_time": "2022-03-13T22:41:48.063376Z"
    }
   },
   "outputs": [],
   "source": [
    "# I really like this feature ...\n",
    "pm.model_to_graphviz(model)"
   ]
  },
  {
   "cell_type": "markdown",
   "id": "6c82aada",
   "metadata": {},
   "source": [
    "## Exploratory"
   ]
  },
  {
   "cell_type": "code",
   "execution_count": null,
   "id": "61ff227e",
   "metadata": {
    "ExecuteTime": {
     "end_time": "2022-01-05T01:18:55.709243Z",
     "start_time": "2022-01-05T01:18:55.694143Z"
    }
   },
   "outputs": [],
   "source": []
  },
  {
   "cell_type": "code",
   "execution_count": null,
   "id": "81c43a82",
   "metadata": {
    "ExecuteTime": {
     "end_time": "2022-01-05T01:18:56.863260Z",
     "start_time": "2022-01-05T01:18:56.854586Z"
    }
   },
   "outputs": [],
   "source": []
  },
  {
   "cell_type": "code",
   "execution_count": null,
   "id": "7a02caad",
   "metadata": {
    "ExecuteTime": {
     "end_time": "2022-01-05T01:18:58.302902Z",
     "start_time": "2022-01-05T01:18:58.010627Z"
    }
   },
   "outputs": [],
   "source": [
    "\n"
   ]
  },
  {
   "cell_type": "markdown",
   "id": "e85d0cda",
   "metadata": {},
   "source": [
    "## Other"
   ]
  },
  {
   "cell_type": "code",
   "execution_count": null,
   "id": "0f8a5369",
   "metadata": {
    "ExecuteTime": {
     "end_time": "2022-03-13T22:41:53.273709Z",
     "start_time": "2022-03-13T22:41:53.271562Z"
    }
   },
   "outputs": [],
   "source": [
    "common.print_warnings()"
   ]
  }
 ],
 "metadata": {
  "kernelspec": {
   "display_name": "Python 3 (ipykernel)",
   "language": "python",
   "name": "python3"
  },
  "language_info": {
   "codemirror_mode": {
    "name": "ipython",
    "version": 3
   },
   "file_extension": ".py",
   "mimetype": "text/x-python",
   "name": "python",
   "nbconvert_exporter": "python",
   "pygments_lexer": "ipython3",
   "version": "3.9.12"
  },
  "latex_envs": {
   "LaTeX_envs_menu_present": true,
   "autoclose": false,
   "autocomplete": true,
   "bibliofile": "biblio.bib",
   "cite_by": "apalike",
   "current_citInitial": 1,
   "eqLabelWithNumbers": true,
   "eqNumInitial": 1,
   "hotkeys": {
    "equation": "Ctrl-E",
    "itemize": "Ctrl-I"
   },
   "labels_anchors": false,
   "latex_user_defs": false,
   "report_style_numbering": false,
   "user_envs_cfg": false
  },
  "toc": {
   "base_numbering": 1,
   "nav_menu": {},
   "number_sections": true,
   "sideBar": true,
   "skip_h1_title": true,
   "title_cell": "Table of Contents",
   "title_sidebar": "Contents",
   "toc_cell": true,
   "toc_position": {
    "height": "calc(100% - 180px)",
    "left": "10px",
    "top": "150px",
    "width": "236.10714721679688px"
   },
   "toc_section_display": true,
   "toc_window_display": true
  },
  "varInspector": {
   "cols": {
    "lenName": 16,
    "lenType": 16,
    "lenVar": 40
   },
   "kernels_config": {
    "python": {
     "delete_cmd_postfix": "",
     "delete_cmd_prefix": "del ",
     "library": "var_list.py",
     "varRefreshCmd": "print(var_dic_list())"
    },
    "r": {
     "delete_cmd_postfix": ") ",
     "delete_cmd_prefix": "rm(",
     "library": "var_list.r",
     "varRefreshCmd": "cat(var_dic_list()) "
    }
   },
   "types_to_exclude": [
    "module",
    "function",
    "builtin_function_or_method",
    "instance",
    "_Feature"
   ],
   "window_display": false
  }
 },
 "nbformat": 4,
 "nbformat_minor": 5
}
