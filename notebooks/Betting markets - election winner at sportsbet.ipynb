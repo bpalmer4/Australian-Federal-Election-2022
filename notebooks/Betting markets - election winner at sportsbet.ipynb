{
 "cells": [
  {
   "cell_type": "markdown",
   "id": "f6e6834d",
   "metadata": {},
   "source": [
    "# Betting markets - election winner at sportsbet\n",
    "\n",
    "Note: this notebook is for ease of testing. Convert to a python file and move to the automated directory.\n",
    "\n",
    "To do this ...\n",
    "```\n",
    "ipython nbconvert --to python \"Betting markets - election winner at sportsbet.ipynb\"\n",
    "chmod 700 \"Betting markets - election winner at sportsbet.py\"\n",
    "mv \"Betting markets - election winner at sportsbet.py\" ../automated ```"
   ]
  },
  {
   "cell_type": "markdown",
   "id": "99af8137",
   "metadata": {
    "toc": true
   },
   "source": [
    "<h1>Table of Contents<span class=\"tocSkip\"></span></h1>\n",
    "<div class=\"toc\"><ul class=\"toc-item\"><li><span><a href=\"#Python-setup\" data-toc-modified-id=\"Python-setup-1\"><span class=\"toc-item-num\">1&nbsp;&nbsp;</span>Python setup</a></span></li><li><span><a href=\"#Set-up-web-driver-options\" data-toc-modified-id=\"Set-up-web-driver-options-2\"><span class=\"toc-item-num\">2&nbsp;&nbsp;</span>Set-up web-driver options</a></span></li><li><span><a href=\"#Extract-website-text-using-Selenium\" data-toc-modified-id=\"Extract-website-text-using-Selenium-3\"><span class=\"toc-item-num\">3&nbsp;&nbsp;</span>Extract website text using Selenium</a></span></li><li><span><a href=\"#Extract-data-of-interest\" data-toc-modified-id=\"Extract-data-of-interest-4\"><span class=\"toc-item-num\">4&nbsp;&nbsp;</span>Extract data of interest</a></span></li><li><span><a href=\"#Append-this-data-to-a-CSV-file\" data-toc-modified-id=\"Append-this-data-to-a-CSV-file-5\"><span class=\"toc-item-num\">5&nbsp;&nbsp;</span>Append this data to a CSV file</a></span></li><li><span><a href=\"#Final-sanity-check\" data-toc-modified-id=\"Final-sanity-check-6\"><span class=\"toc-item-num\">6&nbsp;&nbsp;</span>Final sanity check</a></span></li></ul></div>"
   ]
  },
  {
   "cell_type": "markdown",
   "id": "e9b68c04",
   "metadata": {},
   "source": [
    "## Python setup"
   ]
  },
  {
   "cell_type": "code",
   "execution_count": 1,
   "id": "564a76be",
   "metadata": {
    "ExecuteTime": {
     "end_time": "2021-12-19T04:57:02.158196Z",
     "start_time": "2021-12-19T04:57:00.513775Z"
    }
   },
   "outputs": [],
   "source": [
    "# data science imports\n",
    "import numpy as np\n",
    "import pandas as pd\n",
    "import matplotlib.pyplot as plt\n",
    "\n",
    "# web scraping imports\n",
    "from selenium import webdriver\n",
    "from bs4 import BeautifulSoup\n",
    "\n",
    "# CSV utilities\n",
    "from csv import DictWriter\n",
    "\n",
    "# System imports\n",
    "import re\n",
    "import datetime\n",
    "from pathlib import Path"
   ]
  },
  {
   "cell_type": "markdown",
   "id": "cef501ea",
   "metadata": {
    "ExecuteTime": {
     "end_time": "2021-12-19T03:37:57.611094Z",
     "start_time": "2021-12-19T03:37:57.608964Z"
    }
   },
   "source": [
    "## Set-up web-driver options"
   ]
  },
  {
   "cell_type": "code",
   "execution_count": 2,
   "id": "14a3e18d",
   "metadata": {
    "ExecuteTime": {
     "end_time": "2021-12-19T04:57:02.162029Z",
     "start_time": "2021-12-19T04:57:02.159283Z"
    }
   },
   "outputs": [],
   "source": [
    "options = webdriver.ChromeOptions()\n",
    "options.add_argument('--ignore-certificate-errors')\n",
    "options.add_argument('--incognito')\n",
    "options.add_argument('--headless')"
   ]
  },
  {
   "cell_type": "markdown",
   "id": "989e2da1",
   "metadata": {},
   "source": [
    "## Extract website text using Selenium"
   ]
  },
  {
   "cell_type": "code",
   "execution_count": 3,
   "id": "e1d89b1b",
   "metadata": {
    "ExecuteTime": {
     "end_time": "2021-12-19T04:57:07.256927Z",
     "start_time": "2021-12-19T04:57:02.165675Z"
    }
   },
   "outputs": [],
   "source": [
    "# get the web page text\n",
    "driver = webdriver.Chrome(options=options)\n",
    "driver.implicitly_wait(220) \n",
    "url = (\n",
    "    'https://www.sportsbet.com.au/betting/politics/'\n",
    "    'australian-federal-politics/Next-Federal-Election-Type-of-Government-Formed-5758351'\n",
    ")\n",
    "driver.get(url)\n",
    "soup = BeautifulSoup(driver.page_source, 'lxml')\n",
    "driver.close()\n",
    "#print(soup.prettify())"
   ]
  },
  {
   "cell_type": "markdown",
   "id": "23288bdb",
   "metadata": {},
   "source": [
    "## Extract data of interest"
   ]
  },
  {
   "cell_type": "code",
   "execution_count": 4,
   "id": "1e04521a",
   "metadata": {
    "ExecuteTime": {
     "end_time": "2021-12-19T04:57:07.269834Z",
     "start_time": "2021-12-19T04:57:07.258781Z"
    }
   },
   "outputs": [],
   "source": [
    "# extract the data of interest\n",
    "div_name = \"content-background\" # this looks fragile\n",
    "div = soup.find(\"div\", {\"data-automation-id\": div_name})\n",
    "class_name  = \"outcomeDetails_f1t3f12\" # this looks fragile\n",
    "odds = div.find_all(\"div\", {\"class\": class_name})\n",
    "pattern = r\"([^\\d]+)([\\d\\.]+)\"\n",
    "comp_pattern = re.compile(pattern)\n",
    "found = {}\n",
    "for c in odds:\n",
    "    match = re.search(comp_pattern, c.text)\n",
    "    found[match[1]] = match[2]\n",
    "found['Date'] = datetime.datetime.now()"
   ]
  },
  {
   "cell_type": "markdown",
   "id": "8bc0964d",
   "metadata": {},
   "source": [
    "## Append this data to a CSV file"
   ]
  },
  {
   "cell_type": "code",
   "execution_count": 5,
   "id": "79bd1309",
   "metadata": {
    "ExecuteTime": {
     "end_time": "2021-12-19T04:57:07.276796Z",
     "start_time": "2021-12-19T04:57:07.271882Z"
    }
   },
   "outputs": [],
   "source": [
    "# save to file\n",
    "FILE = '../historical-data/sportsbet-2022-outcome.csv'\n",
    "column_names = sorted(found.keys())\n",
    "with open(FILE, 'a') as file:\n",
    "    dictwriter_object = DictWriter(file, fieldnames=column_names)\n",
    "    dictwriter_object.writerow(found)\n",
    "    file.close()"
   ]
  },
  {
   "cell_type": "markdown",
   "id": "823e0a14",
   "metadata": {},
   "source": [
    "## Final sanity check"
   ]
  },
  {
   "cell_type": "code",
   "execution_count": 6,
   "id": "279094b7",
   "metadata": {
    "ExecuteTime": {
     "end_time": "2021-12-19T04:57:07.282050Z",
     "start_time": "2021-12-19T04:57:07.278723Z"
    }
   },
   "outputs": [],
   "source": [
    "expected_names = [\n",
    "    'Date',\n",
    "    'Labor Majority',\n",
    "    'Labor Minority',\n",
    "    'Liberal/National Coalition Majority',\n",
    "    'Liberal/National Coalition Minority']\n",
    "assert column_names == expected_names"
   ]
  }
 ],
 "metadata": {
  "kernelspec": {
   "display_name": "Python 3 (ipykernel)",
   "language": "python",
   "name": "python3"
  },
  "language_info": {
   "codemirror_mode": {
    "name": "ipython",
    "version": 3
   },
   "file_extension": ".py",
   "mimetype": "text/x-python",
   "name": "python",
   "nbconvert_exporter": "python",
   "pygments_lexer": "ipython3",
   "version": "3.9.7"
  },
  "toc": {
   "base_numbering": 1,
   "nav_menu": {},
   "number_sections": true,
   "sideBar": true,
   "skip_h1_title": true,
   "title_cell": "Table of Contents",
   "title_sidebar": "Contents",
   "toc_cell": true,
   "toc_position": {},
   "toc_section_display": true,
   "toc_window_display": true
  },
  "varInspector": {
   "cols": {
    "lenName": 16,
    "lenType": 16,
    "lenVar": 40
   },
   "kernels_config": {
    "python": {
     "delete_cmd_postfix": "",
     "delete_cmd_prefix": "del ",
     "library": "var_list.py",
     "varRefreshCmd": "print(var_dic_list())"
    },
    "r": {
     "delete_cmd_postfix": ") ",
     "delete_cmd_prefix": "rm(",
     "library": "var_list.r",
     "varRefreshCmd": "cat(var_dic_list()) "
    }
   },
   "types_to_exclude": [
    "module",
    "function",
    "builtin_function_or_method",
    "instance",
    "_Feature"
   ],
   "window_display": false
  }
 },
 "nbformat": 4,
 "nbformat_minor": 5
}
